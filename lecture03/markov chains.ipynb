{
 "cells": [
  {
   "cell_type": "code",
   "execution_count": 25,
   "metadata": {},
   "outputs": [],
   "source": [
    "import requests\n",
    "import random"
   ]
  },
  {
   "cell_type": "code",
   "execution_count": 2,
   "metadata": {},
   "outputs": [],
   "source": [
    "url = r\"https://cb.lk/speech\""
   ]
  },
  {
   "cell_type": "code",
   "execution_count": 3,
   "metadata": {},
   "outputs": [],
   "source": [
    "response = requests.get(url)"
   ]
  },
  {
   "cell_type": "code",
   "execution_count": 90,
   "metadata": {},
   "outputs": [],
   "source": [
    "text = response.text"
   ]
  },
  {
   "cell_type": "code",
   "execution_count": null,
   "metadata": {},
   "outputs": [],
   "source": []
  },
  {
   "cell_type": "code",
   "execution_count": 104,
   "metadata": {},
   "outputs": [],
   "source": [
    "k = 5"
   ]
  },
  {
   "cell_type": "code",
   "execution_count": 105,
   "metadata": {},
   "outputs": [],
   "source": [
    "counts = {}\n",
    "\n",
    "for i in range(k, len(text)):\n",
    "    cut = text[i-k: i]\n",
    "    nxt = text[i]\n",
    "    \n",
    "    if cut not in counts:\n",
    "        counts[cut] = {}\n",
    "    \n",
    "    if nxt not in counts[cut]:\n",
    "        counts[cut][nxt] = 0\n",
    "        \n",
    "    \n",
    "    counts[cut][nxt] += 1\n",
    "    \n",
    "    "
   ]
  },
  {
   "cell_type": "code",
   "execution_count": null,
   "metadata": {},
   "outputs": [],
   "source": []
  },
  {
   "cell_type": "code",
   "execution_count": null,
   "metadata": {},
   "outputs": [],
   "source": []
  },
  {
   "cell_type": "code",
   "execution_count": 112,
   "metadata": {},
   "outputs": [],
   "source": [
    "greeting = text[:20]"
   ]
  },
  {
   "cell_type": "code",
   "execution_count": 115,
   "metadata": {},
   "outputs": [],
   "source": [
    "for i in range(500):\n",
    "    cut = greeting[-k:]\n",
    "    top3 = sorted(counts[cut].items(), key=lambda item: item[1], reverse=True)[:3]\n",
    "    chosen = random.choice(top3)[0]\n",
    "    greeting = greeting + chosen\n"
   ]
  },
  {
   "cell_type": "code",
   "execution_count": 116,
   "metadata": {},
   "outputs": [
    {
     "name": "stdout",
     "output_type": "stream",
     "text": [
      "26 8 2016, India\n",
      "Niti Ayog, we water...” Come…let use issuing of technical transparing, asking together as toll free an ideologic, Mandela.\n",
      "From tetanus assurance.\n",
      "A vastly, will, to benchmark and servitude. \n",
      "Today, we\n",
      "also touch to be setting a people...\n",
      "Namastah Suri, we world, interacter. Today's everything.\n",
      "We agreed since traditious tech securing.\n",
      "Shilpa Kukke frontier trust issuing toward terrain wildlife trust, 2016 on earns someone’s powerments.\n",
      "Who donationship.I have thirds off corner only.\n",
      "‘Mann ki Baat within, her connect trade.\n",
      "• I am hostel or two-day more still, news, academy while on an age or not? We need the secure as we arrive, whenever born. The chief, is an energetic physician is a glimpse. People. \n",
      "That with you wouldn’t I propensitive, and, of chemicals can always, its structure of. In an amendments,\n",
      "As the challen assimistical to all.\n",
      "We had, machings. It has a tribes, is to thirst over 1 lakh chilling.\n",
      "We area. \n",
      "Please\n",
      "consigning is, willing increased, trees at thank You!\n",
      "#DELIMIT\n"
     ]
    }
   ],
   "source": [
    "print(greeting)"
   ]
  },
  {
   "cell_type": "code",
   "execution_count": null,
   "metadata": {},
   "outputs": [],
   "source": []
  },
  {
   "cell_type": "code",
   "execution_count": null,
   "metadata": {},
   "outputs": [],
   "source": []
  }
 ],
 "metadata": {
  "kernelspec": {
   "display_name": "Python 3",
   "language": "python",
   "name": "python3"
  },
  "language_info": {
   "codemirror_mode": {
    "name": "ipython",
    "version": 3
   },
   "file_extension": ".py",
   "mimetype": "text/x-python",
   "name": "python",
   "nbconvert_exporter": "python",
   "pygments_lexer": "ipython3",
   "version": "3.7.2"
  }
 },
 "nbformat": 4,
 "nbformat_minor": 4
}
