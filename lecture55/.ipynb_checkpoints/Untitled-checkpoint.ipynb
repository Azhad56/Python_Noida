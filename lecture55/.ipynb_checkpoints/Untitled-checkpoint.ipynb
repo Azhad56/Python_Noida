{
 "cells": [
  {
   "cell_type": "code",
   "execution_count": 1,
   "metadata": {},
   "outputs": [],
   "source": [
    "import requests\n",
    "import json\n",
    "\n",
    "url = \"https://api.github.com/orgs/coding-blocks-archives/repos\"\n",
    "\n",
    "data = requests.get(url)"
   ]
  },
  {
   "cell_type": "code",
   "execution_count": 4,
   "metadata": {},
   "outputs": [],
   "source": [
    "# data.text"
   ]
  },
  {
   "cell_type": "code",
   "execution_count": 5,
   "metadata": {},
   "outputs": [],
   "source": [
    "out = json.loads(data.text)"
   ]
  },
  {
   "cell_type": "code",
   "execution_count": 6,
   "metadata": {},
   "outputs": [
    {
     "data": {
      "text/plain": [
       "dict"
      ]
     },
     "execution_count": 6,
     "metadata": {},
     "output_type": "execute_result"
    }
   ],
   "source": [
    "type(out[0])"
   ]
  },
  {
   "cell_type": "code",
   "execution_count": 7,
   "metadata": {},
   "outputs": [
    {
     "name": "stdout",
     "output_type": "stream",
     "text": [
      "https://api.github.com/repos/coding-blocks-archives/GameDev\n",
      "https://api.github.com/repos/coding-blocks-archives/Django2017Spring\n",
      "https://api.github.com/repos/coding-blocks-archives/Perceptron2017Spring\n",
      "https://api.github.com/repos/coding-blocks-archives/WebDev2016Summer\n",
      "https://api.github.com/repos/coding-blocks-archives/Android2016Summer\n",
      "https://api.github.com/repos/coding-blocks-archives/nsit-game-workshop15\n",
      "https://api.github.com/repos/coding-blocks-archives/IEEEAndroidWorkshop\n",
      "https://api.github.com/repos/coding-blocks-archives/BVICAMAndroidWorkshop\n",
      "https://api.github.com/repos/coding-blocks-archives/Android2016Fall\n",
      "https://api.github.com/repos/coding-blocks-archives/WebNode2016Fall\n",
      "https://api.github.com/repos/coding-blocks-archives/programming_bootcamp_2\n",
      "https://api.github.com/repos/coding-blocks-archives/IICAndroidWorkshop\n",
      "https://api.github.com/repos/coding-blocks-archives/KeshavMahavidyalayaWorkshop\n",
      "https://api.github.com/repos/coding-blocks-archives/Android2016Dec\n",
      "https://api.github.com/repos/coding-blocks-archives/WebNode2016Dec\n",
      "https://api.github.com/repos/coding-blocks-archives/WebDev2017Winter\n",
      "https://api.github.com/repos/coding-blocks-archives/Android2017Spring\n",
      "https://api.github.com/repos/coding-blocks-archives/WebNode2017Spring\n",
      "https://api.github.com/repos/coding-blocks-archives/SimpleCanvasGame\n",
      "https://api.github.com/repos/coding-blocks-archives/Perceptron_Bootcamp_Summer_2017\n",
      "https://api.github.com/repos/coding-blocks-archives/EventManagerNodejs\n",
      "https://api.github.com/repos/coding-blocks-archives/DwarkaAndroid2017Summer\n",
      "https://api.github.com/repos/coding-blocks-archives/DwarkaNodejs2017Summer\n",
      "https://api.github.com/repos/coding-blocks-archives/NagarroBootcampNode\n",
      "https://api.github.com/repos/coding-blocks-archives/Android_2017_Summer_Pitampura\n",
      "https://api.github.com/repos/coding-blocks-archives/Launchpad2_17_Summer_Pitampura\n",
      "https://api.github.com/repos/coding-blocks-archives/Algo_17_Summer_Dwarka\n",
      "https://api.github.com/repos/coding-blocks-archives/Perceptron_Summer_2017\n",
      "https://api.github.com/repos/coding-blocks-archives/schedulecture\n",
      "https://api.github.com/repos/coding-blocks-archives/WebNode_2017_Summer_Pitampura\n"
     ]
    }
   ],
   "source": [
    "for repo in out:\n",
    "    print(repo[\"url\"])"
   ]
  },
  {
   "cell_type": "code",
   "execution_count": null,
   "metadata": {},
   "outputs": [],
   "source": []
  }
 ],
 "metadata": {
  "kernelspec": {
   "display_name": "Python 3",
   "language": "python",
   "name": "python3"
  },
  "language_info": {
   "codemirror_mode": {
    "name": "ipython",
    "version": 3
   },
   "file_extension": ".py",
   "mimetype": "text/x-python",
   "name": "python",
   "nbconvert_exporter": "python",
   "pygments_lexer": "ipython3",
   "version": "3.7.4"
  }
 },
 "nbformat": 4,
 "nbformat_minor": 4
}
