{
  "nbformat": 4,
  "nbformat_minor": 0,
  "metadata": {
    "kernelspec": {
      "display_name": "Python 3",
      "language": "python",
      "name": "python3"
    },
    "language_info": {
      "codemirror_mode": {
        "name": "ipython",
        "version": 3
      },
      "file_extension": ".py",
      "mimetype": "text/x-python",
      "name": "python",
      "nbconvert_exporter": "python",
      "pygments_lexer": "ipython3",
      "version": "3.6.10"
    },
    "colab": {
      "name": "cnn.ipynb",
      "provenance": []
    },
    "accelerator": "GPU"
  },
  "cells": [
    {
      "cell_type": "code",
      "metadata": {
        "id": "7hQZDeJStqo-",
        "colab_type": "code",
        "colab": {}
      },
      "source": [
        "from tensorflow.keras.models import Model\n",
        "from tensorflow.keras.layers import Input, Dense, Flatten, Conv2D, MaxPooling2D, Reshape\n",
        "\n",
        "from tensorflow.keras.datasets import mnist\n",
        "from tensorflow.keras.utils import to_categorical\n",
        "\n",
        "import matplotlib.pyplot as plt\n",
        "from tensorflow.keras.preprocessing.image import ImageDataGenerator\n"
      ],
      "execution_count": 0,
      "outputs": []
    },
    {
      "cell_type": "code",
      "metadata": {
        "id": "1nfdd-x0tqpJ",
        "colab_type": "code",
        "colab": {}
      },
      "source": [
        ""
      ],
      "execution_count": 0,
      "outputs": []
    },
    {
      "cell_type": "code",
      "metadata": {
        "id": "e4cTxou-09gz",
        "colab_type": "code",
        "colab": {}
      },
      "source": [
        ""
      ],
      "execution_count": 0,
      "outputs": []
    },
    {
      "cell_type": "code",
      "metadata": {
        "id": "tfky4azUtqpM",
        "colab_type": "code",
        "colab": {
          "base_uri": "https://localhost:8080/",
          "height": 35
        },
        "outputId": "d34b6b19-29bc-4de8-ad36-a88657202566"
      },
      "source": [
        "generator = ImageDataGenerator(rotation_range=10, shear_range=1.1)\n",
        "gen = generator.flow_from_directory(\"./data/\", batch_size=200, target_size=(50, 50))"
      ],
      "execution_count": 41,
      "outputs": [
        {
          "output_type": "stream",
          "text": [
            "Found 808 images belonging to 4 classes.\n"
          ],
          "name": "stdout"
        }
      ]
    },
    {
      "cell_type": "code",
      "metadata": {
        "id": "RTAN45G2tqpP",
        "colab_type": "code",
        "colab": {}
      },
      "source": [
        "in_layer = Input(shape=(50, 50, 3))\n",
        "conv1 = Conv2D(filters=32, kernel_size=3)(in_layer)\n",
        "pool1 = MaxPooling2D()(conv1)\n",
        "conv2 = Conv2D(filters=64, kernel_size=3)(pool1)\n",
        "pool2 = MaxPooling2D()(conv2)\n",
        "flat = Flatten()(pool2)\n",
        "d1 = Dense(400, activation=\"tanh\")(flat)\n",
        "d2 = Dense(100, activation=\"tanh\")(d1)\n",
        "out = Dense(4, activation=\"softmax\")(d2)"
      ],
      "execution_count": 0,
      "outputs": []
    },
    {
      "cell_type": "code",
      "metadata": {
        "id": "iTueDSRxtqpS",
        "colab_type": "code",
        "colab": {}
      },
      "source": [
        "model = Model(inputs=in_layer, outputs=out)"
      ],
      "execution_count": 0,
      "outputs": []
    },
    {
      "cell_type": "code",
      "metadata": {
        "id": "GdYEWQ-LtqpV",
        "colab_type": "code",
        "colab": {
          "base_uri": "https://localhost:8080/",
          "height": 468
        },
        "outputId": "c786d070-1286-4943-94a2-3182290b44c7"
      },
      "source": [
        "model.summary()"
      ],
      "execution_count": 44,
      "outputs": [
        {
          "output_type": "stream",
          "text": [
            "Model: \"model_4\"\n",
            "_________________________________________________________________\n",
            "Layer (type)                 Output Shape              Param #   \n",
            "=================================================================\n",
            "input_5 (InputLayer)         [(None, 50, 50, 3)]       0         \n",
            "_________________________________________________________________\n",
            "conv2d_8 (Conv2D)            (None, 48, 48, 32)        896       \n",
            "_________________________________________________________________\n",
            "max_pooling2d_8 (MaxPooling2 (None, 24, 24, 32)        0         \n",
            "_________________________________________________________________\n",
            "conv2d_9 (Conv2D)            (None, 22, 22, 64)        18496     \n",
            "_________________________________________________________________\n",
            "max_pooling2d_9 (MaxPooling2 (None, 11, 11, 64)        0         \n",
            "_________________________________________________________________\n",
            "flatten_4 (Flatten)          (None, 7744)              0         \n",
            "_________________________________________________________________\n",
            "dense_12 (Dense)             (None, 400)               3098000   \n",
            "_________________________________________________________________\n",
            "dense_13 (Dense)             (None, 100)               40100     \n",
            "_________________________________________________________________\n",
            "dense_14 (Dense)             (None, 4)                 404       \n",
            "=================================================================\n",
            "Total params: 3,157,896\n",
            "Trainable params: 3,157,896\n",
            "Non-trainable params: 0\n",
            "_________________________________________________________________\n"
          ],
          "name": "stdout"
        }
      ]
    },
    {
      "cell_type": "code",
      "metadata": {
        "id": "4fkL9cNCtqpa",
        "colab_type": "code",
        "colab": {}
      },
      "source": [
        "model.compile(optimizer=\"adam\", loss=\"categorical_crossentropy\", metrics=[\"accuracy\"])"
      ],
      "execution_count": 0,
      "outputs": []
    },
    {
      "cell_type": "code",
      "metadata": {
        "id": "VQS3ko4ktqpe",
        "colab_type": "code",
        "colab": {
          "base_uri": "https://localhost:8080/",
          "height": 208
        },
        "outputId": "d3c26ace-6ebb-488b-91fb-3bd3f1a4ed2a"
      },
      "source": [
        "model.fit_generator(gen, epochs=5, steps_per_epoch=20)"
      ],
      "execution_count": 46,
      "outputs": [
        {
          "output_type": "stream",
          "text": [
            "Epoch 1/5\n",
            "20/20 [==============================] - 9s 444ms/step - loss: 1.5317 - accuracy: 0.2382\n",
            "Epoch 2/5\n",
            "20/20 [==============================] - 9s 452ms/step - loss: 1.4053 - accuracy: 0.2485\n",
            "Epoch 3/5\n",
            "20/20 [==============================] - 9s 445ms/step - loss: 1.4005 - accuracy: 0.2429\n",
            "Epoch 4/5\n",
            "20/20 [==============================] - 9s 442ms/step - loss: 1.3985 - accuracy: 0.2426\n",
            "Epoch 5/5\n",
            "20/20 [==============================] - 9s 452ms/step - loss: 1.3930 - accuracy: 0.2457\n"
          ],
          "name": "stdout"
        },
        {
          "output_type": "execute_result",
          "data": {
            "text/plain": [
              "<tensorflow.python.keras.callbacks.History at 0x7ff482405cc0>"
            ]
          },
          "metadata": {
            "tags": []
          },
          "execution_count": 46
        }
      ]
    },
    {
      "cell_type": "code",
      "metadata": {
        "id": "JKHIlKDJtqpk",
        "colab_type": "code",
        "colab": {
          "base_uri": "https://localhost:8080/",
          "height": 35
        },
        "outputId": "bd56c06b-9db1-4200-f0a3-dce58f72d47c"
      },
      "source": [
        "model.evaluate_generator(gen, steps=10)"
      ],
      "execution_count": 39,
      "outputs": [
        {
          "output_type": "execute_result",
          "data": {
            "text/plain": [
              "[1.3819553852081299, 0.27947598695755005]"
            ]
          },
          "metadata": {
            "tags": []
          },
          "execution_count": 39
        }
      ]
    },
    {
      "cell_type": "code",
      "metadata": {
        "id": "5FulZihJtqpo",
        "colab_type": "code",
        "colab": {}
      },
      "source": [
        "w, b = model.layers[2].weights"
      ],
      "execution_count": 0,
      "outputs": []
    },
    {
      "cell_type": "code",
      "metadata": {
        "id": "tvrV2PDetqpx",
        "colab_type": "code",
        "colab": {}
      },
      "source": [
        "m2 = Model(inputs=model.input, outputs=model.layers[2].output)"
      ],
      "execution_count": 0,
      "outputs": []
    },
    {
      "cell_type": "code",
      "metadata": {
        "id": "ic26Gukttqp6",
        "colab_type": "code",
        "colab": {},
        "outputId": "941b1495-fcbe-467e-83a2-6e15a0ee014c"
      },
      "source": [
        "m2.summary()"
      ],
      "execution_count": 0,
      "outputs": [
        {
          "output_type": "stream",
          "text": [
            "Model: \"model_3\"\n",
            "_________________________________________________________________\n",
            "Layer (type)                 Output Shape              Param #   \n",
            "=================================================================\n",
            "input_8 (InputLayer)         [(None, 28, 28)]          0         \n",
            "_________________________________________________________________\n",
            "reshape_1 (Reshape)          (None, 28, 28, 1)         0         \n",
            "_________________________________________________________________\n",
            "conv2d_7 (Conv2D)            (None, 26, 26, 32)        320       \n",
            "=================================================================\n",
            "Total params: 320\n",
            "Trainable params: 320\n",
            "Non-trainable params: 0\n",
            "_________________________________________________________________\n"
          ],
          "name": "stdout"
        }
      ]
    },
    {
      "cell_type": "code",
      "metadata": {
        "id": "NIAdkSoStqqA",
        "colab_type": "code",
        "colab": {}
      },
      "source": [
        "out = m2.predict(x_train[:5])"
      ],
      "execution_count": 0,
      "outputs": []
    },
    {
      "cell_type": "code",
      "metadata": {
        "id": "PPILG9UetqqE",
        "colab_type": "code",
        "colab": {},
        "outputId": "45eeabc2-f132-454d-ee23-01d6d74dfb78"
      },
      "source": [
        "out.shape"
      ],
      "execution_count": 0,
      "outputs": [
        {
          "output_type": "execute_result",
          "data": {
            "text/plain": [
              "(5, 26, 26, 32)"
            ]
          },
          "metadata": {
            "tags": []
          },
          "execution_count": 54
        }
      ]
    },
    {
      "cell_type": "code",
      "metadata": {
        "id": "qXWlF1W9tqqJ",
        "colab_type": "code",
        "colab": {}
      },
      "source": [
        "selected_batch = out[0]"
      ],
      "execution_count": 0,
      "outputs": []
    },
    {
      "cell_type": "code",
      "metadata": {
        "id": "AR1Q4zRPtqqM",
        "colab_type": "code",
        "colab": {},
        "outputId": "1fc9a5c8-dac5-4262-d94d-0c337b1762ea"
      },
      "source": [
        "selected_batch.shape"
      ],
      "execution_count": 0,
      "outputs": [
        {
          "output_type": "execute_result",
          "data": {
            "text/plain": [
              "(26, 26, 32)"
            ]
          },
          "metadata": {
            "tags": []
          },
          "execution_count": 56
        }
      ]
    },
    {
      "cell_type": "code",
      "metadata": {
        "id": "VE48VYFStqqQ",
        "colab_type": "code",
        "colab": {}
      },
      "source": [
        "for i in range(10):\n",
        "    plt.figure()\n",
        "    plt.imshow(selected_batch[:, :, i])\n",
        "    plt.show()"
      ],
      "execution_count": 0,
      "outputs": []
    },
    {
      "cell_type": "code",
      "metadata": {
        "id": "zNjG30AmtqqT",
        "colab_type": "code",
        "colab": {}
      },
      "source": [
        ""
      ],
      "execution_count": 0,
      "outputs": []
    }
  ]
}