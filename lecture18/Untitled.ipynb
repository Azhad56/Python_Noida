{
 "cells": [
  {
   "cell_type": "code",
   "execution_count": 4,
   "metadata": {},
   "outputs": [],
   "source": [
    "def eq_sum_list(unprocessed,first = (),second = ()):\n",
    "    if len(unprocessed)==0:\n",
    "        if sum(first)==sum(second):\n",
    "            print(first,second)\n",
    "        return\n",
    "    item = unprocessed[0]\n",
    "    left = eq_sum_list(unprocessed[1:],first + (item,),second)\n",
    "    right = eq_sum_list(unprocessed[1:],first,second+(item,))\n",
    "    \n"
   ]
  },
  {
   "cell_type": "code",
   "execution_count": 7,
   "metadata": {},
   "outputs": [
    {
     "name": "stdout",
     "output_type": "stream",
     "text": [
      "(1, 2) (3,)\n",
      "(3,) (1, 2)\n"
     ]
    }
   ],
   "source": [
    "eq_sum_list((1,2,3))"
   ]
  },
  {
   "cell_type": "code",
   "execution_count": 8,
   "metadata": {},
   "outputs": [
    {
     "name": "stdout",
     "output_type": "stream",
     "text": [
      "(1, 4) (2, 3)\n",
      "(2, 3) (1, 4)\n"
     ]
    }
   ],
   "source": [
    "eq_sum_list((1,2,3,4))"
   ]
  },
  {
   "cell_type": "markdown",
   "metadata": {},
   "source": [
    "# Backtracking example"
   ]
  },
  {
   "cell_type": "code",
   "execution_count": 15,
   "metadata": {},
   "outputs": [],
   "source": [
    "def eq_sum_list_second(unprocessed,first = [],second = []):\n",
    "    if len(unprocessed)==0:\n",
    "        if sum(first)==sum(second):\n",
    "            print(first,second)\n",
    "        return\n",
    "    item = unprocessed[0]\n",
    "    first.append(item)\n",
    "    eq_sum_list_second(unprocessed[1:],first,second)\n",
    "    first.pop()\n",
    "    second.append(item)\n",
    "    eq_sum_list_second(unprocessed[1:],first,second)\n",
    "    second.pop()"
   ]
  },
  {
   "cell_type": "code",
   "execution_count": 16,
   "metadata": {},
   "outputs": [
    {
     "name": "stdout",
     "output_type": "stream",
     "text": [
      "[1, 2] [3]\n",
      "[3] [1, 2]\n"
     ]
    }
   ],
   "source": [
    "eq_sum_list_second([1,2,3])"
   ]
  },
  {
   "cell_type": "code",
   "execution_count": 19,
   "metadata": {},
   "outputs": [],
   "source": [
    "def eq_sum_list_third(unprocessed,index = 0,first = [],second = []):\n",
    "    if len(unprocessed)==index:\n",
    "        if sum(first)==sum(second):\n",
    "            print(first,second)\n",
    "        return\n",
    "    item = unprocessed[index]\n",
    "    first.append(item)\n",
    "    eq_sum_list_third(unprocessed,index+1,first,second)\n",
    "    first.pop()\n",
    "    second.append(item)\n",
    "    eq_sum_list_third(unprocessed,index+1,first,second)\n",
    "    second.pop()"
   ]
  },
  {
   "cell_type": "code",
   "execution_count": 20,
   "metadata": {},
   "outputs": [
    {
     "name": "stdout",
     "output_type": "stream",
     "text": [
      "[1, 2] [3]\n",
      "[3] [1, 2]\n"
     ]
    }
   ],
   "source": [
    "eq_sum_list_third([1,2,3])"
   ]
  },
  {
   "cell_type": "code",
   "execution_count": null,
   "metadata": {},
   "outputs": [],
   "source": []
  }
 ],
 "metadata": {
  "kernelspec": {
   "display_name": "Python 3",
   "language": "python",
   "name": "python3"
  },
  "language_info": {
   "codemirror_mode": {
    "name": "ipython",
    "version": 3
   },
   "file_extension": ".py",
   "mimetype": "text/x-python",
   "name": "python",
   "nbconvert_exporter": "python",
   "pygments_lexer": "ipython3",
   "version": "3.7.4"
  }
 },
 "nbformat": 4,
 "nbformat_minor": 4
}
