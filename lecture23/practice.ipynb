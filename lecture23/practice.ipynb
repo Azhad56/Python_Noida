{
 "cells": [
  {
   "cell_type": "code",
   "execution_count": 1,
   "metadata": {},
   "outputs": [],
   "source": [
    "class Vertex:\n",
    "    def __init__(self,value):\n",
    "        self.value = value\n",
    "        self.neighbours = []\n",
    "    def __repr__(self):\n",
    "        return str(self.value)"
   ]
  },
  {
   "cell_type": "code",
   "execution_count": 2,
   "metadata": {},
   "outputs": [],
   "source": [
    "class Graph:\n",
    "    def __init__(self):\n",
    "        self.vertices = []\n",
    "    def find(self,value):\n",
    "        for vertex in self.vertices:\n",
    "            if vertex.value == value:\n",
    "                return vertex\n",
    "        return None\n",
    "    def add_vertex(self,value):\n",
    "        if not self.find(value):\n",
    "            self.vertices.append(Vertex(value))\n",
    "        else:\n",
    "            print(value,\"already exist\")\n",
    "    def add_edge(self,source,target):\n",
    "        source_v = self.find(source)\n",
    "        target_v = self.find(target)\n",
    "        if source_v and target_v:\n",
    "            source_v.neighbours.append(target_v)\n",
    "            target_v.neighbours.append(source_v)\n",
    "        else:\n",
    "            print(\"some of\",source,target,\"is missing\")\n",
    "    def display(self):\n",
    "        for vertex in self.vertices:\n",
    "            print(vertex,end=\":\")\n",
    "            print(\",\".join([str(neighbour) for neighbour in vertex.neighbours]))\n",
    "#             print(vertex.neighbours)\n",
    "#             print(vertex,\":\",vertex.neighbours)\n",
    "    def connected_component(self):\n",
    "        queue = list()\n",
    "        visited = set()\n",
    "        components = []\n",
    "        for vertex in self.vertices:\n",
    "            if vertex not in visited:\n",
    "                component = set()\n",
    "                queue.append(vertex)\n",
    "                visited.add(vertex)\n",
    "                while len(queue) > 0:\n",
    "                    vertex = queue.pop(0)\n",
    "                    component.add(vertex)\n",
    "                    for neighbour in vertex.neighbours:\n",
    "                        if neighbour not in visited:\n",
    "                            visited.add(neighbour)\n",
    "                            queue.append(neighbour)\n",
    "                components.append(component)\n",
    "        return components\n",
    "    def is_bipartite(self):\n",
    "        queue = list()\n",
    "        visited = set()\n",
    "        red = set()\n",
    "        green = set()\n",
    "        for vertex in self.vertices:\n",
    "            if vertex not in visited:\n",
    "                queue.append(vertex)\n",
    "                visited.add(vertex)\n",
    "                red.add(vertex)\n",
    "                while len(queue) > 0:\n",
    "                    vertex = queue.pop(0)\n",
    "                    for neighbour in vertex.neighbours:\n",
    "                        if neighbour not in visited:\n",
    "                            if vertex in red:\n",
    "                                green.add(neighbour)\n",
    "                            if vertex in green:\n",
    "                                red.add(neighbour)\n",
    "                            queue.append(neighbour)\n",
    "                            visited.add(neighbour)\n",
    "                        else:    \n",
    "                            if vertex in red and neighbour in green:\n",
    "                                return False\n",
    "                            if vertex in green and neighbour in green:\n",
    "                                return False\n",
    "        return True\n",
    "            \n",
    "            \n",
    "            "
   ]
  },
  {
   "cell_type": "code",
   "execution_count": 3,
   "metadata": {},
   "outputs": [
    {
     "name": "stdout",
     "output_type": "stream",
     "text": [
      "[{2, 3, 4, 1}, {5}]\n"
     ]
    },
    {
     "data": {
      "text/plain": [
       "False"
      ]
     },
     "execution_count": 3,
     "metadata": {},
     "output_type": "execute_result"
    }
   ],
   "source": [
    "graph = Graph()\n",
    "graph.add_vertex(1)\n",
    "graph.add_vertex(2)\n",
    "graph.add_vertex(3)\n",
    "graph.add_vertex(4)\n",
    "graph.add_vertex(5)\n",
    "graph.add_edge(1,2)\n",
    "graph.add_edge(1,3)\n",
    "graph.add_edge(2,3)\n",
    "graph.add_edge(3,4)\n",
    "print(graph.connected_component())\n",
    "graph.is_bipartite()"
   ]
  },
  {
   "cell_type": "code",
   "execution_count": 21,
   "metadata": {},
   "outputs": [],
   "source": [
    "class Vertex:\n",
    "    def __init__(self,value):\n",
    "        self.value = value\n",
    "        self.neighbours = {}\n",
    "    def __repr__(self):\n",
    "        return str(self.value)"
   ]
  },
  {
   "cell_type": "code",
   "execution_count": 31,
   "metadata": {},
   "outputs": [],
   "source": [
    "class AdjMap:\n",
    "    def __init__(self):\n",
    "        self.vertices = {}\n",
    "    def find(self,value):\n",
    "        return self.vertices.get(value)\n",
    "    def add_vertex(self,value):\n",
    "        if not self.find(value):\n",
    "            self.vertices[value] = Vertex(value)\n",
    "        else:\n",
    "            print(value,\"Already exist\")\n",
    "    def add_edge(self,source,target,weight = 1):\n",
    "        source_v = self.find(source)\n",
    "        target_v = self.find(target)\n",
    "        if source_v and target_v:\n",
    "            source_v.neighbours[target_v] = target_v\n",
    "            target_v.neighbours[source_v] = source_v\n",
    "        else:\n",
    "            print(\"Some of source\",source,\"or \",target,\"is missing\")\n",
    "    def display(self):\n",
    "        for vertex in self.vertices.values():\n",
    "            print(vertex,vertex.neighbours)"
   ]
  },
  {
   "cell_type": "code",
   "execution_count": 32,
   "metadata": {},
   "outputs": [
    {
     "ename": "AttributeError",
     "evalue": "'dict' object has no attribute 'append'",
     "output_type": "error",
     "traceback": [
      "\u001b[0;31m---------------------------------------------------------------------------\u001b[0m",
      "\u001b[0;31mAttributeError\u001b[0m                            Traceback (most recent call last)",
      "\u001b[0;32m<ipython-input-32-92dbe8652383>\u001b[0m in \u001b[0;36m<module>\u001b[0;34m\u001b[0m\n\u001b[1;32m      6\u001b[0m     \u001b[0mgraph\u001b[0m\u001b[0;34m.\u001b[0m\u001b[0madd_vertex\u001b[0m\u001b[0;34m(\u001b[0m\u001b[0;34m\"D\"\u001b[0m\u001b[0;34m)\u001b[0m\u001b[0;34m\u001b[0m\u001b[0;34m\u001b[0m\u001b[0m\n\u001b[1;32m      7\u001b[0m     \u001b[0mgraph\u001b[0m\u001b[0;34m.\u001b[0m\u001b[0madd_vertex\u001b[0m\u001b[0;34m(\u001b[0m\u001b[0;34m\"E\"\u001b[0m\u001b[0;34m)\u001b[0m\u001b[0;34m\u001b[0m\u001b[0;34m\u001b[0m\u001b[0m\n\u001b[0;32m----> 8\u001b[0;31m     \u001b[0mgraph\u001b[0m\u001b[0;34m.\u001b[0m\u001b[0madd_edge\u001b[0m\u001b[0;34m(\u001b[0m\u001b[0;34m\"A\"\u001b[0m\u001b[0;34m,\u001b[0m\u001b[0;34m\"B\"\u001b[0m\u001b[0;34m)\u001b[0m\u001b[0;34m\u001b[0m\u001b[0;34m\u001b[0m\u001b[0m\n\u001b[0m\u001b[1;32m      9\u001b[0m     \u001b[0mgraph\u001b[0m\u001b[0;34m.\u001b[0m\u001b[0madd_edge\u001b[0m\u001b[0;34m(\u001b[0m\u001b[0;34m\"B\"\u001b[0m\u001b[0;34m,\u001b[0m\u001b[0;34m\"C\"\u001b[0m\u001b[0;34m)\u001b[0m\u001b[0;34m\u001b[0m\u001b[0;34m\u001b[0m\u001b[0m\n\u001b[1;32m     10\u001b[0m     \u001b[0mgraph\u001b[0m\u001b[0;34m.\u001b[0m\u001b[0madd_edge\u001b[0m\u001b[0;34m(\u001b[0m\u001b[0;34m\"C\"\u001b[0m\u001b[0;34m,\u001b[0m\u001b[0;34m\"D\"\u001b[0m\u001b[0;34m)\u001b[0m\u001b[0;34m\u001b[0m\u001b[0;34m\u001b[0m\u001b[0m\n",
      "\u001b[0;32m<ipython-input-2-850c96f06fc2>\u001b[0m in \u001b[0;36madd_edge\u001b[0;34m(self, source, target)\u001b[0m\n\u001b[1;32m     16\u001b[0m         \u001b[0mtarget_v\u001b[0m \u001b[0;34m=\u001b[0m \u001b[0mself\u001b[0m\u001b[0;34m.\u001b[0m\u001b[0mfind\u001b[0m\u001b[0;34m(\u001b[0m\u001b[0mtarget\u001b[0m\u001b[0;34m)\u001b[0m\u001b[0;34m\u001b[0m\u001b[0;34m\u001b[0m\u001b[0m\n\u001b[1;32m     17\u001b[0m         \u001b[0;32mif\u001b[0m \u001b[0msource_v\u001b[0m \u001b[0;32mand\u001b[0m \u001b[0mtarget_v\u001b[0m\u001b[0;34m:\u001b[0m\u001b[0;34m\u001b[0m\u001b[0;34m\u001b[0m\u001b[0m\n\u001b[0;32m---> 18\u001b[0;31m             \u001b[0msource_v\u001b[0m\u001b[0;34m.\u001b[0m\u001b[0mneighbours\u001b[0m\u001b[0;34m.\u001b[0m\u001b[0mappend\u001b[0m\u001b[0;34m(\u001b[0m\u001b[0mtarget_v\u001b[0m\u001b[0;34m)\u001b[0m\u001b[0;34m\u001b[0m\u001b[0;34m\u001b[0m\u001b[0m\n\u001b[0m\u001b[1;32m     19\u001b[0m             \u001b[0mtarget_v\u001b[0m\u001b[0;34m.\u001b[0m\u001b[0mneighbours\u001b[0m\u001b[0;34m.\u001b[0m\u001b[0mappend\u001b[0m\u001b[0;34m(\u001b[0m\u001b[0msource_v\u001b[0m\u001b[0;34m)\u001b[0m\u001b[0;34m\u001b[0m\u001b[0;34m\u001b[0m\u001b[0m\n\u001b[1;32m     20\u001b[0m         \u001b[0;32melse\u001b[0m\u001b[0;34m:\u001b[0m\u001b[0;34m\u001b[0m\u001b[0;34m\u001b[0m\u001b[0m\n",
      "\u001b[0;31mAttributeError\u001b[0m: 'dict' object has no attribute 'append'"
     ]
    }
   ],
   "source": [
    "if __name__ ==\"__main__\":\n",
    "    graph = Graph()\n",
    "    graph.add_vertex(\"A\")\n",
    "    graph.add_vertex(\"B\")\n",
    "    graph.add_vertex(\"C\")\n",
    "    graph.add_vertex(\"D\")\n",
    "    graph.add_vertex(\"E\")\n",
    "    graph.add_edge(\"A\",\"B\")\n",
    "    graph.add_edge(\"B\",\"C\")\n",
    "    graph.add_edge(\"C\",\"D\")\n",
    "    graph.display()"
   ]
  },
  {
   "cell_type": "code",
   "execution_count": null,
   "metadata": {},
   "outputs": [],
   "source": []
  },
  {
   "cell_type": "code",
   "execution_count": null,
   "metadata": {},
   "outputs": [],
   "source": []
  },
  {
   "cell_type": "code",
   "execution_count": null,
   "metadata": {},
   "outputs": [],
   "source": []
  },
  {
   "cell_type": "code",
   "execution_count": null,
   "metadata": {},
   "outputs": [],
   "source": []
  }
 ],
 "metadata": {
  "kernelspec": {
   "display_name": "Python 3",
   "language": "python",
   "name": "python3"
  },
  "language_info": {
   "codemirror_mode": {
    "name": "ipython",
    "version": 3
   },
   "file_extension": ".py",
   "mimetype": "text/x-python",
   "name": "python",
   "nbconvert_exporter": "python",
   "pygments_lexer": "ipython3",
   "version": "3.7.4"
  }
 },
 "nbformat": 4,
 "nbformat_minor": 2
}
