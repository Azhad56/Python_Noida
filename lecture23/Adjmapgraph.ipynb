{
 "cells": [
  {
   "cell_type": "code",
   "execution_count": 1,
   "metadata": {},
   "outputs": [],
   "source": [
    "class Vertex:\n",
    "    def __init__(self,value):\n",
    "        self.value = value\n",
    "        self.neighbours = {}\n",
    "    def __repr__(self):\n",
    "        return str(self.value)"
   ]
  },
  {
   "cell_type": "code",
   "execution_count": 2,
   "metadata": {},
   "outputs": [],
   "source": [
    "class Graph:\n",
    "    def __init__(self):\n",
    "        self.vertices = {}\n",
    "    def find(self,value):\n",
    "        return self.vertices.get(value)\n",
    "    def add_vertex(self,value):\n",
    "        if not self.find(value):\n",
    "            self.vertices[value] = (Vertex(value))\n",
    "        else:\n",
    "            print(value,\"already exist\")\n",
    "    def add_edge(self,source,target,weight=1):\n",
    "        source_v = self.find(source)\n",
    "        target_v = self.find(target)\n",
    "        if source_v and target_v:\n",
    "            source_v.neighbours[target_v] = weight\n",
    "            target_v.neighbours[source_v] = weight\n",
    "        else:\n",
    "            print(\"Some of \",source,\"or \",target,\"is missing\")\n",
    "    def display(self):\n",
    "        for vertex in self.vertices.values():\n",
    "            print(vertex,\":\",vertex.neighbours)"
   ]
  },
  {
   "cell_type": "code",
   "execution_count": 3,
   "metadata": {},
   "outputs": [
    {
     "name": "stdout",
     "output_type": "stream",
     "text": [
      "A : {B: 1}\n",
      "B : {A: 1, C: 1}\n",
      "C : {B: 1, D: 1}\n",
      "D : {C: 1}\n",
      "E : {}\n"
     ]
    }
   ],
   "source": [
    "if __name__ ==\"__main__\":\n",
    "    graph = Graph()\n",
    "    graph.add_vertex(\"A\")\n",
    "    graph.add_vertex(\"B\")\n",
    "    graph.add_vertex(\"C\")\n",
    "    graph.add_vertex(\"D\")\n",
    "    graph.add_vertex(\"E\")\n",
    "    graph.add_edge(\"A\",\"B\")\n",
    "    graph.add_edge(\"B\",\"C\")\n",
    "    graph.add_edge(\"C\",\"D\")\n",
    "    graph.display()"
   ]
  },
  {
   "cell_type": "code",
   "execution_count": null,
   "metadata": {},
   "outputs": [],
   "source": []
  }
 ],
 "metadata": {
  "kernelspec": {
   "display_name": "Python 3",
   "language": "python",
   "name": "python3"
  },
  "language_info": {
   "codemirror_mode": {
    "name": "ipython",
    "version": 3
   },
   "file_extension": ".py",
   "mimetype": "text/x-python",
   "name": "python",
   "nbconvert_exporter": "python",
   "pygments_lexer": "ipython3",
   "version": "3.7.4"
  }
 },
 "nbformat": 4,
 "nbformat_minor": 2
}
