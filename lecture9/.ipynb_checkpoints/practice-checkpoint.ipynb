{
 "cells": [
  {
   "cell_type": "code",
   "execution_count": 18,
   "metadata": {},
   "outputs": [],
   "source": [
    "from bs4 import BeautifulSoup\n",
    "import requests\n",
    "import pandas as pd"
   ]
  },
  {
   "cell_type": "code",
   "execution_count": 19,
   "metadata": {},
   "outputs": [],
   "source": [
    "url = r\"https://www.goodreads.com/quotes?page=0\"\n",
    "response = requests.get(url)\n",
    "soup = BeautifulSoup(response.text)\n"
   ]
  },
  {
   "cell_type": "code",
   "execution_count": 20,
   "metadata": {},
   "outputs": [],
   "source": [
    "quotes = soup.find_all(\"div\",attrs={\"class\":\"quote\"})"
   ]
  },
  {
   "cell_type": "code",
   "execution_count": 21,
   "metadata": {},
   "outputs": [],
   "source": [
    "# quotes"
   ]
  },
  {
   "cell_type": "code",
   "execution_count": 22,
   "metadata": {},
   "outputs": [],
   "source": [
    "books=[]"
   ]
  },
  {
   "cell_type": "code",
   "execution_count": 23,
   "metadata": {},
   "outputs": [],
   "source": [
    "\n",
    "for quote_items in quotes:\n",
    "    quote_items = quote_items.find_next(\"div\",attrs={\"class\":\"quoteText\"})\n",
    "    quote = quote_items.text.strip().split('\\n')[0]\n",
    "    author = quote_items.span.text.strip()\n",
    "    left = quote_items.find_next(\"div\", attrs={\"class\" : \"left\"})\n",
    "    li_tags_links = left.find_all(\"a\")\n",
    "    tags = [tag_link.text for tag_link in li_tags_links]\n",
    "    quote_books={\n",
    "        \"quote\" : quote,\n",
    "        \"author\" : author,\n",
    "        \"tags\" : tags\n",
    "    }\n",
    "    books.append(quote_books)"
   ]
  },
  {
   "cell_type": "code",
   "execution_count": 24,
   "metadata": {},
   "outputs": [],
   "source": [
    "books_table = pd.DataFrame(books)"
   ]
  },
  {
   "cell_type": "code",
   "execution_count": 32,
   "metadata": {},
   "outputs": [],
   "source": [
    "def process(url_link):\n",
    "    response = requests.get(url_link)\n",
    "    soup = BeautifulSoup(response.text)\n",
    "    quotes = soup.find_all(\"div\",attrs={\"class\":\"quote\"})\n",
    "    books=[]\n",
    "    for quote_items in quotes:\n",
    "        quote_items = quote_items.find_next(\"div\",attrs={\"class\":\"quoteText\"})\n",
    "        quote = quote_items.text.strip().split('\\n')[0]\n",
    "        author = quote_items.span.text.strip()\n",
    "        left = quote_items.find_next(\"div\", attrs={\"class\" : \"left\"})\n",
    "        li_tags_links = left.find_all(\"a\")\n",
    "        tags = [tag_link.text for tag_link in li_tags_links]\n",
    "        quote_books={\n",
    "            \"quote\" : quote,\n",
    "            \"author\" : author,\n",
    "            \"tags\" : tags\n",
    "        }\n",
    "        books.append(quote_books)\n",
    "    return books"
   ]
  },
  {
   "cell_type": "code",
   "execution_count": null,
   "metadata": {},
   "outputs": [],
   "source": []
  },
  {
   "cell_type": "code",
   "execution_count": null,
   "metadata": {},
   "outputs": [],
   "source": []
  },
  {
   "cell_type": "code",
   "execution_count": 1,
   "metadata": {},
   "outputs": [
    {
     "name": "stdout",
     "output_type": "stream",
     "text": [
      "Processing love page 0\n",
      "https://www.goodreads.com/quotes/tag/love?page=0\n"
     ]
    },
    {
     "ename": "NameError",
     "evalue": "name 'process' is not defined",
     "output_type": "error",
     "traceback": [
      "\u001b[0;31m---------------------------------------------------------------------------\u001b[0m",
      "\u001b[0;31mNameError\u001b[0m                                 Traceback (most recent call last)",
      "\u001b[0;32m<ipython-input-1-104a4b9648bc>\u001b[0m in \u001b[0;36m<module>\u001b[0;34m\u001b[0m\n\u001b[1;32m      7\u001b[0m         \u001b[0mformatted_url\u001b[0m \u001b[0;34m=\u001b[0m \u001b[0murl\u001b[0m\u001b[0;34m.\u001b[0m\u001b[0mformat\u001b[0m\u001b[0;34m(\u001b[0m\u001b[0me\u001b[0m\u001b[0;34m,\u001b[0m\u001b[0mi\u001b[0m\u001b[0;34m)\u001b[0m\u001b[0;34m\u001b[0m\u001b[0;34m\u001b[0m\u001b[0m\n\u001b[1;32m      8\u001b[0m         \u001b[0mprint\u001b[0m\u001b[0;34m(\u001b[0m\u001b[0mformatted_url\u001b[0m\u001b[0;34m)\u001b[0m\u001b[0;34m\u001b[0m\u001b[0;34m\u001b[0m\u001b[0m\n\u001b[0;32m----> 9\u001b[0;31m         \u001b[0mout\u001b[0m \u001b[0;34m=\u001b[0m \u001b[0mprocess\u001b[0m\u001b[0;34m(\u001b[0m\u001b[0mformatted_url\u001b[0m\u001b[0;34m)\u001b[0m\u001b[0;34m\u001b[0m\u001b[0;34m\u001b[0m\u001b[0m\n\u001b[0m\u001b[1;32m     10\u001b[0m         \u001b[0mchunk\u001b[0m\u001b[0;34m.\u001b[0m\u001b[0mextend\u001b[0m\u001b[0;34m(\u001b[0m\u001b[0mout\u001b[0m\u001b[0;34m)\u001b[0m\u001b[0;34m\u001b[0m\u001b[0;34m\u001b[0m\u001b[0m\n",
      "\u001b[0;31mNameError\u001b[0m: name 'process' is not defined"
     ]
    }
   ],
   "source": [
    "page = [\"love\",\"life\",\"inspirational\",\"Humor\",\"Philosophy\",\"God\"]\n",
    "url = r\"https://www.goodreads.com/quotes/tag/{}?page={}\"\n",
    "chunk = []\n",
    "for e in page:\n",
    "    for i in range(1):\n",
    "        print(\"Processing {} page {}\".format(e,i))\n",
    "        formatted_url = url.format(e,i)\n",
    "        print(formatted_url)\n",
    "        out = process(formatted_url)\n",
    "        chunk.extend(out)"
   ]
  },
  {
   "cell_type": "markdown",
   "metadata": {},
   "source": [
    "# Creating a dabase of each quotes"
   ]
  },
  {
   "cell_type": "code",
   "execution_count": 27,
   "metadata": {},
   "outputs": [],
   "source": [
    "quote_table = pd.DataFrame(chunk)"
   ]
  },
  {
   "cell_type": "code",
   "execution_count": 28,
   "metadata": {},
   "outputs": [],
   "source": [
    "love_table = quote_table[:300]\n",
    "life_table = quote_table[300:600]\n",
    "inspirational_table = quote_table[600:900]\n",
    "Humor_table = quote_table[900:1200]\n",
    "Philosophy_table = quote_table[1200:1500]\n",
    "God_table = quote_table[1500:1800]"
   ]
  },
  {
   "cell_type": "code",
   "execution_count": 29,
   "metadata": {},
   "outputs": [
    {
     "data": {
      "text/html": [
       "<div>\n",
       "<style scoped>\n",
       "    .dataframe tbody tr th:only-of-type {\n",
       "        vertical-align: middle;\n",
       "    }\n",
       "\n",
       "    .dataframe tbody tr th {\n",
       "        vertical-align: top;\n",
       "    }\n",
       "\n",
       "    .dataframe thead th {\n",
       "        text-align: right;\n",
       "    }\n",
       "</style>\n",
       "<table border=\"1\" class=\"dataframe\">\n",
       "  <thead>\n",
       "    <tr style=\"text-align: right;\">\n",
       "      <th></th>\n",
       "      <th>quote</th>\n",
       "      <th>author</th>\n",
       "      <th>tags</th>\n",
       "    </tr>\n",
       "  </thead>\n",
       "  <tbody>\n",
       "    <tr>\n",
       "      <td>0</td>\n",
       "      <td>“I'm selfish, impatient and a little insecure....</td>\n",
       "      <td>Marilyn Monroe</td>\n",
       "      <td>[attributed-no-source, best, life, love, mista...</td>\n",
       "    </tr>\n",
       "    <tr>\n",
       "      <td>1</td>\n",
       "      <td>“Be yourself; everyone else is already taken.”</td>\n",
       "      <td>Oscar Wilde</td>\n",
       "      <td>[attributed-no-source, be-yourself, honesty, i...</td>\n",
       "    </tr>\n",
       "    <tr>\n",
       "      <td>2</td>\n",
       "      <td>“Two things are infinite: the universe and hum...</td>\n",
       "      <td>Albert Einstein</td>\n",
       "      <td>[attributed-no-source, human-nature, humor, in...</td>\n",
       "    </tr>\n",
       "    <tr>\n",
       "      <td>3</td>\n",
       "      <td>“So many books, so little time.”</td>\n",
       "      <td>Frank Zappa</td>\n",
       "      <td>[books, humor]</td>\n",
       "    </tr>\n",
       "    <tr>\n",
       "      <td>4</td>\n",
       "      <td>“Be who you are and say what you feel, because...</td>\n",
       "      <td>Bernard M. Baruch</td>\n",
       "      <td>[ataraxy, be-yourself, confidence, fitting-in,...</td>\n",
       "    </tr>\n",
       "    <tr>\n",
       "      <td>...</td>\n",
       "      <td>...</td>\n",
       "      <td>...</td>\n",
       "      <td>...</td>\n",
       "    </tr>\n",
       "    <tr>\n",
       "      <td>175</td>\n",
       "      <td>“To be yourself in a world that is constantly ...</td>\n",
       "      <td>Ralph Waldo Emerson</td>\n",
       "      <td>[accomplishment, attributed-no-source, be-your...</td>\n",
       "    </tr>\n",
       "    <tr>\n",
       "      <td>176</td>\n",
       "      <td>“Here's to the crazy ones. The misfits. The re...</td>\n",
       "      <td>Rob Siltanen</td>\n",
       "      <td>[advertising, apple, change, commercial, compu...</td>\n",
       "    </tr>\n",
       "    <tr>\n",
       "      <td>177</td>\n",
       "      <td>“Insanity is doing the same thing, over and ov...</td>\n",
       "      <td>Narcotics Anonymous</td>\n",
       "      <td>[humor, insanity, life, misattributed-ben-fran...</td>\n",
       "    </tr>\n",
       "    <tr>\n",
       "      <td>178</td>\n",
       "      <td>“I believe that everything happens for a reaso...</td>\n",
       "      <td>Marilyn Monroe</td>\n",
       "      <td>[attributed-no-source, misattributed-marilyn-m...</td>\n",
       "    </tr>\n",
       "    <tr>\n",
       "      <td>179</td>\n",
       "      <td>“Twenty years from now you will be more disapp...</td>\n",
       "      <td>H. Jackson Brown Jr.,</td>\n",
       "      <td>[actions, disappointed, disappointment, dream,...</td>\n",
       "    </tr>\n",
       "  </tbody>\n",
       "</table>\n",
       "<p>180 rows × 3 columns</p>\n",
       "</div>"
      ],
      "text/plain": [
       "                                                 quote                 author  \\\n",
       "0    “I'm selfish, impatient and a little insecure....         Marilyn Monroe   \n",
       "1       “Be yourself; everyone else is already taken.”            Oscar Wilde   \n",
       "2    “Two things are infinite: the universe and hum...        Albert Einstein   \n",
       "3                     “So many books, so little time.”            Frank Zappa   \n",
       "4    “Be who you are and say what you feel, because...      Bernard M. Baruch   \n",
       "..                                                 ...                    ...   \n",
       "175  “To be yourself in a world that is constantly ...    Ralph Waldo Emerson   \n",
       "176  “Here's to the crazy ones. The misfits. The re...           Rob Siltanen   \n",
       "177  “Insanity is doing the same thing, over and ov...    Narcotics Anonymous   \n",
       "178  “I believe that everything happens for a reaso...         Marilyn Monroe   \n",
       "179  “Twenty years from now you will be more disapp...  H. Jackson Brown Jr.,   \n",
       "\n",
       "                                                  tags  \n",
       "0    [attributed-no-source, best, life, love, mista...  \n",
       "1    [attributed-no-source, be-yourself, honesty, i...  \n",
       "2    [attributed-no-source, human-nature, humor, in...  \n",
       "3                                       [books, humor]  \n",
       "4    [ataraxy, be-yourself, confidence, fitting-in,...  \n",
       "..                                                 ...  \n",
       "175  [accomplishment, attributed-no-source, be-your...  \n",
       "176  [advertising, apple, change, commercial, compu...  \n",
       "177  [humor, insanity, life, misattributed-ben-fran...  \n",
       "178  [attributed-no-source, misattributed-marilyn-m...  \n",
       "179  [actions, disappointed, disappointment, dream,...  \n",
       "\n",
       "[180 rows x 3 columns]"
      ]
     },
     "execution_count": 29,
     "metadata": {},
     "output_type": "execute_result"
    }
   ],
   "source": [
    "quote_table"
   ]
  },
  {
   "cell_type": "code",
   "execution_count": null,
   "metadata": {},
   "outputs": [],
   "source": []
  },
  {
   "cell_type": "code",
   "execution_count": null,
   "metadata": {},
   "outputs": [],
   "source": []
  }
 ],
 "metadata": {
  "kernelspec": {
   "display_name": "Python 3",
   "language": "python",
   "name": "python3"
  }
 },
 "nbformat": 4,
 "nbformat_minor": 4
}
