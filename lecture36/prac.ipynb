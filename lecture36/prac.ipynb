{
 "cells": [
  {
   "cell_type": "code",
   "execution_count": 30,
   "metadata": {},
   "outputs": [],
   "source": [
    "import numpy as np\n",
    "import pandas as pd\n",
    "import matplotlib.pyplot as plt\n",
    "from sklearn.preprocessing import LabelEncoder\n",
    "from sklearn.model_selection import train_test_split"
   ]
  },
  {
   "cell_type": "code",
   "execution_count": 24,
   "metadata": {},
   "outputs": [],
   "source": [
    "bullets = 10\n",
    "entropies = []\n",
    "for real in range(0,11):\n",
    "    fake = bullets-real\n",
    "    data = ['r'] * real + ['f']*fake\n",
    "    items,counts = np.unique(data,return_counts=True)\n",
    "    p = counts/len(data)\n",
    "    entropies.append(np.sum(-p*np.log(p)))"
   ]
  },
  {
   "cell_type": "code",
   "execution_count": 25,
   "metadata": {},
   "outputs": [
    {
     "data": {
      "text/plain": [
       "[<matplotlib.lines.Line2D at 0x7f6f76be5290>]"
      ]
     },
     "execution_count": 25,
     "metadata": {},
     "output_type": "execute_result"
    },
    {
     "data": {
      "image/png": "[encoded data removed]",
      "text/plain": [
       "<Figure size 432x288 with 1 Axes>"
      ]
     },
     "metadata": {
      "needs_background": "light"
     },
     "output_type": "display_data"
    }
   ],
   "source": [
    "plt.plot(entropies)"
   ]
  },
  {
   "cell_type": "code",
   "execution_count": 26,
   "metadata": {},
   "outputs": [],
   "source": [
    "data = pd.read_csv(\"../datasets/titanic/train.csv\")\n",
    "mod = data.drop(['PassengerId', 'Name', 'Ticket', 'Fare', 'Cabin', 'Embarked'], axis=1)\n",
    "mod[\"Sex\"] = LabelEncoder().fit_transform(mod[\"Sex\"])\n",
    "mod_full = mod.dropna()\n",
    "mod_blank = mod.loc[mod[\"Age\"].isna()]\n",
    "table = mod_full.groupby([\"Sex\", \"Pclass\"]).mean()[[\"Age\"]].reset_index()"
   ]
  },
  {
   "cell_type": "code",
   "execution_count": 27,
   "metadata": {},
   "outputs": [],
   "source": [
    "def fillAge(row):\n",
    "    row[\"Age\"] = table.loc[(table[\"Sex\"] == row[\"Sex\"]) &(table[\"Pclass\"] == row[\"Pclass\"])].iloc[0][\"Age\"]\n",
    "    return row\n",
    "\n",
    "mod_filled = mod_blank.apply(fillAge, axis=1)"
   ]
  },
  {
   "cell_type": "code",
   "execution_count": 31,
   "metadata": {},
   "outputs": [],
   "source": [
    "total = pd.concat([mod_full, mod_filled])\n",
    "X = total.drop([\"Survived\"], axis=1)\n",
    "y = total[\"Survived\"]\n",
    "X_train, X_test, y_train, y_test = train_test_split(X, y, test_size=0.33, random_state=42)"
   ]
  },
  {
   "cell_type": "code",
   "execution_count": 32,
   "metadata": {},
   "outputs": [],
   "source": [
    "def entropy(columns):\n",
    "    items,counts = np.unique(columns,return_counts=True)\n",
    "    p = counts/len(columns)\n",
    "    return np.sum(-p*np.log(p))"
   ]
  },
  {
   "cell_type": "code",
   "execution_count": 33,
   "metadata": {},
   "outputs": [],
   "source": [
    "def info_gain(X,y,columns):\n",
    "    pivot = X[columns].mean()\n",
    "    X_left = X[columns] < pivot\n",
    "    X_right = X[columns] >= pivot\n",
    "    y_left,y_right = y.loc[X_left],y.loc[X_right]\n",
    "    p_left,p_right = len(y_left)/len(y),len(y_right)/len(y)\n",
    "    return entropy(y)-p_left*entropy(y_left)-p_right*entropy(y_right)"
   ]
  },
  {
   "cell_type": "code",
   "execution_count": 37,
   "metadata": {},
   "outputs": [
    {
     "name": "stdout",
     "output_type": "stream",
     "text": [
      "Pclass 0.05253613916173083\n",
      "Sex 0.15087048925218172\n",
      "Age 0.0007663481843047659\n",
      "SibSp 0.006643498134917131\n",
      "Parch 0.010661126611803101\n"
     ]
    }
   ],
   "source": [
    "for col in X.columns:\n",
    "    print(col,info_gain(X,y,col))"
   ]
  },
  {
   "cell_type": "code",
   "execution_count": null,
   "metadata": {},
   "outputs": [],
   "source": []
  }
 ],
 "metadata": {
  "kernelspec": {
   "display_name": "Python 3",
   "language": "python",
   "name": "python3"
  },
  "language_info": {
   "codemirror_mode": {
    "name": "ipython",
    "version": 3
   },
   "file_extension": ".py",
   "mimetype": "text/x-python",
   "name": "python",
   "nbconvert_exporter": "python",
   "pygments_lexer": "ipython3",
   "version": "3.7.4"
  }
 },
 "nbformat": 4,
 "nbformat_minor": 2
}
