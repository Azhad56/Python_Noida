{
  "nbformat": 4,
  "nbformat_minor": 0,
  "metadata": {
    "colab": {
      "name": "gensim.ipynb",
      "provenance": []
    },
    "kernelspec": {
      "name": "python3",
      "display_name": "Python 3"
    }
  },
  "cells": [
    {
      "cell_type": "code",
      "metadata": {
        "id": "dU72y2uQCqNx",
        "colab_type": "code",
        "colab": {}
      },
      "source": [
        "from gensim.models import Word2Vec"
      ],
      "execution_count": 0,
      "outputs": []
    },
    {
      "cell_type": "code",
      "metadata": {
        "id": "T9gHWeklDN0O",
        "colab_type": "code",
        "outputId": "7ac68202-5e1e-4abd-f3f2-fac9057ed969",
        "colab": {
          "base_uri": "https://localhost:8080/",
          "height": 315
        }
      },
      "source": [
        "! wget \"https://cb.lk/speech\""
      ],
      "execution_count": 0,
      "outputs": [
        {
          "output_type": "stream",
          "text": [
            "--2020-04-23 12:39:58--  https://cb.lk/speech\n",
            "Resolving cb.lk (cb.lk)... 159.89.170.74\n",
            "Connecting to cb.lk (cb.lk)|159.89.170.74|:443... connected.\n",
            "HTTP request sent, awaiting response... 302 Found\n",
            "Location: https://raw.githubusercontent.com/coding-blocks-archives/ML-Noida-2019-June-Two/master/datasets/speeches/speech.txt [following]\n",
            "--2020-04-23 12:39:59--  https://raw.githubusercontent.com/coding-blocks-archives/ML-Noida-2019-June-Two/master/datasets/speeches/speech.txt\n",
            "Resolving raw.githubusercontent.com (raw.githubusercontent.com)... 151.101.0.133, 151.101.64.133, 151.101.128.133, ...\n",
            "Connecting to raw.githubusercontent.com (raw.githubusercontent.com)|151.101.0.133|:443... connected.\n",
            "HTTP request sent, awaiting response... 200 OK\n",
            "Length: 1733053 (1.7M) [text/plain]\n",
            "Saving to: ‘speech’\n",
            "\n",
            "\rspeech                0%[                    ]       0  --.-KB/s               \rspeech              100%[===================>]   1.65M  --.-KB/s    in 0.1s    \n",
            "\n",
            "2020-04-23 12:40:00 (15.6 MB/s) - ‘speech’ saved [1733053/1733053]\n",
            "\n"
          ],
          "name": "stdout"
        }
      ]
    },
    {
      "cell_type": "code",
      "metadata": {
        "id": "JEL6eKveDTuY",
        "colab_type": "code",
        "colab": {}
      },
      "source": [
        "with open(\"speech\") as f:\n",
        "  text = f.read()"
      ],
      "execution_count": 0,
      "outputs": []
    },
    {
      "cell_type": "code",
      "metadata": {
        "id": "qWzUkcwMDlPz",
        "colab_type": "code",
        "colab": {}
      },
      "source": [
        "from nltk.tokenize import sent_tokenize\n",
        "from nltk.tokenize import word_tokenize\n",
        "import nltk"
      ],
      "execution_count": 0,
      "outputs": []
    },
    {
      "cell_type": "code",
      "metadata": {
        "id": "eYNK6AMbD1wO",
        "colab_type": "code",
        "outputId": "09467993-b096-4b5f-ac4f-383e96e4c037",
        "colab": {
          "base_uri": "https://localhost:8080/",
          "height": 69
        }
      },
      "source": [
        "nltk.download('punkt')"
      ],
      "execution_count": 0,
      "outputs": [
        {
          "output_type": "stream",
          "text": [
            "[nltk_data] Downloading package punkt to /root/nltk_data...\n",
            "[nltk_data]   Unzipping tokenizers/punkt.zip.\n"
          ],
          "name": "stdout"
        },
        {
          "output_type": "execute_result",
          "data": {
            "text/plain": [
              "True"
            ]
          },
          "metadata": {
            "tags": []
          },
          "execution_count": 8
        }
      ]
    },
    {
      "cell_type": "code",
      "metadata": {
        "id": "QHaZ_uhUDvDe",
        "colab_type": "code",
        "colab": {}
      },
      "source": [
        "sents = sent_tokenize(text)"
      ],
      "execution_count": 0,
      "outputs": []
    },
    {
      "cell_type": "code",
      "metadata": {
        "id": "QBBrD0HuDyrx",
        "colab_type": "code",
        "colab": {}
      },
      "source": [
        "sents_words = [word_tokenize(sent.lower()) for sent in sents]"
      ],
      "execution_count": 0,
      "outputs": []
    },
    {
      "cell_type": "code",
      "metadata": {
        "id": "DV2vLPVtD876",
        "colab_type": "code",
        "colab": {}
      },
      "source": [
        "model = Word2Vec(sents_words)"
      ],
      "execution_count": 0,
      "outputs": []
    },
    {
      "cell_type": "code",
      "metadata": {
        "id": "eUSmRxO9D_53",
        "colab_type": "code",
        "outputId": "c63cc61a-e8f1-4e18-8cca-8c7412c9afc7",
        "colab": {
          "base_uri": "https://localhost:8080/",
          "height": 245
        }
      },
      "source": [
        "model.wv.similar_by_word(\"china\")"
      ],
      "execution_count": 0,
      "outputs": [
        {
          "output_type": "stream",
          "text": [
            "/usr/local/lib/python3.6/dist-packages/gensim/matutils.py:737: FutureWarning: Conversion of the second argument of issubdtype from `int` to `np.signedinteger` is deprecated. In future, it will be treated as `np.int64 == np.dtype(int).type`.\n",
            "  if np.issubdtype(vec.dtype, np.int):\n"
          ],
          "name": "stderr"
        },
        {
          "output_type": "execute_result",
          "data": {
            "text/plain": [
              "[('north-east', 0.9958032369613647),\n",
              " ('distinct', 0.9949960708618164),\n",
              " ('adoption', 0.9945226311683655),\n",
              " ('improvement', 0.994367778301239),\n",
              " ('buddhism', 0.9942259192466736),\n",
              " ('reserves', 0.9941471219062805),\n",
              " ('credit', 0.9941034317016602),\n",
              " ('—', 0.993820071220398),\n",
              " ('federalism', 0.9937574863433838),\n",
              " ('peacekeeping', 0.9936624765396118)]"
            ]
          },
          "metadata": {
            "tags": []
          },
          "execution_count": 30
        }
      ]
    },
    {
      "cell_type": "code",
      "metadata": {
        "id": "421BlRJuEirZ",
        "colab_type": "code",
        "outputId": "ddc2b6b5-95ae-40de-9187-be1b2d5f023a",
        "colab": {
          "base_uri": "https://localhost:8080/",
          "height": 401
        }
      },
      "source": [
        "! wget https://doc-14-70-docs.googleusercontent.com/docs/securesc/t5in31eanduhlbugatm94a8i2hhhge5q/7m5tdpq8f1ijsi25c788th2s7ukig7v7/1587646650000/06848720943842814915/02705751661061268482/0B7XkCwpI5KDYNlNUTTlSS21pQmM?e=download&authuser=0&nonce=5huvb2hninvgi&user=02705751661061268482&hash=g6s3kms3mjr2ep4klhin228dnp7j77ql"
      ],
      "execution_count": 0,
      "outputs": [
        {
          "output_type": "stream",
          "text": [
            "--2020-04-23 12:59:10--  https://doc-14-70-docs.googleusercontent.com/docs/securesc/t5in31eanduhlbugatm94a8i2hhhge5q/7m5tdpq8f1ijsi25c788th2s7ukig7v7/1587646650000/06848720943842814915/02705751661061268482/0B7XkCwpI5KDYNlNUTTlSS21pQmM?e=download\n",
            "Resolving doc-14-70-docs.googleusercontent.com (doc-14-70-docs.googleusercontent.com)... 172.217.204.132, 2607:f8b0:400c:c15::84\n",
            "Connecting to doc-14-70-docs.googleusercontent.com (doc-14-70-docs.googleusercontent.com)|172.217.204.132|:443... connected.\n",
            "HTTP request sent, awaiting response... 302 Found\n",
            "Location: https://docs.google.com/nonceSigner?nonce=13mq2j0gpghg8&continue=https://doc-14-70-docs.googleusercontent.com/docs/securesc/t5in31eanduhlbugatm94a8i2hhhge5q/7m5tdpq8f1ijsi25c788th2s7ukig7v7/1587646650000/06848720943842814915/02705751661061268482/0B7XkCwpI5KDYNlNUTTlSS21pQmM?e%3Ddownload&hash=8bnvq08uje1nqtbnh2q9n9gvjc422fn4 [following]\n",
            "--2020-04-23 12:59:10--  https://docs.google.com/nonceSigner?nonce=13mq2j0gpghg8&continue=https://doc-14-70-docs.googleusercontent.com/docs/securesc/t5in31eanduhlbugatm94a8i2hhhge5q/7m5tdpq8f1ijsi25c788th2s7ukig7v7/1587646650000/06848720943842814915/02705751661061268482/0B7XkCwpI5KDYNlNUTTlSS21pQmM?e%3Ddownload&hash=8bnvq08uje1nqtbnh2q9n9gvjc422fn4\n",
            "Resolving docs.google.com (docs.google.com)... 172.217.203.102, 172.217.203.100, 172.217.203.138, ...\n",
            "Connecting to docs.google.com (docs.google.com)|172.217.203.102|:443... connected.\n",
            "HTTP request sent, awaiting response... 302 Found\n",
            "Location: https://accounts.google.com/ServiceLogin?service=wise&passive=1209600&continue=https://docs.google.com/nonceSigner?nonce%3D13mq2j0gpghg8%26continue%3Dhttps://doc-14-70-docs.googleusercontent.com/docs/securesc/t5in31eanduhlbugatm94a8i2hhhge5q/7m5tdpq8f1ijsi25c788th2s7ukig7v7/1587646650000/06848720943842814915/02705751661061268482/0B7XkCwpI5KDYNlNUTTlSS21pQmM?e%253Ddownload%26hash%3D8bnvq08uje1nqtbnh2q9n9gvjc422fn4&followup=https://docs.google.com/nonceSigner?nonce%3D13mq2j0gpghg8%26continue%3Dhttps://doc-14-70-docs.googleusercontent.com/docs/securesc/t5in31eanduhlbugatm94a8i2hhhge5q/7m5tdpq8f1ijsi25c788th2s7ukig7v7/1587646650000/06848720943842814915/02705751661061268482/0B7XkCwpI5KDYNlNUTTlSS21pQmM?e%253Ddownload%26hash%3D8bnvq08uje1nqtbnh2q9n9gvjc422fn4 [following]\n",
            "--2020-04-23 12:59:10--  https://accounts.google.com/ServiceLogin?service=wise&passive=1209600&continue=https://docs.google.com/nonceSigner?nonce%3D13mq2j0gpghg8%26continue%3Dhttps://doc-14-70-docs.googleusercontent.com/docs/securesc/t5in31eanduhlbugatm94a8i2hhhge5q/7m5tdpq8f1ijsi25c788th2s7ukig7v7/1587646650000/06848720943842814915/02705751661061268482/0B7XkCwpI5KDYNlNUTTlSS21pQmM?e%253Ddownload%26hash%3D8bnvq08uje1nqtbnh2q9n9gvjc422fn4&followup=https://docs.google.com/nonceSigner?nonce%3D13mq2j0gpghg8%26continue%3Dhttps://doc-14-70-docs.googleusercontent.com/docs/securesc/t5in31eanduhlbugatm94a8i2hhhge5q/7m5tdpq8f1ijsi25c788th2s7ukig7v7/1587646650000/06848720943842814915/02705751661061268482/0B7XkCwpI5KDYNlNUTTlSS21pQmM?e%253Ddownload%26hash%3D8bnvq08uje1nqtbnh2q9n9gvjc422fn4\n",
            "Resolving accounts.google.com (accounts.google.com)... 74.125.31.84, 2607:f8b0:400c:c07::54\n",
            "Connecting to accounts.google.com (accounts.google.com)|74.125.31.84|:443... connected.\n",
            "HTTP request sent, awaiting response... 200 OK\n",
            "Length: unspecified [text/html]\n",
            "Saving to: ‘0B7XkCwpI5KDYNlNUTTlSS21pQmM?e=download’\n",
            "\n",
            "\r          0B7XkCwpI     [<=>                 ]       0  --.-KB/s               \r0B7XkCwpI5KDYNlNUTT     [ <=>                ]  59.97K  --.-KB/s    in 0.001s  \n",
            "\n",
            "2020-04-23 12:59:10 (45.8 MB/s) - ‘0B7XkCwpI5KDYNlNUTTlSS21pQmM?e=download’ saved [61407]\n",
            "\n"
          ],
          "name": "stdout"
        }
      ]
    },
    {
      "cell_type": "code",
      "metadata": {
        "id": "D_wk8sLSHbgg",
        "colab_type": "code",
        "colab": {}
      },
      "source": [
        ""
      ],
      "execution_count": 0,
      "outputs": []
    }
  ]
}