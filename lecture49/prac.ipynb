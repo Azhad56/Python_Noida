{
 "cells": [
  {
   "cell_type": "code",
   "execution_count": 1,
   "metadata": {},
   "outputs": [],
   "source": [
    "from gensim.models import Word2Vec"
   ]
  },
  {
   "cell_type": "code",
   "execution_count": 2,
   "metadata": {},
   "outputs": [
    {
     "name": "stdout",
     "output_type": "stream",
     "text": [
      "--2020-04-25 21:38:37--  https://cb.lk/speech\n",
      "Resolving cb.lk (cb.lk)... 159.89.170.74\n",
      "Connecting to cb.lk (cb.lk)|159.89.170.74|:443... connected.\n",
      "HTTP request sent, awaiting response... 302 Found\n",
      "Location: https://raw.githubusercontent.com/coding-blocks-archives/ML-Noida-2019-June-Two/master/datasets/speeches/speech.txt [following]\n",
      "--2020-04-25 21:38:37--  https://raw.githubusercontent.com/coding-blocks-archives/ML-Noida-2019-June-Two/master/datasets/speeches/speech.txt\n",
      "Resolving raw.githubusercontent.com (raw.githubusercontent.com)... 199.232.20.133\n",
      "Connecting to raw.githubusercontent.com (raw.githubusercontent.com)|199.232.20.133|:443... connected.\n",
      "HTTP request sent, awaiting response... 200 OK\n",
      "Length: 1733053 (1.7M) [text/plain]\n",
      "Saving to: ‘speech.2’\n",
      "\n",
      "speech.2            100%[===================>]   1.65M  1.21MB/s    in 1.4s    \n",
      "\n",
      "2020-04-25 21:38:39 (1.21 MB/s) - ‘speech.2’ saved [1733053/1733053]\n",
      "\n"
     ]
    }
   ],
   "source": [
    "! wget \"https://cb.lk/speech\""
   ]
  },
  {
   "cell_type": "code",
   "execution_count": 3,
   "metadata": {},
   "outputs": [],
   "source": [
    "with open(\"speech\") as f:\n",
    "    text = f.read()"
   ]
  },
  {
   "cell_type": "code",
   "execution_count": 4,
   "metadata": {},
   "outputs": [],
   "source": [
    "from nltk.tokenize import sent_tokenize\n",
    "from nltk.tokenize import word_tokenize"
   ]
  },
  {
   "cell_type": "code",
   "execution_count": 5,
   "metadata": {},
   "outputs": [],
   "source": [
    "sents = sent_tokenize(text)"
   ]
  },
  {
   "cell_type": "code",
   "execution_count": 6,
   "metadata": {},
   "outputs": [],
   "source": [
    "sents_words = [word_tokenize(sent.lower()) for sent in sents]"
   ]
  },
  {
   "cell_type": "code",
   "execution_count": 7,
   "metadata": {},
   "outputs": [
    {
     "data": {
      "text/plain": [
       "17939"
      ]
     },
     "execution_count": 7,
     "metadata": {},
     "output_type": "execute_result"
    }
   ],
   "source": [
    "len(sents)"
   ]
  },
  {
   "cell_type": "code",
   "execution_count": 8,
   "metadata": {},
   "outputs": [],
   "source": [
    "model = Word2Vec(sents_words)"
   ]
  },
  {
   "cell_type": "code",
   "execution_count": 12,
   "metadata": {},
   "outputs": [
    {
     "data": {
      "text/plain": [
       "[('lanka', 0.8637130260467529),\n",
       " ('moody', 0.8312915563583374),\n",
       " ('upgraded', 0.8311755061149597),\n",
       " ('sri', 0.8250189423561096),\n",
       " ('hallmark', 0.823349118232727),\n",
       " ('residence', 0.8074560165405273),\n",
       " ('its', 0.8073290586471558),\n",
       " ('rating', 0.7961136102676392),\n",
       " ('fighter', 0.7906708121299744),\n",
       " (\"''\", 0.787052571773529)]"
      ]
     },
     "execution_count": 12,
     "metadata": {},
     "output_type": "execute_result"
    }
   ],
   "source": [
    "model.wv.similar_by_word(\"india\")"
   ]
  },
  {
   "cell_type": "code",
   "execution_count": 16,
   "metadata": {},
   "outputs": [
    {
     "data": {
      "text/plain": [
       "[('tamil', 0.9973620772361755),\n",
       " ('kazakhstan', 0.9951769113540649),\n",
       " ('malaysia', 0.9948337078094482),\n",
       " ('nadu', 0.9946585297584534),\n",
       " ('buddhist', 0.9943214058876038),\n",
       " ('vijay', 0.9941680431365967),\n",
       " ('quantity', 0.9934967160224915),\n",
       " ('islam', 0.9932210445404053),\n",
       " ('tracking', 0.9930139183998108),\n",
       " ('diverse', 0.9924081563949585)]"
      ]
     },
     "execution_count": 16,
     "metadata": {},
     "output_type": "execute_result"
    }
   ],
   "source": [
    "model.wv.similar_by_word(\"china\")"
   ]
  },
  {
   "cell_type": "code",
   "execution_count": 21,
   "metadata": {},
   "outputs": [],
   "source": [
    "! wget https://doc-14-70-docs.googleusercontent.com/docs/securesc/t5in31eanduhlbugatm94a8i2hhhge5q/7m5tdpq8f1ijsi25c788th2s7ukig7v7/1587646650000/06848720943842814915/02705751661061268482/0B7XkCwpI5KDYNlNUTTlSS21pQmM?e=download&authuser=0&nonce=5huvb2hninvgi&user=02705751661061268482&hash=g6s3kms3mjr2ep4klhin228dnp7j77ql"
   ]
  },
  {
   "cell_type": "code",
   "execution_count": null,
   "metadata": {},
   "outputs": [],
   "source": []
  }
 ],
 "metadata": {
  "kernelspec": {
   "display_name": "Python 3",
   "language": "python",
   "name": "python3"
  },
  "language_info": {
   "codemirror_mode": {
    "name": "ipython",
    "version": 3
   },
   "file_extension": ".py",
   "mimetype": "text/x-python",
   "name": "python",
   "nbconvert_exporter": "python",
   "pygments_lexer": "ipython3",
   "version": "3.7.4"
  }
 },
 "nbformat": 4,
 "nbformat_minor": 4
}
