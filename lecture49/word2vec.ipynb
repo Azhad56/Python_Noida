{
 "cells": [
  {
   "cell_type": "code",
   "execution_count": 1,
   "metadata": {},
   "outputs": [],
   "source": [
    "import numpy as np\n",
    "import matplotlib.pyplot as plt\n",
    "import pandas as pd"
   ]
  },
  {
   "cell_type": "code",
   "execution_count": 2,
   "metadata": {},
   "outputs": [],
   "source": [
    "data = pd.read_csv('../datasets/word2vec/embedding/wikipedia_color_names.csv')"
   ]
  },
  {
   "cell_type": "code",
   "execution_count": 3,
   "metadata": {},
   "outputs": [
    {
     "data": {
      "text/html": [
       "<div>\n",
       "<style scoped>\n",
       "    .dataframe tbody tr th:only-of-type {\n",
       "        vertical-align: middle;\n",
       "    }\n",
       "\n",
       "    .dataframe tbody tr th {\n",
       "        vertical-align: top;\n",
       "    }\n",
       "\n",
       "    .dataframe thead th {\n",
       "        text-align: right;\n",
       "    }\n",
       "</style>\n",
       "<table border=\"1\" class=\"dataframe\">\n",
       "  <thead>\n",
       "    <tr style=\"text-align: right;\">\n",
       "      <th></th>\n",
       "      <th>Name</th>\n",
       "      <th>Hex (24 bit)</th>\n",
       "      <th>Red (8 bit)</th>\n",
       "      <th>Green (8 bit)</th>\n",
       "      <th>Blue (8 bit)</th>\n",
       "      <th>Hue (degrees)</th>\n",
       "      <th>HSL.S (%)</th>\n",
       "      <th>HSL.L (%), HSV.S (%), HSV.V (%)</th>\n",
       "    </tr>\n",
       "  </thead>\n",
       "  <tbody>\n",
       "    <tr>\n",
       "      <th>0</th>\n",
       "      <td>Absolute zero</td>\n",
       "      <td>#0048BA</td>\n",
       "      <td>0</td>\n",
       "      <td>72</td>\n",
       "      <td>186</td>\n",
       "      <td>217.0</td>\n",
       "      <td>100.0</td>\n",
       "      <td>37.0</td>\n",
       "    </tr>\n",
       "    <tr>\n",
       "      <th>1</th>\n",
       "      <td>Acid green</td>\n",
       "      <td>#B0BF1A</td>\n",
       "      <td>176</td>\n",
       "      <td>191</td>\n",
       "      <td>26</td>\n",
       "      <td>65.0</td>\n",
       "      <td>76.0</td>\n",
       "      <td>43.0</td>\n",
       "    </tr>\n",
       "    <tr>\n",
       "      <th>2</th>\n",
       "      <td>Aero</td>\n",
       "      <td>#7CB9E8</td>\n",
       "      <td>124</td>\n",
       "      <td>185</td>\n",
       "      <td>232</td>\n",
       "      <td>206.0</td>\n",
       "      <td>70.0</td>\n",
       "      <td>70.0</td>\n",
       "    </tr>\n",
       "    <tr>\n",
       "      <th>3</th>\n",
       "      <td>Aero blue</td>\n",
       "      <td>#C9FFE5</td>\n",
       "      <td>201</td>\n",
       "      <td>255</td>\n",
       "      <td>229</td>\n",
       "      <td>151.0</td>\n",
       "      <td>100.0</td>\n",
       "      <td>89.0</td>\n",
       "    </tr>\n",
       "    <tr>\n",
       "      <th>4</th>\n",
       "      <td>African violet</td>\n",
       "      <td>#B284BE</td>\n",
       "      <td>178</td>\n",
       "      <td>132</td>\n",
       "      <td>190</td>\n",
       "      <td>288.0</td>\n",
       "      <td>31.0</td>\n",
       "      <td>63.0</td>\n",
       "    </tr>\n",
       "  </tbody>\n",
       "</table>\n",
       "</div>"
      ],
      "text/plain": [
       "             Name Hex (24 bit)  Red (8 bit)  Green (8 bit)  Blue (8 bit)  \\\n",
       "0   Absolute zero      #0048BA            0             72           186   \n",
       "1      Acid green      #B0BF1A          176            191            26   \n",
       "2            Aero      #7CB9E8          124            185           232   \n",
       "3       Aero blue      #C9FFE5          201            255           229   \n",
       "4  African violet      #B284BE          178            132           190   \n",
       "\n",
       "   Hue (degrees)  HSL.S (%)  HSL.L (%), HSV.S (%), HSV.V (%)  \n",
       "0          217.0      100.0                             37.0  \n",
       "1           65.0       76.0                             43.0  \n",
       "2          206.0       70.0                             70.0  \n",
       "3          151.0      100.0                             89.0  \n",
       "4          288.0       31.0                             63.0  "
      ]
     },
     "execution_count": 3,
     "metadata": {},
     "output_type": "execute_result"
    }
   ],
   "source": [
    "data.head()"
   ]
  },
  {
   "cell_type": "code",
   "execution_count": 4,
   "metadata": {},
   "outputs": [],
   "source": [
    "mod = data.iloc[:,[0,2,3,4]]"
   ]
  },
  {
   "cell_type": "code",
   "execution_count": 5,
   "metadata": {},
   "outputs": [
    {
     "data": {
      "text/html": [
       "<div>\n",
       "<style scoped>\n",
       "    .dataframe tbody tr th:only-of-type {\n",
       "        vertical-align: middle;\n",
       "    }\n",
       "\n",
       "    .dataframe tbody tr th {\n",
       "        vertical-align: top;\n",
       "    }\n",
       "\n",
       "    .dataframe thead th {\n",
       "        text-align: right;\n",
       "    }\n",
       "</style>\n",
       "<table border=\"1\" class=\"dataframe\">\n",
       "  <thead>\n",
       "    <tr style=\"text-align: right;\">\n",
       "      <th></th>\n",
       "      <th>Name</th>\n",
       "      <th>Red (8 bit)</th>\n",
       "      <th>Green (8 bit)</th>\n",
       "      <th>Blue (8 bit)</th>\n",
       "    </tr>\n",
       "  </thead>\n",
       "  <tbody>\n",
       "    <tr>\n",
       "      <th>0</th>\n",
       "      <td>Absolute zero</td>\n",
       "      <td>0</td>\n",
       "      <td>72</td>\n",
       "      <td>186</td>\n",
       "    </tr>\n",
       "    <tr>\n",
       "      <th>1</th>\n",
       "      <td>Acid green</td>\n",
       "      <td>176</td>\n",
       "      <td>191</td>\n",
       "      <td>26</td>\n",
       "    </tr>\n",
       "    <tr>\n",
       "      <th>2</th>\n",
       "      <td>Aero</td>\n",
       "      <td>124</td>\n",
       "      <td>185</td>\n",
       "      <td>232</td>\n",
       "    </tr>\n",
       "    <tr>\n",
       "      <th>3</th>\n",
       "      <td>Aero blue</td>\n",
       "      <td>201</td>\n",
       "      <td>255</td>\n",
       "      <td>229</td>\n",
       "    </tr>\n",
       "    <tr>\n",
       "      <th>4</th>\n",
       "      <td>African violet</td>\n",
       "      <td>178</td>\n",
       "      <td>132</td>\n",
       "      <td>190</td>\n",
       "    </tr>\n",
       "    <tr>\n",
       "      <th>...</th>\n",
       "      <td>...</td>\n",
       "      <td>...</td>\n",
       "      <td>...</td>\n",
       "      <td>...</td>\n",
       "    </tr>\n",
       "    <tr>\n",
       "      <th>1293</th>\n",
       "      <td>Yellow rose</td>\n",
       "      <td>255</td>\n",
       "      <td>240</td>\n",
       "      <td>0</td>\n",
       "    </tr>\n",
       "    <tr>\n",
       "      <th>1294</th>\n",
       "      <td>Yellow Sunshine</td>\n",
       "      <td>255</td>\n",
       "      <td>247</td>\n",
       "      <td>0</td>\n",
       "    </tr>\n",
       "    <tr>\n",
       "      <th>1295</th>\n",
       "      <td>Zaffre</td>\n",
       "      <td>0</td>\n",
       "      <td>20</td>\n",
       "      <td>168</td>\n",
       "    </tr>\n",
       "    <tr>\n",
       "      <th>1296</th>\n",
       "      <td>Zinnwaldite brown</td>\n",
       "      <td>44</td>\n",
       "      <td>22</td>\n",
       "      <td>8</td>\n",
       "    </tr>\n",
       "    <tr>\n",
       "      <th>1297</th>\n",
       "      <td>Zomp</td>\n",
       "      <td>57</td>\n",
       "      <td>167</td>\n",
       "      <td>142</td>\n",
       "    </tr>\n",
       "  </tbody>\n",
       "</table>\n",
       "<p>1298 rows × 4 columns</p>\n",
       "</div>"
      ],
      "text/plain": [
       "                   Name  Red (8 bit)  Green (8 bit)  Blue (8 bit)\n",
       "0         Absolute zero            0             72           186\n",
       "1            Acid green          176            191            26\n",
       "2                  Aero          124            185           232\n",
       "3             Aero blue          201            255           229\n",
       "4        African violet          178            132           190\n",
       "...                 ...          ...            ...           ...\n",
       "1293        Yellow rose          255            240             0\n",
       "1294    Yellow Sunshine          255            247             0\n",
       "1295             Zaffre            0             20           168\n",
       "1296  Zinnwaldite brown           44             22             8\n",
       "1297               Zomp           57            167           142\n",
       "\n",
       "[1298 rows x 4 columns]"
      ]
     },
     "execution_count": 5,
     "metadata": {},
     "output_type": "execute_result"
    }
   ],
   "source": [
    "mod"
   ]
  },
  {
   "cell_type": "code",
   "execution_count": 6,
   "metadata": {},
   "outputs": [],
   "source": [
    "X,y = mod.iloc[:,1:].values,mod.iloc[:,0].values"
   ]
  },
  {
   "cell_type": "code",
   "execution_count": 7,
   "metadata": {},
   "outputs": [
    {
     "data": {
      "text/plain": [
       "array([[  0,  72, 186],\n",
       "       [176, 191,  26],\n",
       "       [124, 185, 232],\n",
       "       ...,\n",
       "       [  0,  20, 168],\n",
       "       [ 44,  22,   8],\n",
       "       [ 57, 167, 142]])"
      ]
     },
     "execution_count": 7,
     "metadata": {},
     "output_type": "execute_result"
    }
   ],
   "source": [
    "X"
   ]
  },
  {
   "cell_type": "code",
   "execution_count": 8,
   "metadata": {},
   "outputs": [
    {
     "data": {
      "text/plain": [
       "array(['Absolute zero', 'Acid green', 'Aero', ..., 'Zaffre',\n",
       "       'Zinnwaldite brown', 'Zomp'], dtype=object)"
      ]
     },
     "execution_count": 8,
     "metadata": {},
     "output_type": "execute_result"
    }
   ],
   "source": [
    "y"
   ]
  },
  {
   "cell_type": "code",
   "execution_count": 10,
   "metadata": {},
   "outputs": [
    {
     "data": {
      "text/plain": [
       "1"
      ]
     },
     "execution_count": 10,
     "metadata": {},
     "output_type": "execute_result"
    }
   ],
   "source": [
    "(y== \"Red\").sum()"
   ]
  },
  {
   "cell_type": "code",
   "execution_count": 11,
   "metadata": {},
   "outputs": [
    {
     "data": {
      "text/plain": [
       "array([[255,   0,   0]])"
      ]
     },
     "execution_count": 11,
     "metadata": {},
     "output_type": "execute_result"
    }
   ],
   "source": [
    "X[y==\"Red\"]"
   ]
  },
  {
   "cell_type": "code",
   "execution_count": 12,
   "metadata": {},
   "outputs": [
    {
     "data": {
      "text/plain": [
       "array([[  0,   0, 255]])"
      ]
     },
     "execution_count": 12,
     "metadata": {},
     "output_type": "execute_result"
    }
   ],
   "source": [
    "X[y==\"Blue\"]"
   ]
  },
  {
   "cell_type": "code",
   "execution_count": 14,
   "metadata": {},
   "outputs": [
    {
     "data": {
      "text/plain": [
       "array([], shape=(0, 3), dtype=int64)"
      ]
     },
     "execution_count": 14,
     "metadata": {},
     "output_type": "execute_result"
    }
   ],
   "source": [
    "X[y==\"Green\"]"
   ]
  },
  {
   "cell_type": "code",
   "execution_count": 15,
   "metadata": {},
   "outputs": [],
   "source": [
    "color = X[y==\"Red\"]"
   ]
  },
  {
   "cell_type": "code",
   "execution_count": 19,
   "metadata": {},
   "outputs": [
    {
     "data": {
      "text/plain": [
       "array([[  0,  72, 186],\n",
       "       [176, 191,  26],\n",
       "       [124, 185, 232],\n",
       "       ...,\n",
       "       [  0,  20, 168],\n",
       "       [ 44,  22,   8],\n",
       "       [ 57, 167, 142]])"
      ]
     },
     "execution_count": 19,
     "metadata": {},
     "output_type": "execute_result"
    }
   ],
   "source": [
    "X"
   ]
  },
  {
   "cell_type": "code",
   "execution_count": 20,
   "metadata": {},
   "outputs": [
    {
     "data": {
      "text/plain": [
       "array([[255,   0,   0]])"
      ]
     },
     "execution_count": 20,
     "metadata": {},
     "output_type": "execute_result"
    }
   ],
   "source": [
    "color"
   ]
  },
  {
   "cell_type": "code",
   "execution_count": 17,
   "metadata": {},
   "outputs": [
    {
     "data": {
      "text/plain": [
       "array([[-255,   72,  186],\n",
       "       [ -79,  191,   26],\n",
       "       [-131,  185,  232],\n",
       "       ...,\n",
       "       [-255,   20,  168],\n",
       "       [-211,   22,    8],\n",
       "       [-198,  167,  142]])"
      ]
     },
     "execution_count": 17,
     "metadata": {},
     "output_type": "execute_result"
    }
   ],
   "source": [
    "X-color"
   ]
  },
  {
   "cell_type": "code",
   "execution_count": 21,
   "metadata": {},
   "outputs": [],
   "source": [
    "distances = np.sqrt(np.sum(((X-color) ** 2),axis = 1))"
   ]
  },
  {
   "cell_type": "code",
   "execution_count": 24,
   "metadata": {},
   "outputs": [
    {
     "data": {
      "text/plain": [
       "(1298,)"
      ]
     },
     "execution_count": 24,
     "metadata": {},
     "output_type": "execute_result"
    }
   ],
   "source": [
    "distances.shape"
   ]
  },
  {
   "cell_type": "code",
   "execution_count": 29,
   "metadata": {},
   "outputs": [
    {
     "data": {
      "text/plain": [
       "array([323.73600356, 208.32186635, 324.3609101 , ..., 306.02124109,\n",
       "       212.29460662, 295.39295862])"
      ]
     },
     "execution_count": 29,
     "metadata": {},
     "output_type": "execute_result"
    }
   ],
   "source": [
    "distances"
   ]
  },
  {
   "cell_type": "code",
   "execution_count": 25,
   "metadata": {},
   "outputs": [],
   "source": [
    "near = distances.argsort()[:10]"
   ]
  },
  {
   "cell_type": "code",
   "execution_count": 26,
   "metadata": {},
   "outputs": [
    {
     "data": {
      "text/plain": [
       "array([ 968,  177,  586, 1251, 1055, 1024,  425,  974, 1012,  166])"
      ]
     },
     "execution_count": 26,
     "metadata": {},
     "output_type": "execute_result"
    }
   ],
   "source": [
    "near"
   ]
  },
  {
   "cell_type": "code",
   "execution_count": 28,
   "metadata": {},
   "outputs": [
    {
     "data": {
      "text/plain": [
       "array(['Red', 'Candy apple red', 'KU Crimson', 'Vivid red', 'Scarlet',\n",
       "       'Ruddy', 'Ferrari Red', 'Red (RYB)', 'Rosso corsa', 'Cadmium red'],\n",
       "      dtype=object)"
      ]
     },
     "execution_count": 28,
     "metadata": {},
     "output_type": "execute_result"
    }
   ],
   "source": [
    "y[near]"
   ]
  },
  {
   "cell_type": "code",
   "execution_count": 30,
   "metadata": {},
   "outputs": [],
   "source": [
    "colors_rgb = X[near]"
   ]
  },
  {
   "cell_type": "code",
   "execution_count": 31,
   "metadata": {},
   "outputs": [
    {
     "data": {
      "text/plain": [
       "(10, 3)"
      ]
     },
     "execution_count": 31,
     "metadata": {},
     "output_type": "execute_result"
    }
   ],
   "source": [
    "colors_rgb.shape"
   ]
  },
  {
   "cell_type": "code",
   "execution_count": 32,
   "metadata": {},
   "outputs": [
    {
     "data": {
      "text/plain": [
       "(1, 10, 3)"
      ]
     },
     "execution_count": 32,
     "metadata": {},
     "output_type": "execute_result"
    }
   ],
   "source": [
    "colors_rgb.reshape(1,-1,3).shape"
   ]
  },
  {
   "cell_type": "code",
   "execution_count": 33,
   "metadata": {},
   "outputs": [
    {
     "data": {
      "text/plain": [
       "<matplotlib.image.AxesImage at 0x7f37ac180810>"
      ]
     },
     "execution_count": 33,
     "metadata": {},
     "output_type": "execute_result"
    },
    {
     "data": {
      "image/png": "[encoded data removed]",
      "text/plain": [
       "<Figure size 432x288 with 1 Axes>"
      ]
     },
     "metadata": {
      "needs_background": "light"
     },
     "output_type": "display_data"
    }
   ],
   "source": [
    "plt.imshow(colors_rgb.reshape(1,-1,3))"
   ]
  },
  {
   "cell_type": "code",
   "execution_count": 64,
   "metadata": {},
   "outputs": [],
   "source": [
    "c1,c2,c3 = \"Burnt orange\",\"Black\",\"Pink\""
   ]
  },
  {
   "cell_type": "code",
   "execution_count": 65,
   "metadata": {},
   "outputs": [
    {
     "data": {
      "text/plain": [
       "array(['Black'], dtype=object)"
      ]
     },
     "execution_count": 65,
     "metadata": {},
     "output_type": "execute_result"
    }
   ],
   "source": [
    "y[y==\"Black\"]"
   ]
  },
  {
   "cell_type": "code",
   "execution_count": 66,
   "metadata": {},
   "outputs": [],
   "source": [
    "relation = X[y==c1] - X[y==c2]"
   ]
  },
  {
   "cell_type": "code",
   "execution_count": 67,
   "metadata": {},
   "outputs": [
    {
     "data": {
      "text/plain": [
       "array([[204,  85,   0]])"
      ]
     },
     "execution_count": 67,
     "metadata": {},
     "output_type": "execute_result"
    }
   ],
   "source": [
    "relation"
   ]
  },
  {
   "cell_type": "code",
   "execution_count": 68,
   "metadata": {},
   "outputs": [],
   "source": [
    "output = X[y==c3] - relation"
   ]
  },
  {
   "cell_type": "code",
   "execution_count": 69,
   "metadata": {},
   "outputs": [
    {
     "data": {
      "text/plain": [
       "array([[ 51, 107, 203]])"
      ]
     },
     "execution_count": 69,
     "metadata": {},
     "output_type": "execute_result"
    }
   ],
   "source": [
    "output"
   ]
  },
  {
   "cell_type": "code",
   "execution_count": 70,
   "metadata": {},
   "outputs": [],
   "source": [
    "def near_colors(color):\n",
    "    distances = np.sqrt(np.sum(((X-color) ** 2),axis = 1))\n",
    "    near = distances.argsort()[:10]\n",
    "    return y[near],X[near]"
   ]
  },
  {
   "cell_type": "code",
   "execution_count": 71,
   "metadata": {},
   "outputs": [],
   "source": [
    "y_col,X_col = near_colors(output)"
   ]
  },
  {
   "cell_type": "code",
   "execution_count": 72,
   "metadata": {},
   "outputs": [
    {
     "data": {
      "text/plain": [
       "([<matplotlib.axis.YTick at 0x7f799187b290>,\n",
       "  <matplotlib.axis.YTick at 0x7f79912772d0>,\n",
       "  <matplotlib.axis.YTick at 0x7f7991b15610>,\n",
       "  <matplotlib.axis.YTick at 0x7f7991ccb2d0>,\n",
       "  <matplotlib.axis.YTick at 0x7f7992993e50>,\n",
       "  <matplotlib.axis.YTick at 0x7f7991c703d0>,\n",
       "  <matplotlib.axis.YTick at 0x7f799202e390>,\n",
       "  <matplotlib.axis.YTick at 0x7f799202e550>,\n",
       "  <matplotlib.axis.YTick at 0x7f799202e310>,\n",
       "  <matplotlib.axis.YTick at 0x7f7991ccb210>],\n",
       " [Text(0, 0, 'Han blue'),\n",
       "  Text(0, 0, 'Royal blue'),\n",
       "  Text(0, 0, 'Bright navy blue'),\n",
       "  Text(0, 0, 'Cerulean blue'),\n",
       "  Text(0, 0, 'Cyan-blue azure'),\n",
       "  Text(0, 0, 'New Car'),\n",
       "  Text(0, 0, 'Denim'),\n",
       "  Text(0, 0, 'Steel blue'),\n",
       "  Text(0, 0, 'Tufts Blue'),\n",
       "  Text(0, 0, 'Violet-blue')])"
      ]
     },
     "execution_count": 72,
     "metadata": {},
     "output_type": "execute_result"
    },
    {
     "data": {
      "image/png": "[encoded data removed]",
      "text/plain": [
       "<Figure size 432x288 with 1 Axes>"
      ]
     },
     "metadata": {
      "needs_background": "light"
     },
     "output_type": "display_data"
    }
   ],
   "source": [
    "plt.imshow(X_col.reshape(-1,1,3))\n",
    "plt.yticks(range(10),y_col)"
   ]
  },
  {
   "cell_type": "code",
   "execution_count": null,
   "metadata": {},
   "outputs": [],
   "source": []
  },
  {
   "cell_type": "code",
   "execution_count": null,
   "metadata": {},
   "outputs": [],
   "source": []
  }
 ],
 "metadata": {
  "kernelspec": {
   "display_name": "Python 3",
   "language": "python",
   "name": "python3"
  },
  "language_info": {
   "codemirror_mode": {
    "name": "ipython",
    "version": 3
   },
   "file_extension": ".py",
   "mimetype": "text/x-python",
   "name": "python",
   "nbconvert_exporter": "python",
   "pygments_lexer": "ipython3",
   "version": "3.7.4"
  }
 },
 "nbformat": 4,
 "nbformat_minor": 4
}
