{
 "cells": [
  {
   "cell_type": "code",
   "execution_count": 1,
   "metadata": {
    "colab": {},
    "colab_type": "code",
    "id": "dU72y2uQCqNx"
   },
   "outputs": [],
   "source": [
    "from gensim.models import Word2Vec"
   ]
  },
  {
   "cell_type": "code",
   "execution_count": 2,
   "metadata": {
    "colab": {
     "base_uri": "https://localhost:8080/",
     "height": 315
    },
    "colab_type": "code",
    "id": "T9gHWeklDN0O",
    "outputId": "7ac68202-5e1e-4abd-f3f2-fac9057ed969"
   },
   "outputs": [
    {
     "name": "stdout",
     "output_type": "stream",
     "text": [
      "--2020-04-26 00:01:43--  https://cb.lk/speech\n",
      "Resolving cb.lk (cb.lk)... 159.89.170.74\n",
      "Connecting to cb.lk (cb.lk)|159.89.170.74|:443... connected.\n",
      "HTTP request sent, awaiting response... 302 Found\n",
      "Location: https://raw.githubusercontent.com/coding-blocks-archives/ML-Noida-2019-June-Two/master/datasets/speeches/speech.txt [following]\n",
      "--2020-04-26 00:01:43--  https://raw.githubusercontent.com/coding-blocks-archives/ML-Noida-2019-June-Two/master/datasets/speeches/speech.txt\n",
      "Resolving raw.githubusercontent.com (raw.githubusercontent.com)... 151.101.152.133\n",
      "Connecting to raw.githubusercontent.com (raw.githubusercontent.com)|151.101.152.133|:443... connected.\n",
      "HTTP request sent, awaiting response... 200 OK\n",
      "Length: 1733053 (1.7M) [text/plain]\n",
      "Saving to: ‘speech.4’\n",
      "\n",
      "speech.4            100%[===================>]   1.65M   126KB/s    in 7.3s    \n",
      "\n",
      "2020-04-26 00:01:57 (233 KB/s) - ‘speech.4’ saved [1733053/1733053]\n",
      "\n"
     ]
    }
   ],
   "source": [
    "! wget \"https://cb.lk/speech\""
   ]
  },
  {
   "cell_type": "code",
   "execution_count": 3,
   "metadata": {
    "colab": {},
    "colab_type": "code",
    "id": "JEL6eKveDTuY"
   },
   "outputs": [],
   "source": [
    "with open(\"speech\") as f:\n",
    "  text = f.read()"
   ]
  },
  {
   "cell_type": "code",
   "execution_count": 4,
   "metadata": {
    "colab": {},
    "colab_type": "code",
    "id": "qWzUkcwMDlPz"
   },
   "outputs": [],
   "source": [
    "from nltk.tokenize import sent_tokenize\n",
    "from nltk.tokenize import word_tokenize\n",
    "import nltk"
   ]
  },
  {
   "cell_type": "code",
   "execution_count": 5,
   "metadata": {
    "colab": {
     "base_uri": "https://localhost:8080/",
     "height": 69
    },
    "colab_type": "code",
    "id": "eYNK6AMbD1wO",
    "outputId": "09467993-b096-4b5f-ac4f-383e96e4c037"
   },
   "outputs": [
    {
     "name": "stderr",
     "output_type": "stream",
     "text": [
      "[nltk_data] Downloading package punkt to /home/azhad56/nltk_data...\n",
      "[nltk_data]   Package punkt is already up-to-date!\n"
     ]
    },
    {
     "data": {
      "text/plain": [
       "True"
      ]
     },
     "execution_count": 5,
     "metadata": {},
     "output_type": "execute_result"
    }
   ],
   "source": [
    "nltk.download('punkt')"
   ]
  },
  {
   "cell_type": "code",
   "execution_count": 6,
   "metadata": {
    "colab": {},
    "colab_type": "code",
    "id": "QHaZ_uhUDvDe"
   },
   "outputs": [],
   "source": [
    "sents = sent_tokenize(text)"
   ]
  },
  {
   "cell_type": "code",
   "execution_count": 7,
   "metadata": {
    "colab": {},
    "colab_type": "code",
    "id": "QBBrD0HuDyrx"
   },
   "outputs": [],
   "source": [
    "sents_words = [word_tokenize(sent.lower()) for sent in sents]"
   ]
  },
  {
   "cell_type": "code",
   "execution_count": 8,
   "metadata": {
    "colab": {},
    "colab_type": "code",
    "id": "DV2vLPVtD876"
   },
   "outputs": [],
   "source": [
    "model = Word2Vec(sents_words)"
   ]
  },
  {
   "cell_type": "code",
   "execution_count": 9,
   "metadata": {
    "colab": {
     "base_uri": "https://localhost:8080/",
     "height": 245
    },
    "colab_type": "code",
    "id": "eUSmRxO9D_53",
    "outputId": "c63cc61a-e8f1-4e18-8cca-8c7412c9afc7"
   },
   "outputs": [
    {
     "data": {
      "text/plain": [
       "[('malaysia', 0.9967206716537476),\n",
       " ('mumbai', 0.9964919090270996),\n",
       " ('singapore', 0.9959134459495544),\n",
       " ('thailand', 0.9941332936286926),\n",
       " ('iran', 0.9938018321990967),\n",
       " ('2013-14', 0.9926994442939758),\n",
       " ('outstanding', 0.9922323226928711),\n",
       " ('tamil', 0.992125928401947),\n",
       " ('wildlife', 0.9919446706771851),\n",
       " ('mauritius', 0.9918237924575806)]"
      ]
     },
     "execution_count": 9,
     "metadata": {},
     "output_type": "execute_result"
    }
   ],
   "source": [
    "model.wv.similar_by_word(\"china\")"
   ]
  },
  {
   "cell_type": "code",
   "execution_count": 13,
   "metadata": {
    "colab": {
     "base_uri": "https://localhost:8080/",
     "height": 401
    },
    "colab_type": "code",
    "id": "421BlRJuEirZ",
    "outputId": "ddc2b6b5-95ae-40de-9187-be1b2d5f023a"
   },
   "outputs": [
    {
     "name": "stdout",
     "output_type": "stream",
     "text": [
      "--2020-04-26 01:13:14--  https://s3.amazonaws.com/dl4j-distribution/GoogleNews-vectors-negative300.bin.gz\n",
      "Resolving s3.amazonaws.com (s3.amazonaws.com)... 52.216.113.253\n",
      "Connecting to s3.amazonaws.com (s3.amazonaws.com)|52.216.113.253|:443... connected.\n",
      "HTTP request sent, awaiting response... 416 Requested Range Not Satisfiable\n",
      "\n",
      "    The file is already fully retrieved; nothing to do.\n",
      "\n"
     ]
    }
   ],
   "source": [
    "! wget -c \"https://s3.amazonaws.com/dl4j-distribution/GoogleNews-vectors-negative300.bin.gz\"\n"
   ]
  },
  {
   "cell_type": "code",
   "execution_count": 14,
   "metadata": {
    "colab": {},
    "colab_type": "code",
    "id": "D_wk8sLSHbgg"
   },
   "outputs": [
    {
     "name": "stdout",
     "output_type": "stream",
     "text": [
      "\n",
      "gzip: GoogleNews-vectors-negative300.bin.gz: invalid compressed data--format violated\n"
     ]
    }
   ],
   "source": [
    "! gunzip GoogleNews-vectors-negative300.bin.gz"
   ]
  },
  {
   "cell_type": "code",
   "execution_count": null,
   "metadata": {},
   "outputs": [],
   "source": []
  }
 ],
 "metadata": {
  "colab": {
   "name": "gensim.ipynb",
   "provenance": []
  },
  "kernelspec": {
   "display_name": "Python 3",
   "language": "python",
   "name": "python3"
  },
  "language_info": {
   "codemirror_mode": {
    "name": "ipython",
    "version": 3
   },
   "file_extension": ".py",
   "mimetype": "text/x-python",
   "name": "python",
   "nbconvert_exporter": "python",
   "pygments_lexer": "ipython3",
   "version": "3.7.4"
  }
 },
 "nbformat": 4,
 "nbformat_minor": 4
}
