{
 "cells": [
  {
   "cell_type": "code",
   "execution_count": 46,
   "metadata": {},
   "outputs": [],
   "source": [
    "class Human:\n",
    "    def __init__(self):\n",
    "        self.__age=0"
   ]
  },
  {
   "cell_type": "code",
   "execution_count": 47,
   "metadata": {},
   "outputs": [],
   "source": [
    "mohit = Human()"
   ]
  },
  {
   "cell_type": "code",
   "execution_count": 64,
   "metadata": {},
   "outputs": [],
   "source": [
    "class Human:\n",
    "    def __init__(self,password,name='baccha',age =0):\n",
    "        self.__age=age\n",
    "        self.name=name\n",
    "        self.__password=password\n",
    "    def __repr__(self):\n",
    "        print('your name is {} and your age is {}'.format(self.name,self.__age))\n",
    "    def __del__(self):\n",
    "        print(self.name,'Deleted')\n",
    "    def getAge(self):\n",
    "        return self.__age\n",
    "    def setAge(self,age):\n",
    "        if age in range(self.__age - 1 ,self.__age + 2):\n",
    "            self.__age = age\n",
    "        else:\n",
    "            print(\"you can't change your age without your password ,you can only increment or decrement it by 1\")\n",
    "    def changeAge(self,age,password):\n",
    "        if password != self.__password:\n",
    "            print('Wrong password ')\n",
    "            return\n",
    "        self.__age = age\n",
    "    def changePassword(self,current,updated):\n",
    "        if self.__password != current:\n",
    "            print(\"Current password can't be updated\")\n",
    "            return\n",
    "        self.__password = updated\n",
    "        print('password successfully updated')"
   ]
  },
  {
   "cell_type": "code",
   "execution_count": 65,
   "metadata": {},
   "outputs": [],
   "source": [
    "mohit = Human(password='mohit123',name='Mohit')"
   ]
  },
  {
   "cell_type": "code",
   "execution_count": 66,
   "metadata": {},
   "outputs": [
    {
     "data": {
      "text/plain": [
       "0"
      ]
     },
     "execution_count": 66,
     "metadata": {},
     "output_type": "execute_result"
    }
   ],
   "source": [
    "mohit.getAge()"
   ]
  },
  {
   "cell_type": "code",
   "execution_count": 67,
   "metadata": {},
   "outputs": [
    {
     "name": "stdout",
     "output_type": "stream",
     "text": [
      "you can't change your age without your password ,you can only increment or decrement it by 1\n"
     ]
    }
   ],
   "source": [
    "mohit.setAge(20)"
   ]
  },
  {
   "cell_type": "code",
   "execution_count": 68,
   "metadata": {},
   "outputs": [
    {
     "data": {
      "text/plain": [
       "0"
      ]
     },
     "execution_count": 68,
     "metadata": {},
     "output_type": "execute_result"
    }
   ],
   "source": [
    "mohit.getAge()"
   ]
  },
  {
   "cell_type": "code",
   "execution_count": 69,
   "metadata": {},
   "outputs": [
    {
     "name": "stdout",
     "output_type": "stream",
     "text": [
      "Wrong password \n"
     ]
    }
   ],
   "source": [
    "mohit.changeAge(20,'happy')"
   ]
  },
  {
   "cell_type": "code",
   "execution_count": 70,
   "metadata": {},
   "outputs": [
    {
     "name": "stdout",
     "output_type": "stream",
     "text": [
      "Current password can't be updated\n"
     ]
    }
   ],
   "source": [
    "mohit.changePassword('happy','Azhad')"
   ]
  },
  {
   "cell_type": "code",
   "execution_count": 71,
   "metadata": {},
   "outputs": [
    {
     "name": "stdout",
     "output_type": "stream",
     "text": [
      "Current password can't be updated\n"
     ]
    }
   ],
   "source": [
    "mohit.changePassword('Azhad','happy')"
   ]
  },
  {
   "cell_type": "code",
   "execution_count": 72,
   "metadata": {},
   "outputs": [
    {
     "name": "stdout",
     "output_type": "stream",
     "text": [
      "Wrong password \n"
     ]
    }
   ],
   "source": [
    "mohit.changeAge(22,'happy')"
   ]
  },
  {
   "cell_type": "code",
   "execution_count": 73,
   "metadata": {},
   "outputs": [
    {
     "data": {
      "text/plain": [
       "0"
      ]
     },
     "execution_count": 73,
     "metadata": {},
     "output_type": "execute_result"
    }
   ],
   "source": [
    "mohit.getAge()"
   ]
  },
  {
   "cell_type": "code",
   "execution_count": 76,
   "metadata": {},
   "outputs": [],
   "source": [
    "del(mohit)"
   ]
  },
  {
   "cell_type": "code",
   "execution_count": null,
   "metadata": {},
   "outputs": [],
   "source": []
  }
 ],
 "metadata": {
  "kernelspec": {
   "display_name": "Python 3",
   "language": "python",
   "name": "python3"
  },
  "language_info": {
   "codemirror_mode": {
    "name": "ipython",
    "version": 3
   },
   "file_extension": ".py",
   "mimetype": "text/x-python",
   "name": "python",
   "nbconvert_exporter": "python",
   "pygments_lexer": "ipython3",
   "version": "3.7.4"
  }
 },
 "nbformat": 4,
 "nbformat_minor": 4
}
