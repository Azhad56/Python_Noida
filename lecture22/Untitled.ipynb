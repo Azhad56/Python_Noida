{
 "cells": [
  {
   "cell_type": "code",
   "execution_count": 1,
   "metadata": {},
   "outputs": [],
   "source": [
    "class Vertex:\n",
    "    def __init__(self,value):\n",
    "        self.value = value\n",
    "        self.neighbours = []\n",
    "    def __repr__(self):\n",
    "        return str(self.value)"
   ]
  },
  {
   "cell_type": "code",
   "execution_count": 2,
   "metadata": {},
   "outputs": [],
   "source": [
    "class Graph:\n",
    "    def __init__(self):\n",
    "        self.vertices = []\n",
    "    def find(self,value):\n",
    "        for vertex in self.vertices:\n",
    "            if vertex.value == value:\n",
    "                return vertex\n",
    "        return None\n",
    "    def add_vertex(self,value):\n",
    "        if not self.find(value):\n",
    "            self.vertices.append(Vertex(value))\n",
    "        else:\n",
    "            print(value,\"Already exists\")\n",
    "    def add_edge(self,source,target):\n",
    "        source_v = self.find(source)\n",
    "        target_v = self.find(target)\n",
    "        if source_v and target_v:\n",
    "            source_v.neighbours.append(target_v)\n",
    "            target_v.neighbours.append(source_v)\n",
    "        else:\n",
    "            print(\"Some of \",source,\"or \",target,\"is missing \")\n",
    "    def display(self):\n",
    "        for vertex in self.vertices:\n",
    "            print(vertex,end=\": \")\n",
    "            print(\" ,\".join([str(neighbour) for neighbour in vertex.neighbours]))"
   ]
  },
  {
   "cell_type": "code",
   "execution_count": 4,
   "metadata": {},
   "outputs": [
    {
     "name": "stdout",
     "output_type": "stream",
     "text": [
      "1 Already exists\n",
      "1: 2 ,3\n",
      "2: 1 ,3\n",
      "3: 1 ,2 ,4\n",
      "4: 3 ,5\n",
      "5: 4 ,6\n",
      "6: 5\n"
     ]
    }
   ],
   "source": [
    "graph = Graph()\n",
    "graph.add_vertex(1)\n",
    "graph.add_vertex(2)\n",
    "graph.add_vertex(1)\n",
    "graph.add_vertex(3)\n",
    "graph.add_vertex(4)\n",
    "graph.add_vertex(5)\n",
    "graph.add_vertex(6)\n",
    "graph.add_edge(1,2)\n",
    "graph.add_edge(1,3)\n",
    "graph.add_edge(2,3)\n",
    "graph.add_edge(3,4)\n",
    "graph.add_edge(4,5)\n",
    "graph.add_edge(5,6)\n",
    "graph.display()"
   ]
  },
  {
   "cell_type": "code",
   "execution_count": null,
   "metadata": {},
   "outputs": [],
   "source": []
  }
 ],
 "metadata": {
  "kernelspec": {
   "display_name": "Python 3",
   "language": "python",
   "name": "python3"
  },
  "language_info": {
   "codemirror_mode": {
    "name": "ipython",
    "version": 3
   },
   "file_extension": ".py",
   "mimetype": "text/x-python",
   "name": "python",
   "nbconvert_exporter": "python",
   "pygments_lexer": "ipython3",
   "version": "3.7.4"
  }
 },
 "nbformat": 4,
 "nbformat_minor": 2
}
