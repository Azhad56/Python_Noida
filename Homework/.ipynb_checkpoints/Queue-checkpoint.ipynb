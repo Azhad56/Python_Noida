{
 "cells": [
  {
   "cell_type": "code",
   "execution_count": 1,
   "metadata": {},
   "outputs": [],
   "source": [
    "import numpy as np"
   ]
  },
  {
   "cell_type": "code",
   "execution_count": 13,
   "metadata": {},
   "outputs": [],
   "source": [
    "class Queue:\n",
    "    \n",
    "    def __init__(self):\n",
    "        self.__first=-1\n",
    "        self.__last=-1\n",
    "        self._data = np.zeros((10,),dtype=int)\n",
    "    \n",
    "    def isFull(self):\n",
    "        return ((self.__last+1)%(len(self._data))==self.__first)\n",
    "\n",
    "    def isEmpty(self):\n",
    "        return (((self.__first==-1) and (self.__last==-1)))\n",
    "\n",
    "    def enqueue(self,val):\n",
    "        if self.isFull():\n",
    "            return \"Queue is Full\"\n",
    "            \n",
    "        elif self.isEmpty():\n",
    "            self.__first=0\n",
    "            self.__last=0\n",
    "\n",
    "        else:\n",
    "            self.__last=(self.__last+1)%10\n",
    "\n",
    "        self._data[self.__last] = val\n",
    "\n",
    "    def Dequeue(self):\n",
    "        if self.__isEmpty():\n",
    "            print(\"Your Queue is Empty You can't dequeue\")\n",
    "\n",
    "        elif self.__first==self.__last:\n",
    "            print(\" {} has been dequeue\").format(self._data[self.__first])\n",
    "            first=-1\n",
    "            last=-1\n",
    "\n",
    "        else:\n",
    "            print(\"{} has been dequeue\").format(self._data[self.__first])\n",
    "            self.__first=(self.__first+1)%len(self._data)\n",
    "\n",
    "    def clear(self):\n",
    "        self._data = np.zeros((10,),dtype=int)\n",
    "        self.__first=-1\n",
    "        self.__last=-1\n",
    "    def First(self):\n",
    "        if (not self.isEmpty()):\n",
    "            print(\"First element of Queue is \",self._data[self.__first])\n",
    "\n",
    "        else:\n",
    "            cout<<\"Queue is Empty\"<<endl\n",
    "\n",
    "    def Last(self):\n",
    "        if (not self.isEmpty()):\n",
    "            print(\"last\",self._data[self.__last])\n",
    "\n",
    "        else:\n",
    "            print(\"Queue is Empty\")\n",
    "    def __repr__(self):\n",
    "        return \"[{}]\".format(\"->\".join(map(str,self._data[:len(self._data)])))"
   ]
  },
  {
   "cell_type": "code",
   "execution_count": 14,
   "metadata": {},
   "outputs": [],
   "source": [
    "Q = Queue()"
   ]
  },
  {
   "cell_type": "code",
   "execution_count": 15,
   "metadata": {},
   "outputs": [],
   "source": [
    "for i in range(10):\n",
    "    Q.enqueue(i)"
   ]
  },
  {
   "cell_type": "code",
   "execution_count": 16,
   "metadata": {},
   "outputs": [
    {
     "data": {
      "text/plain": [
       "'Queue is Full'"
      ]
     },
     "execution_count": 16,
     "metadata": {},
     "output_type": "execute_result"
    }
   ],
   "source": [
    "Q.enqueue(11)"
   ]
  },
  {
   "cell_type": "code",
   "execution_count": 17,
   "metadata": {},
   "outputs": [
    {
     "name": "stdout",
     "output_type": "stream",
     "text": [
      "[0->1->2->3->4->5->6->7->8->9]\n"
     ]
    }
   ],
   "source": [
    "print(Q)"
   ]
  },
  {
   "cell_type": "code",
   "execution_count": 18,
   "metadata": {},
   "outputs": [],
   "source": [
    "class DynamicQueue(Queue):\n",
    "    \n",
    "    def enqueue(self, value):\n",
    "        if self.isFull():\n",
    "            bigger = np.zeros((2 * len(self._data),), dtype=int)\n",
    "            for i in range(len(self._data)):\n",
    "                bigger[i] = self._data[i]\n",
    "            \n",
    "            self._data = bigger\n",
    "            \n",
    "        super().enqueue(value)"
   ]
  },
  {
   "cell_type": "code",
   "execution_count": 19,
   "metadata": {},
   "outputs": [],
   "source": [
    "Dq = DynamicQueue()"
   ]
  },
  {
   "cell_type": "code",
   "execution_count": 20,
   "metadata": {},
   "outputs": [],
   "source": [
    "for i in range(50,100):\n",
    "    Dq.enqueue(i)"
   ]
  },
  {
   "cell_type": "code",
   "execution_count": 21,
   "metadata": {},
   "outputs": [
    {
     "name": "stdout",
     "output_type": "stream",
     "text": [
      "[90->91->92->93->94->95->96->97->98->99->0->0->0->0->0->0->0->0->0->0]\n"
     ]
    }
   ],
   "source": [
    "print(Dq)"
   ]
  },
  {
   "cell_type": "code",
   "execution_count": null,
   "metadata": {},
   "outputs": [],
   "source": []
  },
  {
   "cell_type": "code",
   "execution_count": null,
   "metadata": {},
   "outputs": [],
   "source": []
  }
 ],
 "metadata": {
  "kernelspec": {
   "display_name": "Python 3",
   "language": "python",
   "name": "python3"
  },
  "language_info": {
   "codemirror_mode": {
    "name": "ipython",
    "version": 3
   },
   "file_extension": ".py",
   "mimetype": "text/x-python",
   "name": "python",
   "nbconvert_exporter": "python",
   "pygments_lexer": "ipython3",
   "version": "3.7.4"
  }
 },
 "nbformat": 4,
 "nbformat_minor": 2
}
