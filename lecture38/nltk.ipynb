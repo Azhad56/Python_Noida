{
 "cells": [
  {
   "cell_type": "code",
   "execution_count": 1,
   "metadata": {},
   "outputs": [],
   "source": [
    "import nltk"
   ]
  },
  {
   "cell_type": "code",
   "execution_count": 2,
   "metadata": {},
   "outputs": [
    {
     "name": "stderr",
     "output_type": "stream",
     "text": [
      "[nltk_data] Downloading package punkt to /home/azhad56/nltk_data...\n",
      "[nltk_data]   Package punkt is already up-to-date!\n",
      "[nltk_data] Downloading package stopwords to\n",
      "[nltk_data]     /home/azhad56/nltk_data...\n",
      "[nltk_data]   Package stopwords is already up-to-date!\n"
     ]
    },
    {
     "data": {
      "text/plain": [
       "True"
      ]
     },
     "execution_count": 2,
     "metadata": {},
     "output_type": "execute_result"
    }
   ],
   "source": [
    "nltk.download('punkt')\n",
    "nltk.download('stopwords')"
   ]
  },
  {
   "cell_type": "code",
   "execution_count": 3,
   "metadata": {},
   "outputs": [],
   "source": [
    "import requests\n",
    "from nltk.corpus import stopwords\n",
    "from nltk.tokenize import word_tokenize, sent_tokenize\n",
    "import string\n",
    "\n",
    "import numpy as np"
   ]
  },
  {
   "cell_type": "code",
   "execution_count": 4,
   "metadata": {},
   "outputs": [],
   "source": [
    "url = \"https://cb.lk/speech\""
   ]
  },
  {
   "cell_type": "code",
   "execution_count": 5,
   "metadata": {},
   "outputs": [],
   "source": [
    "content = requests.get(url)"
   ]
  },
  {
   "cell_type": "code",
   "execution_count": 6,
   "metadata": {},
   "outputs": [],
   "source": [
    "with open(\"speech.txt\", \"wt\", encoding=\"utf-8\") as f:\n",
    "    f.write(content.text)\n",
    "\n",
    "with open(\"speech.txt\", \"rt\", encoding=\"utf-8\") as f:\n",
    "    some_text = f.read()\n",
    "\n"
   ]
  },
  {
   "cell_type": "code",
   "execution_count": 7,
   "metadata": {},
   "outputs": [
    {
     "name": "stdout",
     "output_type": "stream",
     "text": [
      "<class 'str'>\n"
     ]
    }
   ],
   "source": [
    "print(type(some_text))"
   ]
  },
  {
   "cell_type": "code",
   "execution_count": 8,
   "metadata": {},
   "outputs": [
    {
     "name": "stdout",
     "output_type": "stream",
     "text": [
      "26 8 2016, India\n",
      "Niti Aayog\n",
      "There was a time when development was believed to depend on the quantity of capital and labour. Today we know that it depends as much on the quality of institutions and ide\n"
     ]
    }
   ],
   "source": [
    "print(some_text[:200])"
   ]
  },
  {
   "cell_type": "code",
   "execution_count": 9,
   "metadata": {},
   "outputs": [
    {
     "name": "stdout",
     "output_type": "stream",
     "text": [
      "1725021\n"
     ]
    }
   ],
   "source": [
    "print(len(some_text))"
   ]
  },
  {
   "cell_type": "code",
   "execution_count": 10,
   "metadata": {},
   "outputs": [],
   "source": [
    "text = content.text"
   ]
  },
  {
   "cell_type": "code",
   "execution_count": 11,
   "metadata": {},
   "outputs": [],
   "source": [
    "words = word_tokenize(text.lower())"
   ]
  },
  {
   "cell_type": "code",
   "execution_count": 12,
   "metadata": {},
   "outputs": [
    {
     "name": "stdout",
     "output_type": "stream",
     "text": [
      "330100 <class 'list'>\n"
     ]
    }
   ],
   "source": [
    "print(len(words),type(words))"
   ]
  },
  {
   "cell_type": "code",
   "execution_count": 13,
   "metadata": {},
   "outputs": [
    {
     "name": "stdout",
     "output_type": "stream",
     "text": [
      "['26', '8', '2016', ',', 'india', 'niti', 'aayog', 'there', 'was', 'a', 'time', 'when', 'development', 'was', 'believed', 'to', 'depend', 'on', 'the', 'quantity', 'of', 'capital', 'and', 'labour', '.', 'today', 'we', 'know', 'that', 'it', 'depends', 'as', 'much', 'on', 'the', 'quality', 'of', 'institutions', 'and', 'ideas', '.', 'early', 'last', 'year', ',', 'a', 'new', 'institution', 'was', 'created', ',', 'namely', ',', 'the', 'national', 'institution', 'for', 'transforming', 'india', 'or', 'niti', '.', 'niti', 'was', 'created', 'as', 'an', 'evidence', 'based', 'think', 'tank', 'to', 'guide', 'india', '’', 's', 'transformation', '.', 'one', 'of', 'niti', '’', 's', 'functions', 'is', ':', '-', 'to', 'mainstream', 'external', 'ideas', 'into', 'government', 'policies', ',', 'through', 'collaboration', 'with', 'national', 'and', 'international', 'experts', ';', '-', 'to', 'be', 'the', 'government', '’', 's', 'link', 'to', 'the', 'outside', 'world', ',', 'outside', 'experts', 'and', 'practitioners', ';', '-', 'to', 'be', 'the', 'instrument', 'through', 'which', 'ideas', 'from', 'outside', 'are', 'incorporated', 'into', 'policy-making', '.', 'the', 'government', 'of', 'india', 'and', 'the', 'state', 'governments', 'have', 'a', 'long', 'administrative', 'tradition', '.', 'this', 'tradition', 'combines', 'indigenous', 'and', 'external', 'ideas', 'from', 'india', '’', 's', 'past', '.', 'this', 'administrative', 'tradition', 'has', 'served', 'india', 'well', 'in', 'many', 'ways', '.', 'above', 'all', ',', 'it', 'has', 'preserved', 'democracy', 'and', 'federalism', ',', 'unity', 'and', 'integrity', ',', 'in', 'a', 'country', 'of', 'glorious', 'diversity', '.', 'these', 'are', 'not', 'small', 'achievements']\n"
     ]
    }
   ],
   "source": [
    "print(words[:200])"
   ]
  },
  {
   "cell_type": "code",
   "execution_count": 14,
   "metadata": {},
   "outputs": [
    {
     "data": {
      "text/plain": [
       "14060"
      ]
     },
     "execution_count": 14,
     "metadata": {},
     "output_type": "execute_result"
    }
   ],
   "source": [
    "len(set(words)) #total number of unique words in the speech"
   ]
  },
  {
   "cell_type": "markdown",
   "metadata": {},
   "source": [
    "Stopwords are the English words which does not add much meaning to a sentence. They can safely be ignored without sacrificing the meaning of the sentence. For example, the words like the, he, have etc. Such words are already captured this in corpus named corpus"
   ]
  },
  {
   "cell_type": "code",
   "execution_count": 15,
   "metadata": {},
   "outputs": [],
   "source": [
    "stops = stopwords.words(\"english\")"
   ]
  },
  {
   "cell_type": "code",
   "execution_count": 16,
   "metadata": {},
   "outputs": [
    {
     "data": {
      "text/plain": [
       "179"
      ]
     },
     "execution_count": 16,
     "metadata": {},
     "output_type": "execute_result"
    }
   ],
   "source": [
    "len(stops)"
   ]
  },
  {
   "cell_type": "code",
   "execution_count": 17,
   "metadata": {},
   "outputs": [
    {
     "data": {
      "text/plain": [
       "['i',\n",
       " 'me',\n",
       " 'my',\n",
       " 'myself',\n",
       " 'we',\n",
       " 'our',\n",
       " 'ours',\n",
       " 'ourselves',\n",
       " 'you',\n",
       " \"you're\",\n",
       " \"you've\",\n",
       " \"you'll\",\n",
       " \"you'd\",\n",
       " 'your',\n",
       " 'yours']"
      ]
     },
     "execution_count": 17,
     "metadata": {},
     "output_type": "execute_result"
    }
   ],
   "source": [
    "stops[:15]"
   ]
  },
  {
   "cell_type": "code",
   "execution_count": 18,
   "metadata": {},
   "outputs": [
    {
     "data": {
      "text/plain": [
       "'!\"#$%&\\'()*+,-./:;<=>?@[\\\\]^_`{|}~'"
      ]
     },
     "execution_count": 18,
     "metadata": {},
     "output_type": "execute_result"
    }
   ],
   "source": [
    "string.punctuation"
   ]
  },
  {
   "cell_type": "code",
   "execution_count": 19,
   "metadata": {},
   "outputs": [],
   "source": [
    "punc = list(string.punctuation)"
   ]
  },
  {
   "cell_type": "code",
   "execution_count": 20,
   "metadata": {},
   "outputs": [
    {
     "data": {
      "text/plain": [
       "['!', '\"', '#', '$', '%', '&', \"'\", '(', ')', '*']"
      ]
     },
     "execution_count": 20,
     "metadata": {},
     "output_type": "execute_result"
    }
   ],
   "source": [
    "punc[:10]"
   ]
  },
  {
   "cell_type": "code",
   "execution_count": 21,
   "metadata": {},
   "outputs": [],
   "source": [
    "bad = set(stops + punc)"
   ]
  },
  {
   "cell_type": "code",
   "execution_count": 22,
   "metadata": {},
   "outputs": [],
   "source": [
    "pure = [word for word in words if word not in bad]"
   ]
  },
  {
   "cell_type": "code",
   "execution_count": 23,
   "metadata": {},
   "outputs": [
    {
     "data": {
      "text/plain": [
       "['26',\n",
       " '8',\n",
       " '2016',\n",
       " 'india',\n",
       " 'niti',\n",
       " 'aayog',\n",
       " 'time',\n",
       " 'development',\n",
       " 'believed',\n",
       " 'depend']"
      ]
     },
     "execution_count": 23,
     "metadata": {},
     "output_type": "execute_result"
    }
   ],
   "source": [
    "pure[:10]"
   ]
  },
  {
   "cell_type": "code",
   "execution_count": 24,
   "metadata": {},
   "outputs": [
    {
     "data": {
      "text/plain": [
       "154582"
      ]
     },
     "execution_count": 24,
     "metadata": {},
     "output_type": "execute_result"
    }
   ],
   "source": [
    "len(pure)"
   ]
  },
  {
   "cell_type": "code",
   "execution_count": 25,
   "metadata": {},
   "outputs": [
    {
     "data": {
      "text/plain": [
       "211"
      ]
     },
     "execution_count": 25,
     "metadata": {},
     "output_type": "execute_result"
    }
   ],
   "source": [
    "len(bad)"
   ]
  },
  {
   "cell_type": "code",
   "execution_count": 26,
   "metadata": {},
   "outputs": [
    {
     "name": "stdout",
     "output_type": "stream",
     "text": [
      "13898 or 13898\n"
     ]
    }
   ],
   "source": [
    "print(len(np.unique(pure)),\"or\",len(set(pure)))"
   ]
  },
  {
   "cell_type": "code",
   "execution_count": 28,
   "metadata": {},
   "outputs": [],
   "source": [
    "items, counts = np.unique(pure, return_counts=True)"
   ]
  },
  {
   "cell_type": "code",
   "execution_count": 29,
   "metadata": {},
   "outputs": [
    {
     "data": {
      "text/plain": [
       "(array([\"''\", \"'aadhar\", \"'act\", ..., '…india', '……', '\\uf0a7'],\n",
       "       dtype='<U28'),\n",
       " array([111,   1,   1, ...,   1,   1,   3]))"
      ]
     },
     "execution_count": 29,
     "metadata": {},
     "output_type": "execute_result"
    }
   ],
   "source": [
    "np.unique(pure,return_counts=True)"
   ]
  },
  {
   "cell_type": "code",
   "execution_count": 38,
   "metadata": {},
   "outputs": [
    {
     "data": {
      "text/plain": [
       "array([ 6833,  7451,  7450, ..., 13883,  1007,  6276])"
      ]
     },
     "execution_count": 38,
     "metadata": {},
     "output_type": "execute_result"
    }
   ],
   "source": [
    "counts.argsort()  #It is returning those indices in ascending order"
   ]
  },
  {
   "cell_type": "code",
   "execution_count": 39,
   "metadata": {},
   "outputs": [],
   "source": [
    "sorted_indices = counts.argsort()"
   ]
  },
  {
   "cell_type": "code",
   "execution_count": 40,
   "metadata": {},
   "outputs": [],
   "source": [
    "last_indices = sorted_indices[-1000:] #1000 Most occurance word's indices in the speech"
   ]
  },
  {
   "cell_type": "code",
   "execution_count": 41,
   "metadata": {},
   "outputs": [],
   "source": [
    "bag = items[last_indices] #1000 Most occrance word in the speech"
   ]
  },
  {
   "cell_type": "code",
   "execution_count": 43,
   "metadata": {},
   "outputs": [
    {
     "name": "stdout",
     "output_type": "stream",
     "text": [
      "['tried' 'mean' 'regime' 'balance' 'hosting' 'hand' '30' 'becomes'\n",
      " 'solution' 'flow' 'seeing' 'directly' 'introduced' 'teacher' 'talking'\n",
      " 'lakhs' 'enjoy' 'tomorrow' 'additional' 'lost' 'bridge' 'institution'\n",
      " 'capabilities' 'reached' 'little' 'reflects' 'completed' 'neighbours'\n",
      " 'remains' 'coastal' 'mothers' 'resource' 'planning' 'ability' 'period'\n",
      " 'affordable' 'providing' 'persons' 'framework' 'momentum' 'dignity'\n",
      " 'send' 'experiences' 'card' 'post' 'reality' 'paris' 'poorest' 'spent'\n",
      " 'urban']\n"
     ]
    }
   ],
   "source": [
    "print(bag[:50])"
   ]
  },
  {
   "cell_type": "code",
   "execution_count": 49,
   "metadata": {},
   "outputs": [],
   "source": [
    "vocab = dict(zip(bag, range(len(bag))))"
   ]
  },
  {
   "cell_type": "code",
   "execution_count": 51,
   "metadata": {},
   "outputs": [],
   "source": [
    "#vocab"
   ]
  },
  {
   "cell_type": "code",
   "execution_count": 56,
   "metadata": {},
   "outputs": [],
   "source": [
    "# grabbing a sent out of total speech\n",
    "\n",
    "sent = sent_tokenize(text)[100]"
   ]
  },
  {
   "cell_type": "code",
   "execution_count": 57,
   "metadata": {},
   "outputs": [
    {
     "data": {
      "text/plain": [
       "\"I thanked the President for South Africa's support to India's membership of the Nuclear Suppliers Group.\""
      ]
     },
     "execution_count": 57,
     "metadata": {},
     "output_type": "execute_result"
    }
   ],
   "source": [
    "sent"
   ]
  },
  {
   "cell_type": "code",
   "execution_count": 58,
   "metadata": {},
   "outputs": [],
   "source": [
    "w = word_tokenize(sent.lower())"
   ]
  },
  {
   "cell_type": "code",
   "execution_count": 60,
   "metadata": {},
   "outputs": [
    {
     "data": {
      "text/plain": [
       "['i', 'thanked', 'the', 'president', 'for']"
      ]
     },
     "execution_count": 60,
     "metadata": {},
     "output_type": "execute_result"
    }
   ],
   "source": [
    "w[:5]"
   ]
  },
  {
   "cell_type": "code",
   "execution_count": 61,
   "metadata": {},
   "outputs": [],
   "source": [
    "vec = np.zeros([len(vocab)], dtype=int)"
   ]
  },
  {
   "cell_type": "code",
   "execution_count": 63,
   "metadata": {},
   "outputs": [],
   "source": [
    "#vec"
   ]
  },
  {
   "cell_type": "code",
   "execution_count": 64,
   "metadata": {},
   "outputs": [],
   "source": [
    "for word in w:\n",
    "    if word in vocab:\n",
    "        vec[vocab[word]] += 1"
   ]
  },
  {
   "cell_type": "code",
   "execution_count": 65,
   "metadata": {},
   "outputs": [
    {
     "data": {
      "text/plain": [
       "array([0, 0, 0, 0, 0, 0, 0, 0, 0, 0, 0, 0, 0, 0, 0, 0, 0, 0, 0, 0, 0, 0,\n",
       "       0, 0, 0, 0, 0, 0, 0, 0, 0, 0, 0, 0, 0, 0, 0, 0, 0, 0, 0, 0, 0, 0,\n",
       "       0, 0, 0, 0, 0, 0, 0, 0, 0, 0, 0, 0, 0, 0, 0, 0, 0, 0, 0, 0, 0, 0,\n",
       "       0, 0, 1, 0, 0, 0, 0, 0, 0, 0, 0, 0, 0, 0, 0, 0, 0, 0, 0, 0, 0, 0,\n",
       "       0, 0, 0, 0, 0, 0, 0, 0, 0, 0, 0, 0, 0, 0, 0, 0, 0, 0, 0, 0, 0, 0,\n",
       "       0, 0, 0, 0, 0, 0, 0, 0, 0, 0, 0, 0, 0, 0, 0, 0, 0, 0, 0, 0, 0, 0,\n",
       "       0, 0, 0, 0, 0, 0, 0, 0, 0, 0, 0, 0, 0, 0, 0, 0, 0, 0, 0, 0, 0, 0,\n",
       "       0, 0, 0, 0, 0, 0, 0, 0, 0, 0, 0, 0, 0, 0, 0, 0, 0, 0, 0, 0, 0, 0,\n",
       "       0, 0, 0, 0, 0, 0, 0, 0, 0, 0, 0, 0, 0, 0, 0, 1, 0, 0, 0, 0, 0, 0,\n",
       "       0, 0, 0, 0, 0, 0, 0, 0, 0, 0, 0, 0, 0, 0, 0, 0, 0, 0, 0, 0, 0, 0,\n",
       "       0, 0, 0, 0, 0, 0, 0, 0, 0, 0, 0, 0, 0, 0, 0, 0, 0, 0, 0, 0, 0, 0,\n",
       "       0, 0, 0, 0, 0, 0, 0, 0, 0, 0, 0, 0, 0, 0, 0, 0, 0, 0, 0, 0, 0, 0,\n",
       "       0, 0, 0, 0, 0, 0, 0, 0, 0, 0, 0, 0, 0, 0, 0, 0, 0, 0, 0, 0, 0, 0,\n",
       "       0, 0, 0, 0, 0, 0, 0, 0, 0, 0, 0, 0, 0, 0, 0, 0, 0, 0, 0, 0, 0, 0,\n",
       "       0, 0, 0, 0, 0, 0, 0, 0, 0, 0, 0, 0, 0, 0, 0, 0, 0, 0, 0, 0, 0, 0,\n",
       "       0, 0, 0, 0, 0, 0, 0, 0, 0, 0, 0, 0, 0, 0, 0, 0, 0, 0, 0, 0, 0, 0,\n",
       "       0, 0, 0, 0, 0, 0, 0, 0, 0, 0, 0, 0, 0, 0, 0, 0, 0, 0, 0, 0, 0, 0,\n",
       "       0, 0, 0, 0, 0, 0, 0, 0, 0, 0, 0, 0, 0, 0, 0, 0, 0, 0, 0, 0, 0, 0,\n",
       "       0, 0, 0, 0, 0, 0, 0, 0, 0, 0, 0, 0, 0, 0, 0, 0, 0, 0, 0, 0, 0, 0,\n",
       "       0, 0, 0, 0, 0, 0, 0, 0, 0, 0, 0, 0, 0, 0, 0, 0, 0, 0, 0, 0, 0, 0,\n",
       "       0, 0, 0, 0, 0, 0, 0, 0, 0, 0, 0, 0, 0, 0, 0, 0, 0, 0, 0, 0, 0, 0,\n",
       "       0, 0, 0, 0, 0, 0, 0, 0, 0, 0, 0, 0, 0, 0, 0, 0, 0, 0, 0, 0, 0, 0,\n",
       "       0, 0, 0, 0, 0, 0, 0, 0, 0, 0, 0, 0, 0, 0, 0, 0, 0, 0, 0, 0, 0, 0,\n",
       "       0, 0, 0, 0, 0, 0, 0, 0, 0, 0, 0, 0, 0, 0, 0, 0, 0, 0, 0, 0, 0, 0,\n",
       "       0, 0, 0, 0, 0, 0, 0, 0, 0, 0, 0, 0, 0, 0, 0, 0, 0, 0, 0, 0, 0, 0,\n",
       "       0, 0, 0, 0, 0, 0, 0, 0, 0, 0, 0, 0, 0, 0, 0, 0, 0, 0, 0, 0, 0, 0,\n",
       "       0, 0, 0, 0, 0, 0, 0, 0, 0, 0, 0, 0, 0, 0, 0, 0, 0, 0, 0, 0, 0, 0,\n",
       "       0, 0, 0, 0, 0, 0, 0, 0, 0, 0, 0, 0, 0, 0, 0, 0, 0, 0, 0, 0, 0, 0,\n",
       "       0, 0, 0, 0, 0, 0, 0, 0, 0, 0, 0, 0, 0, 0, 0, 0, 0, 0, 0, 0, 0, 0,\n",
       "       0, 0, 0, 0, 0, 0, 0, 0, 0, 0, 0, 0, 0, 0, 0, 0, 0, 0, 0, 0, 0, 0,\n",
       "       0, 0, 0, 0, 0, 0, 0, 0, 0, 0, 0, 0, 0, 0, 0, 0, 0, 0, 0, 0, 0, 0,\n",
       "       0, 0, 0, 0, 0, 0, 0, 0, 0, 0, 0, 0, 0, 0, 0, 0, 0, 0, 0, 0, 0, 0,\n",
       "       0, 0, 0, 0, 0, 0, 0, 0, 0, 0, 0, 0, 0, 0, 0, 0, 0, 0, 0, 0, 0, 0,\n",
       "       0, 0, 0, 0, 0, 0, 0, 0, 0, 0, 0, 0, 0, 0, 0, 0, 0, 0, 0, 0, 0, 0,\n",
       "       0, 0, 0, 0, 0, 0, 0, 0, 0, 0, 0, 0, 0, 0, 0, 0, 0, 0, 0, 0, 0, 0,\n",
       "       0, 0, 0, 0, 0, 0, 0, 0, 0, 0, 0, 0, 0, 0, 0, 0, 0, 0, 0, 0, 0, 0,\n",
       "       0, 0, 0, 0, 0, 0, 0, 0, 0, 0, 0, 0, 0, 0, 0, 0, 0, 0, 0, 0, 0, 0,\n",
       "       0, 0, 0, 0, 0, 0, 0, 0, 0, 0, 0, 0, 0, 0, 0, 0, 0, 0, 0, 1, 0, 0,\n",
       "       0, 0, 0, 0, 0, 0, 0, 0, 0, 0, 0, 0, 0, 0, 0, 0, 0, 0, 0, 0, 0, 0,\n",
       "       0, 0, 0, 0, 0, 0, 0, 0, 0, 0, 0, 0, 0, 0, 1, 0, 0, 0, 0, 0, 0, 0,\n",
       "       0, 0, 0, 0, 0, 0, 0, 0, 0, 0, 0, 0, 0, 0, 0, 0, 0, 0, 0, 0, 0, 0,\n",
       "       0, 0, 0, 0, 0, 0, 0, 0, 0, 0, 0, 0, 0, 0, 0, 0, 0, 0, 0, 0, 0, 0,\n",
       "       1, 0, 0, 0, 0, 0, 0, 0, 0, 0, 0, 0, 0, 0, 0, 0, 0, 0, 0, 0, 0, 0,\n",
       "       0, 0, 0, 0, 0, 0, 0, 0, 0, 0, 0, 1, 0, 0, 0, 0, 0, 0, 0, 0, 0, 0,\n",
       "       0, 0, 0, 0, 0, 0, 0, 0, 0, 0, 0, 0, 2, 0, 0, 0, 0, 0, 0, 0, 0, 0,\n",
       "       0, 0, 0, 0, 0, 0, 0, 0, 0, 1])"
      ]
     },
     "execution_count": 65,
     "metadata": {},
     "output_type": "execute_result"
    }
   ],
   "source": [
    "vec"
   ]
  },
  {
   "cell_type": "code",
   "execution_count": 78,
   "metadata": {},
   "outputs": [],
   "source": [
    "from sklearn.feature_extraction.text import CountVectorizer "
   ]
  },
  {
   "cell_type": "code",
   "execution_count": 79,
   "metadata": {},
   "outputs": [],
   "source": [
    "model = CountVectorizer()"
   ]
  },
  {
   "cell_type": "code",
   "execution_count": 80,
   "metadata": {},
   "outputs": [
    {
     "data": {
      "text/plain": [
       "CountVectorizer()"
      ]
     },
     "execution_count": 80,
     "metadata": {},
     "output_type": "execute_result"
    }
   ],
   "source": [
    "model.fit(sent_tokenize(text.lower()))"
   ]
  },
  {
   "cell_type": "code",
   "execution_count": 81,
   "metadata": {},
   "outputs": [
    {
     "data": {
      "text/plain": [
       "12842"
      ]
     },
     "execution_count": 81,
     "metadata": {},
     "output_type": "execute_result"
    }
   ],
   "source": [
    "len(model.vocabulary_)"
   ]
  },
  {
   "cell_type": "code",
   "execution_count": 82,
   "metadata": {},
   "outputs": [
    {
     "data": {
      "text/plain": [
       "{'26': 179,\n",
       " '2016': 140,\n",
       " 'india': 5792,\n",
       " 'niti': 7766,\n",
       " 'aayog': 333,\n",
       " 'there': 11449,\n",
       " 'was': 12391,\n",
       " 'time': 11537,\n",
       " 'when': 12479,\n",
       " 'development': 3261,\n",
       " 'believed': 1374,\n",
       " 'to': 11559,\n",
       " 'depend': 3159,\n",
       " 'on': 7942,\n",
       " 'the': 11431,\n",
       " 'quantity': 9078,\n",
       " 'of': 7906,\n",
       " 'capital': 1879,\n",
       " 'and': 796,\n",
       " 'labour': 6514,\n",
       " 'today': 11562,\n",
       " 'we': 12423,\n",
       " 'know': 6452,\n",
       " 'that': 11427,\n",
       " 'it': 6160,\n",
       " 'depends': 3163,\n",
       " 'as': 978,\n",
       " 'much': 7511,\n",
       " 'quality': 9075,\n",
       " 'institutions': 5965,\n",
       " 'ideas': 5611,\n",
       " 'early': 3689,\n",
       " 'last': 6575,\n",
       " 'year': 12653,\n",
       " 'new': 7727,\n",
       " 'institution': 5962,\n",
       " 'created': 2809,\n",
       " 'namely': 7606,\n",
       " 'national': 7628,\n",
       " 'for': 4647,\n",
       " 'transforming': 11676,\n",
       " 'or': 7999,\n",
       " 'an': 773,\n",
       " 'evidence': 4134,\n",
       " 'based': 1292,\n",
       " 'think': 11464,\n",
       " 'tank': 11271,\n",
       " 'guide': 5148,\n",
       " 'transformation': 11671,\n",
       " 'one': 7945,\n",
       " 'functions': 4811,\n",
       " 'is': 6137,\n",
       " 'mainstream': 6946,\n",
       " 'external': 4290,\n",
       " 'into': 6058,\n",
       " 'government': 5028,\n",
       " 'policies': 8550,\n",
       " 'through': 11507,\n",
       " 'collaboration': 2302,\n",
       " 'with': 12551,\n",
       " 'international': 6034,\n",
       " 'experts': 4252,\n",
       " 'be': 1318,\n",
       " 'link': 6739,\n",
       " 'outside': 8067,\n",
       " 'world': 12594,\n",
       " 'practitioners': 8666,\n",
       " 'instrument': 5969,\n",
       " 'which': 12486,\n",
       " 'from': 4775,\n",
       " 'are': 921,\n",
       " 'incorporated': 5762,\n",
       " 'policy': 8552,\n",
       " 'making': 6967,\n",
       " 'state': 10821,\n",
       " 'governments': 5030,\n",
       " 'have': 5292,\n",
       " 'long': 6821,\n",
       " 'administrative': 510,\n",
       " 'tradition': 11643,\n",
       " 'this': 11477,\n",
       " 'combines': 2336,\n",
       " 'indigenous': 5805,\n",
       " 'past': 8244,\n",
       " 'has': 5275,\n",
       " 'served': 10217,\n",
       " 'well': 12460,\n",
       " 'in': 5727,\n",
       " 'many': 7028,\n",
       " 'ways': 12422,\n",
       " 'above': 364,\n",
       " 'all': 680,\n",
       " 'preserved': 8759,\n",
       " 'democracy': 3138,\n",
       " 'federalism': 4429,\n",
       " 'unity': 11965,\n",
       " 'integrity': 5990,\n",
       " 'country': 2763,\n",
       " 'glorious': 4985,\n",
       " 'diversity': 3496,\n",
       " 'these': 11456,\n",
       " 'not': 7802,\n",
       " 'small': 10562,\n",
       " 'achievements': 434,\n",
       " 'yet': 12666,\n",
       " 'now': 7824,\n",
       " 'live': 6772,\n",
       " 'age': 599,\n",
       " 'where': 12481,\n",
       " 'change': 2057,\n",
       " 'constant': 2580,\n",
       " 'variables': 12167,\n",
       " 'must': 7549,\n",
       " 'both': 1609,\n",
       " 'internal': 6032,\n",
       " 'reasons': 9279,\n",
       " 'each': 3682,\n",
       " 'its': 6166,\n",
       " 'own': 8091,\n",
       " 'experiences': 4245,\n",
       " 'resources': 9622,\n",
       " 'strengths': 10921,\n",
       " 'thirty': 11474,\n",
       " 'years': 12658,\n",
       " 'ago': 617,\n",
       " 'might': 7258,\n",
       " 'been': 1348,\n",
       " 'able': 355,\n",
       " 'look': 6825,\n",
       " 'inward': 6112,\n",
       " 'find': 4521,\n",
       " 'solutions': 10619,\n",
       " 'countries': 2762,\n",
       " 'inter': 6011,\n",
       " 'dependent': 3162,\n",
       " 'connected': 2544,\n",
       " 'no': 7776,\n",
       " 'can': 1853,\n",
       " 'afford': 580,\n",
       " 'any': 842,\n",
       " 'longer': 6822,\n",
       " 'develop': 3258,\n",
       " 'isolation': 6152,\n",
       " 'every': 4128,\n",
       " 'benchmark': 1393,\n",
       " 'activities': 458,\n",
       " 'global': 4975,\n",
       " 'standards': 10802,\n",
       " 'else': 3816,\n",
       " 'fall': 4354,\n",
       " 'behind': 1363,\n",
       " 'also': 721,\n",
       " 'necessary': 7671,\n",
       " 'younger': 12687,\n",
       " 'generation': 4913,\n",
       " 'our': 8047,\n",
       " 'thinking': 11467,\n",
       " 'aspiring': 1016,\n",
       " 'so': 10590,\n",
       " 'differently': 3326,\n",
       " 'remain': 9487,\n",
       " 'rooted': 9805,\n",
       " 'even': 4120,\n",
       " 'families': 4365,\n",
       " 'relationship': 9457,\n",
       " 'between': 1429,\n",
       " 'young': 12686,\n",
       " 'old': 7934,\n",
       " 'changed': 2058,\n",
       " 'elders': 3781,\n",
       " 'family': 4366,\n",
       " 'knew': 6451,\n",
       " 'more': 7452,\n",
       " 'than': 11417,\n",
       " 'those': 11482,\n",
       " 'who': 12493,\n",
       " 'were': 12466,\n",
       " 'spread': 10761,\n",
       " 'technology': 11335,\n",
       " 'situation': 10515,\n",
       " 'often': 7928,\n",
       " 'reversed': 9702,\n",
       " 'increases': 5768,\n",
       " 'challenge': 2031,\n",
       " 'communicating': 2385,\n",
       " 'meeting': 7165,\n",
       " 'rising': 9765,\n",
       " 'expectations': 4232,\n",
       " 'if': 5622,\n",
       " 'meet': 7164,\n",
       " 'mere': 7210,\n",
       " 'incremental': 5772,\n",
       " 'progress': 8889,\n",
       " 'enough': 3972,\n",
       " 'metamorphosis': 7229,\n",
       " 'needed': 7676,\n",
       " 'why': 12502,\n",
       " 'my': 7557,\n",
       " 'vision': 12299,\n",
       " 'rapid': 9199,\n",
       " 'gradual': 5049,\n",
       " 'evolution': 4141,\n",
       " 'cannot': 1868,\n",
       " 'happen': 5235,\n",
       " 'without': 12555,\n",
       " 'governance': 5025,\n",
       " 'mindset': 7285,\n",
       " 'transformative': 11674,\n",
       " 'laws': 6599,\n",
       " 'eliminate': 3806,\n",
       " 'unnecessary': 11987,\n",
       " 'procedures': 8841,\n",
       " 'speed': 10710,\n",
       " 'up': 12032,\n",
       " 'processes': 8848,\n",
       " 'adopt': 523,\n",
       " 'march': 7037,\n",
       " 'twenty': 11821,\n",
       " 'first': 4545,\n",
       " 'century': 1997,\n",
       " 'systems': 11217,\n",
       " 'nineteenth': 7758,\n",
       " 'fundamental': 4813,\n",
       " 'changes': 2059,\n",
       " 'mindsets': 7286,\n",
       " 'usually': 12097,\n",
       " 'occur': 7891,\n",
       " 'sudden': 11016,\n",
       " 'shocks': 10347,\n",
       " 'crisis': 2840,\n",
       " 'fortunate': 4703,\n",
       " 'stable': 10778,\n",
       " 'democratic': 3139,\n",
       " 'polity': 8563,\n",
       " 'absence': 368,\n",
       " 'such': 11013,\n",
       " 'make': 6962,\n",
       " 'special': 10692,\n",
       " 'efforts': 3759,\n",
       " 'force': 4651,\n",
       " 'ourselves': 8049,\n",
       " 'individuals': 5813,\n",
       " 'may': 7118,\n",
       " 'absorb': 372,\n",
       " 'by': 1815,\n",
       " 'reading': 9249,\n",
       " 'books': 1591,\n",
       " 'articles': 967,\n",
       " 'open': 7961,\n",
       " 'windows': 12530,\n",
       " 'minds': 7284,\n",
       " 'however': 5533,\n",
       " 'unless': 11975,\n",
       " 'brainstorm': 1652,\n",
       " 'collectively': 2317,\n",
       " 'confined': 2518,\n",
       " 'individual': 5811,\n",
       " 'hear': 5321,\n",
       " 'understand': 11898,\n",
       " 'them': 11438,\n",
       " 'but': 1808,\n",
       " 'do': 3518,\n",
       " 'act': 448,\n",
       " 'upon': 12059,\n",
       " 'because': 1334,\n",
       " 'beyond': 1430,\n",
       " 'capacity': 1876,\n",
       " 'sit': 10505,\n",
       " 'together': 11564,\n",
       " 'will': 12520,\n",
       " 'collective': 2316,\n",
       " 'convert': 2690,\n",
       " 'action': 451,\n",
       " 'what': 12471,\n",
       " 'need': 7675,\n",
       " 'opening': 7963,\n",
       " 'let': 6664,\n",
       " 'perspectives': 8375,\n",
       " 'rather': 9211,\n",
       " 'individually': 5812,\n",
       " 'requires': 9585,\n",
       " 'concerted': 2490,\n",
       " 'effort': 3758,\n",
       " 'you': 12685,\n",
       " 'ever': 4126,\n",
       " 'since': 10470,\n",
       " 'taking': 11246,\n",
       " 'office': 7917,\n",
       " 'personally': 8370,\n",
       " 'participated': 8207,\n",
       " 'structured': 10952,\n",
       " 'brainstorming': 1653,\n",
       " 'sessions': 10225,\n",
       " 'bankers': 1266,\n",
       " 'police': 8547,\n",
       " 'officers': 7919,\n",
       " 'secretaries': 10122,\n",
       " 'among': 765,\n",
       " 'others': 8042,\n",
       " 'coming': 2345,\n",
       " 'being': 1365,\n",
       " 'tap': 11277,\n",
       " 'inside': 5921,\n",
       " 'next': 7738,\n",
       " 'step': 10853,\n",
       " 'bring': 1705,\n",
       " 'culturally': 2877,\n",
       " 'indians': 5794,\n",
       " 'always': 731,\n",
       " 'receptive': 9299,\n",
       " 'elsewhere': 3817,\n",
       " 'said': 9907,\n",
       " 'rigveda': 9756,\n",
       " 'भद': 12785,\n",
       " 'रतव': 12802,\n",
       " 'यन': 12797,\n",
       " 'वत': 12815,\n",
       " 'means': 7136,\n",
       " 'us': 12080,\n",
       " 'welcome': 12455,\n",
       " 'noble': 7779,\n",
       " 'thoughts': 11486,\n",
       " 'flowing': 4603,\n",
       " 'directions': 3370,\n",
       " 'purpose': 9042,\n",
       " 'lecture': 6633,\n",
       " 'series': 10206,\n",
       " 'attend': 1099,\n",
       " 'part': 8201,\n",
       " 'team': 11319,\n",
       " 'draw': 3599,\n",
       " 'best': 1421,\n",
       " 'wisdom': 12541,\n",
       " 'knowledge': 6454,\n",
       " 'eminent': 3846,\n",
       " 'persons': 8373,\n",
       " 'influenced': 5853,\n",
       " 'lives': 6779,\n",
       " 'their': 11436,\n",
       " 'nation': 7627,\n",
       " 'better': 1427,\n",
       " 'place': 8467,\n",
       " 'planet': 8475,\n",
       " 'given': 4966,\n",
       " 'feedback': 4434,\n",
       " 'form': 4680,\n",
       " 'forward': 4710,\n",
       " 'your': 12690,\n",
       " 'detailed': 3241,\n",
       " 'frank': 4747,\n",
       " 'help': 5355,\n",
       " 'improve': 5718,\n",
       " 'process': 8846,\n",
       " 'request': 9578,\n",
       " 'suggest': 11034,\n",
       " 'names': 7607,\n",
       " 'panelists': 8156,\n",
       " 'conduct': 2507,\n",
       " 'follow': 4624,\n",
       " 'discussion': 3421,\n",
       " 'week': 12447,\n",
       " 'participants': 8205,\n",
       " 'ministries': 7307,\n",
       " 'emerge': 3836,\n",
       " 'session': 10224,\n",
       " 'specific': 10700,\n",
       " 'points': 8539,\n",
       " 'relevant': 9470,\n",
       " 'group': 5120,\n",
       " 'wherever': 12484,\n",
       " 'possible': 8620,\n",
       " 'ministers': 7306,\n",
       " 'participate': 8206,\n",
       " 'greatest': 5088,\n",
       " 'reformers': 9385,\n",
       " 'administrators': 511,\n",
       " 'lee': 6636,\n",
       " 'kuan': 6479,\n",
       " 'yew': 12667,\n",
       " 'transformed': 11675,\n",
       " 'singapore': 10479,\n",
       " 'therefore': 11453,\n",
       " 'fitting': 4559,\n",
       " 'inaugurating': 5736,\n",
       " 'shri': 10388,\n",
       " 'tharman': 11425,\n",
       " 'shanmugaratnam': 10270,\n",
       " 'deputy': 3187,\n",
       " 'prime': 8800,\n",
       " 'minister': 7304,\n",
       " 'he': 5304,\n",
       " 'prolific': 8901,\n",
       " 'scholar': 10063,\n",
       " 'public': 9003,\n",
       " 'maker': 6963,\n",
       " 'apart': 851,\n",
       " 'coordinating': 2709,\n",
       " 'economic': 3723,\n",
       " 'social': 10594,\n",
       " 'finance': 4515,\n",
       " 'chairman': 2022,\n",
       " 'monetary': 7419,\n",
       " 'authority': 1147,\n",
       " 'manpower': 7016,\n",
       " 'second': 10117,\n",
       " 'education': 3741,\n",
       " 'born': 1602,\n",
       " 'nineteen': 7757,\n",
       " 'fifty': 4480,\n",
       " 'seven': 10238,\n",
       " 'sri': 10771,\n",
       " 'lankan': 6563,\n",
       " 'tamil': 11263,\n",
       " 'ancestry': 792,\n",
       " 'earned': 3692,\n",
       " 'his': 5432,\n",
       " 'bachelor': 1212,\n",
       " 'degree': 3095,\n",
       " 'economics': 3726,\n",
       " 'at': 1066,\n",
       " 'london': 6820,\n",
       " 'school': 10067,\n",
       " 'master': 7084,\n",
       " 'cambridge': 1841,\n",
       " 'university': 11970,\n",
       " 'another': 827,\n",
       " 'administration': 508,\n",
       " 'harvard': 5271,\n",
       " 'honoured': 5486,\n",
       " 'littauer': 6766,\n",
       " 'fellow': 4445,\n",
       " 'award': 1184,\n",
       " 'outstanding': 8071,\n",
       " 'performance': 8338,\n",
       " 'leading': 6613,\n",
       " 'intellectuals': 5993,\n",
       " 'would': 12616,\n",
       " 'like': 6718,\n",
       " 'give': 4965,\n",
       " 'example': 4155,\n",
       " 'range': 9187,\n",
       " 'sweep': 11171,\n",
       " 'economy': 3730,\n",
       " 'lot': 6843,\n",
       " 'transshipment': 11698,\n",
       " 'warming': 12380,\n",
       " 'melts': 7180,\n",
       " 'polar': 8544,\n",
       " 'ice': 5601,\n",
       " 'caps': 1885,\n",
       " 'navigation': 7653,\n",
       " 'routes': 9820,\n",
       " 'possibly': 8621,\n",
       " 'reduce': 9354,\n",
       " 'relevance': 9469,\n",
       " 'am': 732,\n",
       " 'told': 11572,\n",
       " 'already': 718,\n",
       " 'started': 10811,\n",
       " 'about': 363,\n",
       " 'possibility': 8619,\n",
       " 'planning': 8477,\n",
       " 'friends': 4767,\n",
       " 'list': 6751,\n",
       " 'honours': 5488,\n",
       " 'received': 9293,\n",
       " 'eager': 3683,\n",
       " 'listen': 6753,\n",
       " 'him': 5412,\n",
       " 'further': 4821,\n",
       " 'delay': 3101,\n",
       " 'great': 5086,\n",
       " 'pleasure': 8504,\n",
       " 'stage': 10782,\n",
       " 'enlighten': 3964,\n",
       " 'subject': 10976,\n",
       " 'delimiter': 3121,\n",
       " 'south': 10661,\n",
       " 'africa': 591,\n",
       " 'backs': 1220,\n",
       " 'bid': 1474,\n",
       " 'join': 6251,\n",
       " 'nuclear': 7831,\n",
       " 'suppliers': 11079,\n",
       " 'excellency': 4167,\n",
       " 'president': 8763,\n",
       " 'republic': 9573,\n",
       " 'mr': 7505,\n",
       " 'jacob': 6175,\n",
       " 'zuma': 12714,\n",
       " 'thank': 11419,\n",
       " 'warm': 12378,\n",
       " 'words': 12581,\n",
       " 'generous': 4918,\n",
       " 'hospitality': 5510,\n",
       " 'though': 11483,\n",
       " 'visit': 12302,\n",
       " 'delegation': 3107,\n",
       " 'feel': 4436,\n",
       " 'home': 5467,\n",
       " 'rainbow': 9136,\n",
       " 'deeply': 3064,\n",
       " 'gratefulto': 5077,\n",
       " 'me': 7128,\n",
       " 'opportunity': 7982,\n",
       " 'pay': 8279,\n",
       " 'homage': 5466,\n",
       " 'two': 11826,\n",
       " 'human': 5551,\n",
       " 'souls': 10654,\n",
       " 'walked': 12360,\n",
       " 'earth': 3697,\n",
       " 'mahatma': 6928,\n",
       " 'gandhi': 4853,\n",
       " 'nelson': 7706,\n",
       " 'mandela': 6997,\n",
       " 'centuries': 1996,\n",
       " 'nurtured': 7843,\n",
       " 'strong': 10945,\n",
       " 'people': 8320,\n",
       " 'ties': 11527,\n",
       " 'stood': 10883,\n",
       " 'common': 2377,\n",
       " 'fight': 4481,\n",
       " 'against': 597,\n",
       " 'racial': 9114,\n",
       " 'subjugation': 10978,\n",
       " 'colonialism': 2323,\n",
       " 'gandhifound': 4855,\n",
       " 'true': 11770,\n",
       " 'calling': 1836,\n",
       " 'belongs': 1385,\n",
       " 'shared': 10280,\n",
       " 'values': 12155,\n",
       " 'suffering': 11021,\n",
       " 'struggles': 10957,\n",
       " 'provide': 8971,\n",
       " 'foundation': 4718,\n",
       " 'strategic': 10907,\n",
       " 'partnership': 8222,\n",
       " 'success': 11007,\n",
       " 'visibleacross': 12298,\n",
       " 'sectors': 10129,\n",
       " 'discussions': 3422,\n",
       " 'reviewed': 9704,\n",
       " 'full': 4803,\n",
       " 'spectrum': 10707,\n",
       " 'engagement': 3938,\n",
       " 'agreed': 621,\n",
       " 'decades': 3014,\n",
       " 'story': 10896,\n",
       " 'advances': 538,\n",
       " 'concrete': 2497,\n",
       " 'way': 12420,\n",
       " 'trade': 11638,\n",
       " 'grownby': 5128,\n",
       " 'over': 8073,\n",
       " '300': 193,\n",
       " 'percent': 8327,\n",
       " 'ten': 11368,\n",
       " 'indian': 5793,\n",
       " 'companies': 2393,\n",
       " 'hold': 5453,\n",
       " 'business': 1801,\n",
       " 'interests': 6023,\n",
       " 'fourth': 4728,\n",
       " 'investments': 6093,\n",
       " 'potential': 8634,\n",
       " 'expand': 4222,\n",
       " 'investment': 6092,\n",
       " 'especially': 4071,\n",
       " 'areas': 923,\n",
       " 'minerals': 7290,\n",
       " 'mining': 7303,\n",
       " 'chemicals': 2110,\n",
       " 'pharmaceuticals': 8396,\n",
       " 'high': 5396,\n",
       " 'manufacturing': 7025,\n",
       " 'information': 5859,\n",
       " 'communication': 2386,\n",
       " 'convinced': 2698,\n",
       " 'industry': 5835,\n",
       " 'only': 7955,\n",
       " 'rich': 9736,\n",
       " 'gains': 4840,\n",
       " 'societies': 10598,\n",
       " 'they': 11457,\n",
       " 'shape': 10275,\n",
       " 'drive': 3623,\n",
       " 'levels': 6670,\n",
       " 'nations': 7638,\n",
       " 'play': 8489,\n",
       " 'robust': 9787,\n",
       " 'regional': 9408,\n",
       " 'role': 9791,\n",
       " 'later': 6581,\n",
       " 'down': 3577,\n",
       " 'leadership': 6612,\n",
       " 'identify': 5614,\n",
       " 'synergies': 11207,\n",
       " 'nature': 7643,\n",
       " 'developing': 3260,\n",
       " 'economies': 3727,\n",
       " 'demands': 3135,\n",
       " 'should': 10366,\n",
       " 'focus': 4614,\n",
       " 'improving': 5723,\n",
       " 'capacities': 1875,\n",
       " 'needs': 7679,\n",
       " 'fields': 4475,\n",
       " 'vocational': 12323,\n",
       " 'technical': 11327,\n",
       " 'professional': 8874,\n",
       " 'complement': 2425,\n",
       " 'other': 8041,\n",
       " 'benefit': 1401,\n",
       " 'ready': 9251,\n",
       " 'share': 10279,\n",
       " 'expertise': 4251,\n",
       " 'medium': 7162,\n",
       " 'links': 6745,\n",
       " 'partner': 8218,\n",
       " 'field': 4473,\n",
       " 'defence': 3074,\n",
       " 'security': 10136,\n",
       " 'level': 6668,\n",
       " 'witnessing': 12558,\n",
       " 'complete': 2429,\n",
       " 'offers': 7916,\n",
       " 'exciting': 4185,\n",
       " 'opportunities': 7981,\n",
       " 'pool': 8575,\n",
       " 'jointly': 6256,\n",
       " 'manufacture': 7022,\n",
       " 'equipments': 4042,\n",
       " 'platforms': 8488,\n",
       " 'just': 6293,\n",
       " 'respond': 9632,\n",
       " 'demand': 3132,\n",
       " 'work': 12583,\n",
       " 'closely': 2249,\n",
       " 'issues': 6157,\n",
       " 'emerging': 3841,\n",
       " 'challenges': 2033,\n",
       " 'thanked': 11420,\n",
       " 'support': 11082,\n",
       " 'membership': 7183,\n",
       " 'count': 2756,\n",
       " 'active': 454,\n",
       " 'climate': 2240,\n",
       " 'impact': 5674,\n",
       " 'concern': 2485,\n",
       " 'large': 6569,\n",
       " 'scale': 10037,\n",
       " 'renewable': 9522,\n",
       " 'energy': 3932,\n",
       " 'address': 486,\n",
       " 'mind': 7281,\n",
       " 'had': 5191,\n",
       " 'led': 6635,\n",
       " 'solar': 10607,\n",
       " 'alliance': 688,\n",
       " 'cop': 2712,\n",
       " '21': 155,\n",
       " 'paris': 8187,\n",
       " 'believe': 1373,\n",
       " 'most': 7461,\n",
       " 'effective': 3750,\n",
       " 'platform': 8487,\n",
       " 'access': 393,\n",
       " 'promoting': 8914,\n",
       " 'thankful': 11421,\n",
       " '120': 28,\n",
       " 'terrorism': 11398,\n",
       " 'threat': 11491,\n",
       " 'puts': 9060,\n",
       " 'risk': 9766,\n",
       " 'safety': 9894,\n",
       " 'attacks': 1090,\n",
       " 'very': 12223,\n",
       " 'foundations': 4719,\n",
       " 'society': 10599,\n",
       " 'stay': 10838,\n",
       " 'vigilant': 12257,\n",
       " 'cooperate': 2704,\n",
       " 'actively': 455,\n",
       " 'combat': 2331,\n",
       " 'region': 9407,\n",
       " 'waters': 12411,\n",
       " 'ocean': 7894,\n",
       " 'sea': 10095,\n",
       " 'frontiers': 4779,\n",
       " 'rim': 9758,\n",
       " 'association': 1046,\n",
       " 'emerged': 3837,\n",
       " 'key': 6386,\n",
       " 'maritime': 7046,\n",
       " 'neighbours': 7703,\n",
       " 'chairmanship': 2023,\n",
       " 'organization': 8023,\n",
       " '2017': 141,\n",
       " '19': 78,\n",
       " 'working': 12589,\n",
       " 'priorities': 8813,\n",
       " 'agenda': 603,\n",
       " 'ibsa': 5598,\n",
       " 'brazil': 1664,\n",
       " 'brics': 1688,\n",
       " 'welcoming': 12458,\n",
       " 'goa': 4992,\n",
       " 'summit': 11057,\n",
       " 'october': 7900,\n",
       " 'say': 10031,\n",
       " 'end': 3907,\n",
       " 'satyagraha': 10016,\n",
       " 'forgiveness': 4677,\n",
       " 'madiba': 6903,\n",
       " 'ports': 8602,\n",
       " 'gujarat': 5157,\n",
       " 'shores': 10356,\n",
       " 'durban': 3657,\n",
       " 'united': 11961,\n",
       " 'vast': 12175,\n",
       " 'oceans': 7896,\n",
       " 'spirit': 10730,\n",
       " 'vasudaiva': 12178,\n",
       " 'kutumbakum': 6501,\n",
       " 'ubuntu': 11836,\n",
       " 'resolve': 9614,\n",
       " 'determination': 3248,\n",
       " 'justice': 6294,\n",
       " 'excellence': 4165,\n",
       " 'endeavour': 3913,\n",
       " 'truly': 11771,\n",
       " 'exceptional': 4171,\n",
       " 'unlike': 11977,\n",
       " 'mozambique': 7500,\n",
       " 'banquet': 1271,\n",
       " 'speech': 10708,\n",
       " 'during': 3659,\n",
       " 'filipe': 4497,\n",
       " 'nyusi': 7851,\n",
       " 'ladies': 6530,\n",
       " 'gentlemen': 4923,\n",
       " 'touched': 11612,\n",
       " 'kind': 6428,\n",
       " 'strength': 10916,\n",
       " 'thousands': 11488,\n",
       " 'origin': 8033,\n",
       " 'call': 1833,\n",
       " 'siddi': 10415,\n",
       " 'community': 2391,\n",
       " 'resides': 9605,\n",
       " 'parts': 8224,\n",
       " 'known': 6456,\n",
       " 'trace': 11631,\n",
       " 'communitiesare': 2390,\n",
       " 'living': 6780,\n",
       " 'testimony': 11405,\n",
       " 'traditions': 11646,\n",
       " 'culture': 2878,\n",
       " 'commerce': 2362,\n",
       " 'suffered': 11020,\n",
       " 'under': 11885,\n",
       " 'colonial': 2322,\n",
       " 'rule': 9838,\n",
       " 'case': 1926,\n",
       " 'struggle': 10955,\n",
       " 'independent': 5789,\n",
       " 'advocates': 560,\n",
       " 'mozambican': 7499,\n",
       " 'freedom': 4753,\n",
       " 'proud': 8964,\n",
       " 'see': 10137,\n",
       " 'ranks': 9195,\n",
       " 'free': 4751,\n",
       " '1975': 108,\n",
       " 'applaud': 866,\n",
       " 'fastest': 4397,\n",
       " 'growing': 5126,\n",
       " 'recent': 9296,\n",
       " 'face': 4313,\n",
       " 'similar': 10455,\n",
       " 'essential': 4074,\n",
       " 'particularly': 8214,\n",
       " 'flourished': 4597,\n",
       " 'want': 12372,\n",
       " 'build': 1760,\n",
       " 'remains': 9490,\n",
       " 'committed': 2371,\n",
       " 'concessional': 2491,\n",
       " 'credit': 2821,\n",
       " 'line': 6733,\n",
       " 'marked': 7048,\n",
       " '40th': 224,\n",
       " 'anniversary': 817,\n",
       " 'independence': 5788,\n",
       " 'establishment': 4080,\n",
       " 'diplomatic': 3362,\n",
       " 'saw': 10029,\n",
       " 'interaction': 6015,\n",
       " 'never': 7725,\n",
       " 'seen': 10149,\n",
       " 'before': 1349,\n",
       " 'point': 8535,\n",
       " 'august': 1132,\n",
       " '2015': 139,\n",
       " 'presence': 8750,\n",
       " 'third': 11469,\n",
       " 'edition': 3737,\n",
       " 'forum': 4708,\n",
       " 'aware': 1188,\n",
       " '34': 206,\n",
       " 'gap': 4866,\n",
       " 'confident': 2517,\n",
       " 'future': 4825,\n",
       " 'excellencies': 4166,\n",
       " 'please': 8500,\n",
       " 'raising': 9145,\n",
       " 'toast': 11560,\n",
       " 'health': 5317,\n",
       " 'happiness': 5241,\n",
       " 'jacinto': 6171,\n",
       " 'lasting': 6577,\n",
       " 'peace': 8290,\n",
       " 'prosperity': 8952,\n",
       " 'bonds': 1585,\n",
       " 'friendship': 4768,\n",
       " 'cooperation': 2706,\n",
       " 'mann': 7012,\n",
       " 'ki': 6407,\n",
       " 'baat': 1205,\n",
       " 'dear': 3001,\n",
       " 'countrymen': 2765,\n",
       " 'greetings': 5103,\n",
       " 'namaskar': 7600,\n",
       " 'endure': 3924,\n",
       " 'trials': 11736,\n",
       " 'scorching': 10078,\n",
       " 'heat': 5335,\n",
       " 'summer': 11055,\n",
       " 'scarcity': 10046,\n",
       " 'water': 12407,\n",
       " 'drought': 3633,\n",
       " 'conditions': 2504,\n",
       " 'weeks': 12450,\n",
       " 'harbinger': 5246,\n",
       " 'news': 7734,\n",
       " 'rainfall': 9137,\n",
       " 'different': 3323,\n",
       " 'places': 8469,\n",
       " 'bringing': 1706,\n",
       " 'wake': 12358,\n",
       " 'feeling': 4437,\n",
       " 'freshness': 4763,\n",
       " 'too': 11590,\n",
       " 'felt': 4446,\n",
       " 'going': 5008,\n",
       " 'predictions': 8718,\n",
       " 'scientists': 10073,\n",
       " 'good': 5013,\n",
       " 'far': 4374,\n",
       " 'wide': 12506,\n",
       " 'throughout': 11508,\n",
       " 'rainy': 9141,\n",
       " 'season': 10108,\n",
       " 'itself': 6168,\n",
       " 'charges': 2076,\n",
       " 'enthusiasm': 3998,\n",
       " 'extend': 4283,\n",
       " 'farmer': 4384,\n",
       " 'brethren': 1681,\n",
       " 'hoping': 5496,\n",
       " 'bountiful': 1625,\n",
       " 'toiling': 11569,\n",
       " 'farmers': 4385,\n",
       " 'achieving': 435,\n",
       " 'fronts': 4781,\n",
       " 'take': 11242,\n",
       " 'heights': 5347,\n",
       " 'right': 9749,\n",
       " 'beginning': 1354,\n",
       " 'nurture': 7842,\n",
       " 'dream': 3608,\n",
       " 'becoming': 1340,\n",
       " 'keen': 6366,\n",
       " 'interest': 6020,\n",
       " 'science': 10070,\n",
       " 'youngsters': 12689,\n",
       " 'zeal': 12703,\n",
       " 'something': 10629,\n",
       " 'generations': 4914,\n",
       " 'bright': 1697,\n",
       " 'yesterday': 12664,\n",
       " 'gone': 5012,\n",
       " 'pune': 9024,\n",
       " 'occasion': 7885,\n",
       " 'smart': 10565,\n",
       " 'city': 2187,\n",
       " 'project': 8895,\n",
       " 'met': 7226,\n",
       " 'students': 10962,\n",
       " 'college': 2319,\n",
       " 'engineering': 3944,\n",
       " 'made': 6900,\n",
       " 'satellite': 10005,\n",
       " 'launched': 6591,\n",
       " '22nd': 162,\n",
       " 'june': 6288,\n",
       " 'called': 1834,\n",
       " 'wish': 12545,\n",
       " 'mine': 7287,\n",
       " 'interact': 6012,\n",
       " 'experience': 4243,\n",
       " 'firsthand': 4546,\n",
       " 'within': 12554,\n",
       " 'several': 10243,\n",
       " 'contributions': 2664,\n",
       " 'academic': 379,\n",
       " 'soaring': 10593,\n",
       " 'flight': 4585,\n",
       " 'courage': 2773,\n",
       " 'ambition': 745,\n",
       " 'dreams': 3610,\n",
       " 'big': 1475,\n",
       " 'lofty': 6806,\n",
       " 'soar': 10592,\n",
       " 'sky': 10531,\n",
       " 'put': 9058,\n",
       " 'intense': 6000,\n",
       " 'lines': 6734,\n",
       " 'achieved': 432,\n",
       " 'satyabhama': 10015,\n",
       " 'chennai': 2112,\n",
       " 'nadu': 7578,\n",
       " 'sathyabamasat': 10007,\n",
       " 'hearing': 5323,\n",
       " 'things': 11463,\n",
       " 'childhood': 2128,\n",
       " 'child': 2127,\n",
       " 'wishes': 12549,\n",
       " 'deep': 3057,\n",
       " 'heart': 5324,\n",
       " 'touch': 11610,\n",
       " 'grab': 5041,\n",
       " 'few': 4467,\n",
       " 'stars': 10809,\n",
       " 'keeping': 6370,\n",
       " 'opinion': 7977,\n",
       " 'satellites': 10006,\n",
       " 'isro': 6154,\n",
       " 'extremely': 4304,\n",
       " 'important': 5700,\n",
       " 'valuable': 12150,\n",
       " 'deserve': 3207,\n",
       " 'hearty': 5334,\n",
       " 'congratulations': 2540,\n",
       " 'congratulate': 2535,\n",
       " '20': 120,\n",
       " 'simultaneously': 10467,\n",
       " 'space': 10673,\n",
       " 'set': 10226,\n",
       " 'record': 9329,\n",
       " 'breaking': 1670,\n",
       " 'previous': 8787,\n",
       " 'records': 9331,\n",
       " 'matter': 7104,\n",
       " 'joy': 6269,\n",
       " '17': 62,\n",
       " 'along': 712,\n",
       " 'america': 758,\n",
       " 'soil': 10604,\n",
       " 'reached': 9239,\n",
       " 'outer': 8056,\n",
       " 'noteworthy': 7806,\n",
       " 'owing': 8090,\n",
       " 'guarantee': 5134,\n",
       " 'lesser': 6661,\n",
       " 'cost': 2740,\n",
       " 'carved': 1924,\n",
       " 'reason': 9276,\n",
       " 'looking': 6827,\n",
       " 'towards': 11625,\n",
       " 'launching': 6594,\n",
       " 'save': 10019,\n",
       " 'girl': 4962,\n",
       " 'educate': 3738,\n",
       " 'beti': 1423,\n",
       " 'bachao': 1211,\n",
       " 'padhao': 8110,\n",
       " 'become': 1338,\n",
       " 'heartfelt': 5329,\n",
       " 'still': 10865,\n",
       " 'some': 10624,\n",
       " 'incidents': 5744,\n",
       " 'infuse': 5865,\n",
       " 'life': 6701,\n",
       " 'slogan': 10547,\n",
       " 'results': 9666,\n",
       " '10th': 16,\n",
       " ...}"
      ]
     },
     "execution_count": 82,
     "metadata": {},
     "output_type": "execute_result"
    }
   ],
   "source": [
    "model.vocabulary_"
   ]
  },
  {
   "cell_type": "code",
   "execution_count": null,
   "metadata": {},
   "outputs": [],
   "source": []
  }
 ],
 "metadata": {
  "kernelspec": {
   "display_name": "Python 3",
   "language": "python",
   "name": "python3"
  },
  "language_info": {
   "codemirror_mode": {
    "name": "ipython",
    "version": 3
   },
   "file_extension": ".py",
   "mimetype": "text/x-python",
   "name": "python",
   "nbconvert_exporter": "python",
   "pygments_lexer": "ipython3",
   "version": "3.8.3"
  }
 },
 "nbformat": 4,
 "nbformat_minor": 4
}
