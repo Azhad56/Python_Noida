{
 "cells": [
  {
   "cell_type": "code",
   "execution_count": 6,
   "metadata": {},
   "outputs": [],
   "source": [
    "from bs4 import BeautifulSoup\n",
    "import requests\n",
    "import pandas as pd"
   ]
  },
  {
   "cell_type": "code",
   "execution_count": 7,
   "metadata": {},
   "outputs": [],
   "source": [
    "url = r\"https://www.goodreads.com/quotes?page=0\"\n",
    "response = requests.get(url)\n",
    "soup = BeautifulSoup(response.text)\n"
   ]
  },
  {
   "cell_type": "code",
   "execution_count": 8,
   "metadata": {},
   "outputs": [],
   "source": [
    "quotes = soup.find_all(\"div\",attrs={\"class\":\"quote\"})"
   ]
  },
  {
   "cell_type": "code",
   "execution_count": 9,
   "metadata": {},
   "outputs": [],
   "source": [
    "# quotes"
   ]
  },
  {
   "cell_type": "code",
   "execution_count": 10,
   "metadata": {},
   "outputs": [],
   "source": [
    "books=[]"
   ]
  },
  {
   "cell_type": "code",
   "execution_count": 11,
   "metadata": {},
   "outputs": [],
   "source": [
    "\n",
    "for quote_items in quotes:\n",
    "    quote_items = quote_items.find_next(\"div\",attrs={\"class\":\"quoteText\"})\n",
    "    quote = quote_items.text.strip().split('\\n')[0]\n",
    "    author = quote_items.span.text.strip()\n",
    "    left = quote_items.find_next(\"div\", attrs={\"class\" : \"left\"})\n",
    "    li_tags_links = left.find_all(\"a\")\n",
    "    tags = [tag_link.text for tag_link in li_tags_links]\n",
    "    quote_books={\n",
    "        \"quote\" : quote,\n",
    "        \"author\" : author,\n",
    "        \"tags\" : tags\n",
    "    }\n",
    "    books.append(quote_books)"
   ]
  },
  {
   "cell_type": "code",
   "execution_count": 12,
   "metadata": {},
   "outputs": [],
   "source": [
    "books_table = pd.DataFrame(books)"
   ]
  },
  {
   "cell_type": "code",
   "execution_count": 13,
   "metadata": {},
   "outputs": [],
   "source": [
    "def process(url_link):\n",
    "    response = requests.get(url_link)\n",
    "    soup = BeautifulSoup(response.text)\n",
    "    quotes = soup.find_all(\"div\",attrs={\"class\":\"quote\"})\n",
    "    books=[]\n",
    "    for quote_items in quotes:\n",
    "        quote_items = quote_items.find_next(\"div\",attrs={\"class\":\"quoteText\"})\n",
    "        quote = quote_items.text.strip().split('\\n')[0]\n",
    "        author = quote_items.span.text.strip()\n",
    "        left = quote_items.find_next(\"div\", attrs={\"class\" : \"left\"})\n",
    "        li_tags_links = left.find_all(\"a\")\n",
    "        tags = [tag_link.text for tag_link in li_tags_links]\n",
    "        quote_books={\n",
    "            \"quote\" : quote,\n",
    "            \"author\" : author,\n",
    "            \"tags\" : tags\n",
    "        }\n",
    "        books.append(quote_books)\n",
    "    return books"
   ]
  },
  {
   "cell_type": "code",
   "execution_count": null,
   "metadata": {},
   "outputs": [],
   "source": []
  },
  {
   "cell_type": "code",
   "execution_count": null,
   "metadata": {},
   "outputs": [],
   "source": []
  },
  {
   "cell_type": "code",
   "execution_count": 14,
   "metadata": {},
   "outputs": [
    {
     "name": "stdout",
     "output_type": "stream",
     "text": [
      "Processing love page 0\n",
      "https://www.goodreads.com/quotes/tag/love?page=0\n",
      "Processing love page 1\n",
      "https://www.goodreads.com/quotes/tag/love?page=1\n",
      "Processing love page 2\n",
      "https://www.goodreads.com/quotes/tag/love?page=2\n",
      "Processing love page 3\n",
      "https://www.goodreads.com/quotes/tag/love?page=3\n",
      "Processing love page 4\n",
      "https://www.goodreads.com/quotes/tag/love?page=4\n",
      "Processing love page 5\n",
      "https://www.goodreads.com/quotes/tag/love?page=5\n",
      "Processing love page 6\n",
      "https://www.goodreads.com/quotes/tag/love?page=6\n",
      "Processing love page 7\n",
      "https://www.goodreads.com/quotes/tag/love?page=7\n",
      "Processing love page 8\n",
      "https://www.goodreads.com/quotes/tag/love?page=8\n",
      "Processing love page 9\n",
      "https://www.goodreads.com/quotes/tag/love?page=9\n",
      "Processing life page 0\n",
      "https://www.goodreads.com/quotes/tag/life?page=0\n",
      "Processing life page 1\n",
      "https://www.goodreads.com/quotes/tag/life?page=1\n",
      "Processing life page 2\n",
      "https://www.goodreads.com/quotes/tag/life?page=2\n",
      "Processing life page 3\n",
      "https://www.goodreads.com/quotes/tag/life?page=3\n",
      "Processing life page 4\n",
      "https://www.goodreads.com/quotes/tag/life?page=4\n",
      "Processing life page 5\n",
      "https://www.goodreads.com/quotes/tag/life?page=5\n",
      "Processing life page 6\n",
      "https://www.goodreads.com/quotes/tag/life?page=6\n",
      "Processing life page 7\n",
      "https://www.goodreads.com/quotes/tag/life?page=7\n",
      "Processing life page 8\n",
      "https://www.goodreads.com/quotes/tag/life?page=8\n",
      "Processing life page 9\n",
      "https://www.goodreads.com/quotes/tag/life?page=9\n",
      "Processing inspirational page 0\n",
      "https://www.goodreads.com/quotes/tag/inspirational?page=0\n",
      "Processing inspirational page 1\n",
      "https://www.goodreads.com/quotes/tag/inspirational?page=1\n",
      "Processing inspirational page 2\n",
      "https://www.goodreads.com/quotes/tag/inspirational?page=2\n",
      "Processing inspirational page 3\n",
      "https://www.goodreads.com/quotes/tag/inspirational?page=3\n",
      "Processing inspirational page 4\n",
      "https://www.goodreads.com/quotes/tag/inspirational?page=4\n",
      "Processing inspirational page 5\n",
      "https://www.goodreads.com/quotes/tag/inspirational?page=5\n",
      "Processing inspirational page 6\n",
      "https://www.goodreads.com/quotes/tag/inspirational?page=6\n",
      "Processing inspirational page 7\n",
      "https://www.goodreads.com/quotes/tag/inspirational?page=7\n",
      "Processing inspirational page 8\n",
      "https://www.goodreads.com/quotes/tag/inspirational?page=8\n",
      "Processing inspirational page 9\n",
      "https://www.goodreads.com/quotes/tag/inspirational?page=9\n",
      "Processing Humor page 0\n",
      "https://www.goodreads.com/quotes/tag/Humor?page=0\n",
      "Processing Humor page 1\n",
      "https://www.goodreads.com/quotes/tag/Humor?page=1\n",
      "Processing Humor page 2\n",
      "https://www.goodreads.com/quotes/tag/Humor?page=2\n",
      "Processing Humor page 3\n",
      "https://www.goodreads.com/quotes/tag/Humor?page=3\n",
      "Processing Humor page 4\n",
      "https://www.goodreads.com/quotes/tag/Humor?page=4\n",
      "Processing Humor page 5\n",
      "https://www.goodreads.com/quotes/tag/Humor?page=5\n",
      "Processing Humor page 6\n",
      "https://www.goodreads.com/quotes/tag/Humor?page=6\n",
      "Processing Humor page 7\n",
      "https://www.goodreads.com/quotes/tag/Humor?page=7\n",
      "Processing Humor page 8\n",
      "https://www.goodreads.com/quotes/tag/Humor?page=8\n",
      "Processing Humor page 9\n",
      "https://www.goodreads.com/quotes/tag/Humor?page=9\n",
      "Processing Philosophy page 0\n",
      "https://www.goodreads.com/quotes/tag/Philosophy?page=0\n",
      "Processing Philosophy page 1\n",
      "https://www.goodreads.com/quotes/tag/Philosophy?page=1\n",
      "Processing Philosophy page 2\n",
      "https://www.goodreads.com/quotes/tag/Philosophy?page=2\n",
      "Processing Philosophy page 3\n",
      "https://www.goodreads.com/quotes/tag/Philosophy?page=3\n",
      "Processing Philosophy page 4\n",
      "https://www.goodreads.com/quotes/tag/Philosophy?page=4\n",
      "Processing Philosophy page 5\n",
      "https://www.goodreads.com/quotes/tag/Philosophy?page=5\n",
      "Processing Philosophy page 6\n",
      "https://www.goodreads.com/quotes/tag/Philosophy?page=6\n",
      "Processing Philosophy page 7\n",
      "https://www.goodreads.com/quotes/tag/Philosophy?page=7\n",
      "Processing Philosophy page 8\n",
      "https://www.goodreads.com/quotes/tag/Philosophy?page=8\n",
      "Processing Philosophy page 9\n",
      "https://www.goodreads.com/quotes/tag/Philosophy?page=9\n",
      "Processing God page 0\n",
      "https://www.goodreads.com/quotes/tag/God?page=0\n",
      "Processing God page 1\n",
      "https://www.goodreads.com/quotes/tag/God?page=1\n",
      "Processing God page 2\n",
      "https://www.goodreads.com/quotes/tag/God?page=2\n",
      "Processing God page 3\n",
      "https://www.goodreads.com/quotes/tag/God?page=3\n",
      "Processing God page 4\n",
      "https://www.goodreads.com/quotes/tag/God?page=4\n",
      "Processing God page 5\n",
      "https://www.goodreads.com/quotes/tag/God?page=5\n",
      "Processing God page 6\n",
      "https://www.goodreads.com/quotes/tag/God?page=6\n",
      "Processing God page 7\n",
      "https://www.goodreads.com/quotes/tag/God?page=7\n",
      "Processing God page 8\n",
      "https://www.goodreads.com/quotes/tag/God?page=8\n",
      "Processing God page 9\n",
      "https://www.goodreads.com/quotes/tag/God?page=9\n"
     ]
    }
   ],
   "source": [
    "page = [\"love\",\"life\",\"inspirational\",\"Humor\",\"Philosophy\",\"God\"]\n",
    "url = r\"https://www.goodreads.com/quotes/tag/{}?page={}\"\n",
    "chunk = []\n",
    "for e in page:\n",
    "    for i in range(10):\n",
    "        print(\"Processing {} page {}\".format(e,i))\n",
    "        formatted_url = url.format(e,i)\n",
    "        print(formatted_url)\n",
    "        out = process(formatted_url)\n",
    "        chunk.extend(out)"
   ]
  },
  {
   "cell_type": "markdown",
   "metadata": {},
   "source": [
    "# Creating a database of each quotes"
   ]
  },
  {
   "cell_type": "code",
   "execution_count": 15,
   "metadata": {},
   "outputs": [],
   "source": [
    "quote_table = pd.DataFrame(chunk)"
   ]
  },
  {
   "cell_type": "code",
   "execution_count": 18,
   "metadata": {},
   "outputs": [],
   "source": [
    "love_table = quote_table.head(300)\n",
    "life_table = quote_table[300:600]\n",
    "inspirational_table = quote_table[600:900]\n",
    "Humor_table = quote_table[900:1200]\n",
    "Philosophy_table = quote_table[1200:1500]\n",
    "God_table = quote_table[1500:1800]"
   ]
  },
  {
   "cell_type": "code",
   "execution_count": 23,
   "metadata": {},
   "outputs": [],
   "source": [
    "love_table.to_excel(\"Love_quotes.xlsx\")\n",
    "love_table.to_csv(\"Love_quotes\")"
   ]
  },
  {
   "cell_type": "code",
   "execution_count": null,
   "metadata": {},
   "outputs": [],
   "source": []
  },
  {
   "cell_type": "code",
   "execution_count": null,
   "metadata": {},
   "outputs": [],
   "source": []
  }
 ],
 "metadata": {
  "kernelspec": {
   "display_name": "Python 3",
   "language": "python",
   "name": "python3"
  },
  "language_info": {
   "codemirror_mode": {
    "name": "ipython",
    "version": 3
   },
   "file_extension": ".py",
   "mimetype": "text/x-python",
   "name": "python",
   "nbconvert_exporter": "python",
   "pygments_lexer": "ipython3",
   "version": "3.7.4"
  }
 },
 "nbformat": 4,
 "nbformat_minor": 4
}
