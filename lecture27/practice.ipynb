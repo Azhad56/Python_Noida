{
 "cells": [
  {
   "cell_type": "code",
   "execution_count": 2,
   "metadata": {},
   "outputs": [],
   "source": [
    "import numpy as np\n",
    "import matplotlib.pyplot as plt\n",
    "from sklearn.datasets import make_regression\n",
    "from sklearn.model_selection import train_test_split\n",
    "import seaborn as sns"
   ]
  },
  {
   "cell_type": "code",
   "execution_count": 4,
   "metadata": {
    "scrolled": true
   },
   "outputs": [],
   "source": [
    "bias = 100\n",
    "X, y,coef = make_regression(n_features = 1,noise = 10,random_state = 42,bias = bias,coef = True\n",
    "                           )"
   ]
  },
  {
   "cell_type": "code",
   "execution_count": 8,
   "metadata": {},
   "outputs": [],
   "source": [
    "ya = y.reshape(-1,1)"
   ]
  },
  {
   "cell_type": "code",
   "execution_count": 12,
   "metadata": {},
   "outputs": [],
   "source": [
    "yh = np.array([[117.90097397],\n",
    "       [ 90.01472831],\n",
    "       [ 52.20170654],\n",
    "       [ 97.51948352],\n",
    "       [ 71.31161496],\n",
    "       [108.53353155],\n",
    "       [ 71.83207656],\n",
    "       [105.06098446],\n",
    "       [107.34399457],\n",
    "       [120.28758835],\n",
    "       [114.28807226],\n",
    "       [137.94302199],\n",
    "       [111.53206231],\n",
    "       [ 79.88335505],\n",
    "       [ 60.43371732],\n",
    "       [ 90.17042895],\n",
    "       [ 22.40868237],\n",
    "       [104.09340692],\n",
    "       [121.19485091],\n",
    "       [  0.60544565],\n",
    "       [103.54662801],\n",
    "       [ 90.34604969],\n",
    "       [ 71.75570583],\n",
    "       [117.37650049],\n",
    "       [138.82189286],\n",
    "       [135.55194775],\n",
    "       [ 67.29946743],\n",
    "       [ 85.95605085],\n",
    "       [ 67.26419241],\n",
    "       [ 47.62699228],\n",
    "       [ 98.93538471],\n",
    "       [ 99.54928905],\n",
    "       [ 95.76247239],\n",
    "       [ 69.64068693],\n",
    "       [ 57.14608103],\n",
    "       [ 93.64205   ],\n",
    "       [ 77.26278932],\n",
    "       [ 99.08480096],\n",
    "       [114.30929192],\n",
    "       [ 77.50436819],\n",
    "       [ 99.07685955],\n",
    "       [ 64.77971873],\n",
    "       [137.44732853],\n",
    "       [ 70.02021786],\n",
    "       [ 79.40501047],\n",
    "       [ 74.18753438],\n",
    "       [ 77.19354399],\n",
    "       [ 65.83019317],\n",
    "       [ 97.99856437],\n",
    "       [ 94.03850538],\n",
    "       [ 76.31627972],\n",
    "       [ 87.30834194],\n",
    "       [ 79.40555277],\n",
    "       [135.95642702],\n",
    "       [ 74.41960918],\n",
    "       [ 98.48964895],\n",
    "       [ 98.08155001],\n",
    "       [ 81.00685098],\n",
    "       [ 79.39068279],\n",
    "       [ 21.48714473],\n",
    "       [ 97.84440194],\n",
    "       [ 79.68171742],\n",
    "       [ 50.5955836 ],\n",
    "       [ 63.94960216],\n",
    "       [ 38.79740951],\n",
    "       [119.13519002],\n",
    "       [ 30.16289202],\n",
    "       [ 23.94100756],\n",
    "       [ 68.56626205],\n",
    "       [112.48892242],\n",
    "       [113.97834681],\n",
    "       [ 40.48899149],\n",
    "       [ 38.30170508],\n",
    "       [ 46.81319547],\n",
    "       [ 59.41886154],\n",
    "       [139.30313339],\n",
    "       [119.36311157],\n",
    "       [ 95.13180281],\n",
    "       [ 96.92072051],\n",
    "       [ 69.1576838 ],\n",
    "       [ 28.90365624],\n",
    "       [ 90.80337151],\n",
    "       [ 92.79998062],\n",
    "       [ 43.2675199 ],\n",
    "       [122.05772181],\n",
    "       [ 83.31940604],\n",
    "       [ 71.63201518],\n",
    "       [ 86.69360406],\n",
    "       [ 53.6841519 ],\n",
    "       [ 82.57236605],\n",
    "       [ 49.12044497],\n",
    "       [131.93801791],\n",
    "       [ 89.36999185],\n",
    "       [ 70.56567204],\n",
    "       [ 71.92386839],\n",
    "       [148.32287972],\n",
    "       [ 40.07793205],\n",
    "       [ 63.36193577],\n",
    "       [ 84.76083797],\n",
    "       [ 76.92570248]])"
   ]
  },
  {
   "cell_type": "code",
   "execution_count": 16,
   "metadata": {},
   "outputs": [],
   "source": [
    "diff = ya-yh"
   ]
  },
  {
   "cell_type": "code",
   "execution_count": 24,
   "metadata": {},
   "outputs": [
    {
     "data": {
      "text/plain": [
       "(100, 1)"
      ]
     },
     "execution_count": 24,
     "metadata": {},
     "output_type": "execute_result"
    }
   ],
   "source": [
    "X.shape"
   ]
  },
  {
   "cell_type": "code",
   "execution_count": 25,
   "metadata": {},
   "outputs": [
    {
     "data": {
      "text/plain": [
       "(100, 1)"
      ]
     },
     "execution_count": 25,
     "metadata": {},
     "output_type": "execute_result"
    }
   ],
   "source": [
    "diff.shape"
   ]
  },
  {
   "cell_type": "code",
   "execution_count": 60,
   "metadata": {},
   "outputs": [],
   "source": [
    "X = np.array([[1,4],[2,5],[3,6]])"
   ]
  },
  {
   "cell_type": "code",
   "execution_count": 61,
   "metadata": {},
   "outputs": [
    {
     "data": {
      "text/plain": [
       "(3, 2)"
      ]
     },
     "execution_count": 61,
     "metadata": {},
     "output_type": "execute_result"
    }
   ],
   "source": [
    "X.shape"
   ]
  },
  {
   "cell_type": "code",
   "execution_count": 62,
   "metadata": {},
   "outputs": [],
   "source": [
    "ya = np.array([[1],[2],[3]])\n",
    "yh = np.array([[4],[5],[6]])"
   ]
  },
  {
   "cell_type": "code",
   "execution_count": 63,
   "metadata": {},
   "outputs": [
    {
     "data": {
      "text/plain": [
       "(3, 2)"
      ]
     },
     "execution_count": 63,
     "metadata": {},
     "output_type": "execute_result"
    }
   ],
   "source": [
    "X.shape"
   ]
  },
  {
   "cell_type": "code",
   "execution_count": 64,
   "metadata": {},
   "outputs": [],
   "source": [
    "diff = ya-yh"
   ]
  },
  {
   "cell_type": "code",
   "execution_count": 67,
   "metadata": {},
   "outputs": [
    {
     "data": {
      "text/plain": [
       "array([[-3, -3, -3]])"
      ]
     },
     "execution_count": 67,
     "metadata": {},
     "output_type": "execute_result"
    }
   ],
   "source": [
    "diff.T"
   ]
  },
  {
   "cell_type": "code",
   "execution_count": 71,
   "metadata": {},
   "outputs": [
    {
     "data": {
      "text/plain": [
       "array([[1, 4],\n",
       "       [2, 5],\n",
       "       [3, 6]])"
      ]
     },
     "execution_count": 71,
     "metadata": {},
     "output_type": "execute_result"
    }
   ],
   "source": [
    "X"
   ]
  },
  {
   "cell_type": "code",
   "execution_count": 75,
   "metadata": {},
   "outputs": [
    {
     "data": {
      "text/plain": [
       "array([-18, -45])"
      ]
     },
     "execution_count": 75,
     "metadata": {},
     "output_type": "execute_result"
    }
   ],
   "source": [
    "np.dot(diff.T,X).flatten()/"
   ]
  },
  {
   "cell_type": "code",
   "execution_count": null,
   "metadata": {},
   "outputs": [],
   "source": []
  }
 ],
 "metadata": {
  "kernelspec": {
   "display_name": "Python 3",
   "language": "python",
   "name": "python3"
  },
  "language_info": {
   "codemirror_mode": {
    "name": "ipython",
    "version": 3
   },
   "file_extension": ".py",
   "mimetype": "text/x-python",
   "name": "python",
   "nbconvert_exporter": "python",
   "pygments_lexer": "ipython3",
   "version": "3.7.4"
  }
 },
 "nbformat": 4,
 "nbformat_minor": 2
}
