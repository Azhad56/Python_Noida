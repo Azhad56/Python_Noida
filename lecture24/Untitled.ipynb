{
 "cells": [
  {
   "cell_type": "code",
   "execution_count": 2,
   "metadata": {},
   "outputs": [],
   "source": [
    "import numpy as np"
   ]
  },
  {
   "cell_type": "code",
   "execution_count": 4,
   "metadata": {},
   "outputs": [
    {
     "name": "stdout",
     "output_type": "stream",
     "text": [
      "[6, 7, 9, 7, 6, 5, 8, 9, 6, 5, 6, 9, 7, 9, 9, 9, 5, 5, 5, 9, 5, 7, 9, 9, 6, 7, 7, 5, 9, 6, 8, 7, 5, 7, 8, 9, 7, 6, 7, 7, 7, 9, 8, 9, 8, 5, 7, 8, 6, 6, 5, 6, 9, 9, 5, 9, 7, 8, 7, 9, 5, 6, 6, 5, 8, 7, 7, 5, 9, 5, 5, 6, 6, 8, 7, 9, 6, 7, 8, 9, 5, 6, 9, 8, 9, 7, 5, 8, 6, 9, 7, 7, 8, 9, 5, 6, 9, 7, 8, 7]\n"
     ]
    }
   ],
   "source": [
    "print(list(np.random.randint(5,10,100)))"
   ]
  },
  {
   "cell_type": "code",
   "execution_count": null,
   "metadata": {},
   "outputs": [],
   "source": []
  }
 ],
 "metadata": {
  "kernelspec": {
   "display_name": "Python 3",
   "language": "python",
   "name": "python3"
  },
  "language_info": {
   "codemirror_mode": {
    "name": "ipython",
    "version": 3
   },
   "file_extension": ".py",
   "mimetype": "text/x-python",
   "name": "python",
   "nbconvert_exporter": "python",
   "pygments_lexer": "ipython3",
   "version": "3.7.4"
  }
 },
 "nbformat": 4,
 "nbformat_minor": 2
}
