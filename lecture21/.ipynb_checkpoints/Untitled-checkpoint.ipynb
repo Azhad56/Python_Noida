{
 "cells": [
  {
   "cell_type": "code",
   "execution_count": null,
   "metadata": {},
   "outputs": [],
   "source": [
    "class Node:\n",
    "    def __init__(self,value,left=None,right=None):\n",
    "        self.value = value\n",
    "        self.left = left\n",
    "        self.right = right"
   ]
  },
  {
   "cell_type": "code",
   "execution_count": null,
   "metadata": {},
   "outputs": [],
   "source": [
    "class BST:\n",
    "    def __init__(self):\n",
    "        self.root = None\n",
    "    def add(self,value):\n",
    "        self.root = self.__add(value,self.root)\n",
    "    def __add(self,value,node):\n",
    "        if node==None:\n",
    "            node = Node(value)\n",
    "        else:\n",
    "            if node.value > value:\n",
    "                node.left = self.__add(value,node.left)\n",
    "            if node.value < value:\n",
    "                node.right = self.__add(value,node.right)\n",
    "        return node\n",
    "    def display(self):\n",
    "        self.__display(self.root)\n",
    "    def __display(self,node,indent=\"\",position=\"root\"):\n",
    "        if node==None:\n",
    "            return\n",
    "        print(indent,node.value,position)\n",
    "        self.__display(node.left,indent+\"\\t\",position=\"left\")\n",
    "        self.__display(node.right,indent+\"\\t\",position=\"right\")"
   ]
  }
 ],
 "metadata": {
  "kernelspec": {
   "display_name": "Python 3",
   "language": "python",
   "name": "python3"
  },
  "language_info": {
   "codemirror_mode": {
    "name": "ipython",
    "version": 3
   },
   "file_extension": ".py",
   "mimetype": "text/x-python",
   "name": "python",
   "nbconvert_exporter": "python",
   "pygments_lexer": "ipython3",
   "version": "3.7.4"
  }
 },
 "nbformat": 4,
 "nbformat_minor": 4
}
