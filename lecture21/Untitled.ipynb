{
 "cells": [
  {
   "cell_type": "code",
   "execution_count": 1,
   "metadata": {},
   "outputs": [],
   "source": [
    "class Node:\n",
    "    def __init__(self,value,left=None,right=None):\n",
    "        self.value = value\n",
    "        self.left = left\n",
    "        self.right = right\n",
    "        self.height = 1"
   ]
  },
  {
   "cell_type": "code",
   "execution_count": 2,
   "metadata": {},
   "outputs": [],
   "source": [
    "class Avltree:\n",
    "    def __init__(self):\n",
    "        self.root = None\n",
    "    def add(self,value):\n",
    "        self.root = self.__add(value,self.root)\n",
    "    def __add(self,value,node):\n",
    "        if node==None:\n",
    "            node = Node(value)\n",
    "        else:\n",
    "            if node.value > value:\n",
    "                node.left = self.__add(value,node.left)\n",
    "            if node.value < value:\n",
    "                node.right = self.__add(value,node.right)\n",
    "            node.height = max(self.height(node.left),self.height(node.right)) + 1\n",
    "        return node\n",
    "    def height(self,node):\n",
    "        if node==None:\n",
    "            return 0\n",
    "        else:\n",
    "            return node.height\n",
    "    def balanced(self):\n",
    "        return self.__balanced(self.root)\n",
    "    def __balanced(self,node):\n",
    "        if node == None:\n",
    "            return True\n",
    "        current = abs(self.height(node.left)-self.height(node.right)) < 2\n",
    "        left = self.__balanced(node.left)\n",
    "        right = self.__balanced(node.right)\n",
    "        return current and left and right\n",
    "    def display(self):\n",
    "        self.__display(self.root)\n",
    "    def __display(self,node,indent=\"\",position=\"root\"):\n",
    "        if node==None:\n",
    "            return\n",
    "        print(indent,node.value,position,node.height,self.height(node.left)-self.height(node.right))\n",
    "        self.__display(node.left,indent+\"\\t\",position=\"left\")\n",
    "        self.__display(node.right,indent+\"\\t\",position=\"right\")"
   ]
  },
  {
   "cell_type": "code",
   "execution_count": 3,
   "metadata": {},
   "outputs": [],
   "source": [
    "avl = Avltree()"
   ]
  },
  {
   "cell_type": "code",
   "execution_count": 4,
   "metadata": {},
   "outputs": [],
   "source": [
    "import random"
   ]
  },
  {
   "cell_type": "code",
   "execution_count": 5,
   "metadata": {},
   "outputs": [],
   "source": [
    "for item in range(0,20):\n",
    "    avl.add(random.randint(0,30))"
   ]
  },
  {
   "cell_type": "code",
   "execution_count": 6,
   "metadata": {},
   "outputs": [
    {
     "name": "stdout",
     "output_type": "stream",
     "text": [
      " 11 root 6 0\n",
      "\t 9 left 5 4\n",
      "\t\t 1 left 4 -3\n",
      "\t\t\t 8 right 3 2\n",
      "\t\t\t\t 5 left 2 1\n",
      "\t\t\t\t\t 2 left 1 0\n",
      "\t 22 right 5 1\n",
      "\t\t 13 left 4 -2\n",
      "\t\t\t 12 left 1 0\n",
      "\t\t\t 16 right 3 -1\n",
      "\t\t\t\t 15 left 1 0\n",
      "\t\t\t\t 17 right 2 -1\n",
      "\t\t\t\t\t 21 right 1 0\n",
      "\t\t 30 right 3 2\n",
      "\t\t\t 27 left 2 1\n",
      "\t\t\t\t 26 left 1 0\n"
     ]
    }
   ],
   "source": [
    "avl.display()"
   ]
  },
  {
   "cell_type": "code",
   "execution_count": 7,
   "metadata": {},
   "outputs": [
    {
     "name": "stdout",
     "output_type": "stream",
     "text": [
      "False\n"
     ]
    }
   ],
   "source": [
    "print(avl.balanced())"
   ]
  },
  {
   "cell_type": "code",
   "execution_count": 9,
   "metadata": {},
   "outputs": [
    {
     "name": "stdout",
     "output_type": "stream",
     "text": [
      "6\n"
     ]
    }
   ],
   "source": [
    "print(avl.root.height)"
   ]
  },
  {
   "cell_type": "code",
   "execution_count": null,
   "metadata": {},
   "outputs": [],
   "source": []
  }
 ],
 "metadata": {
  "kernelspec": {
   "display_name": "Python 3",
   "language": "python",
   "name": "python3"
  },
  "language_info": {
   "codemirror_mode": {
    "name": "ipython",
    "version": 3
   },
   "file_extension": ".py",
   "mimetype": "text/x-python",
   "name": "python",
   "nbconvert_exporter": "python",
   "pygments_lexer": "ipython3",
   "version": "3.7.4"
  }
 },
 "nbformat": 4,
 "nbformat_minor": 4
}
