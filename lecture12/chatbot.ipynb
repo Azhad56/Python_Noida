{
 "cells": [
  {
   "cell_type": "code",
   "execution_count": 1,
   "metadata": {},
   "outputs": [],
   "source": [
    "from flask import Flask, request\n",
    "\n",
    "import requests, json"
   ]
  },
  {
   "cell_type": "code",
   "execution_count": 2,
   "metadata": {},
   "outputs": [],
   "source": [
    "app = Flask(\"hello\")\n",
    "\n",
    "token = \"1234567890\""
   ]
  },
  {
   "cell_type": "code",
   "execution_count": 3,
   "metadata": {},
   "outputs": [],
   "source": [
    "def bot(recipient, text):\n",
    "\n",
    "    url = r\"https://graph.facebook.com/v6.0/me/messages?access_token=EAAIqcGvJoV0BALb3FGMNGRIfkUk3Fb16wZCfPKZBjp0NZCXQZCEA7iAGoYmSZBZAvZBq6hWf2LmqIgDtVXQS9wet22axo47L8LZArFeHBwwKA8tox7F3LhMTOyt2ZAZAIcD5nmLnOdTlveQZACq5t3cNsKd6JZCkOMA2S3jqEEiTvXgAAjGK7XFP7bL93vm0wn0yDXkZD\"    \n",
    "    \n",
    "    d1 = {\n",
    "      \"recipient\":{\n",
    "        \"id\": recipient\n",
    "      },\n",
    "      \"message\":{\n",
    "        \"text\":\"bot says \" + text\n",
    "      }\n",
    "    }\n",
    "    \n",
    "    d2 = {\n",
    "      \"recipient\":{\n",
    "        \"id\": recipient\n",
    "      },\n",
    "      \"message\":{\n",
    "        \"attachment\" : {\n",
    "            \"type\" : \"image\",\n",
    "            \"payload\" : {\n",
    "                \"url\" : r\"https://c402277.ssl.cf1.rackcdn.com/photos/18315/images/hero_small/Medium_WW230176.jpg?1576168323\",\n",
    "                \"is_reusable\": True\n",
    "            }\n",
    "        }\n",
    "      }\n",
    "    }\n",
    "    \n",
    "    requests.post(url, json=d1)\n",
    "    requests.post(url, json=d2)"
   ]
  },
  {
   "cell_type": "code",
   "execution_count": 4,
   "metadata": {},
   "outputs": [],
   "source": [
    "@app.route(\"/check/\", methods=[\"GET\"])\n",
    "def sayhi():\n",
    "    return \"working\"\n",
    "\n",
    "@app.route(\"/callback/\", methods=[\"GET\"])\n",
    "def get_callback():\n",
    "    if token == request.args.get(\"hub.verify_token\"):\n",
    "        return request.args.get(\"hub.challenge\")\n",
    "    else:\n",
    "        return \"not working\"\n",
    "    \n",
    "\n",
    "@app.route(\"/callback/\", methods=[\"POST\"])\n",
    "def post_callback():\n",
    "    output = request.get_json()\n",
    "    \n",
    "    for entry in output.get(\"entry\"):\n",
    "        if \"messaging\" in entry:\n",
    "            for messaging in entry.get(\"messaging\"):\n",
    "                sender = messaging.get(\"sender\").get(\"id\")\n",
    "                recipient = messaging.get(\"recipient\").get(\"id\")\n",
    "                if \"text\" in messaging.get(\"message\"):\n",
    "                    text = messaging.get(\"message\").get(\"text\")\n",
    "                    \n",
    "                print(sender, recipient, text)\n",
    "                bot(sender, text)\n",
    "\n",
    "    return \"done\"\n",
    "\n"
   ]
  },
  {
   "cell_type": "code",
   "execution_count": null,
   "metadata": {},
   "outputs": [
    {
     "name": "stdout",
     "output_type": "stream",
     "text": [
      " * Serving Flask app \"hello\" (lazy loading)\n",
      " * Environment: production\n",
      "   WARNING: This is a development server. Do not use it in a production deployment.\n",
      "   Use a production WSGI server instead.\n",
      " * Debug mode: off\n"
     ]
    },
    {
     "name": "stderr",
     "output_type": "stream",
     "text": [
      " * Running on http://127.0.0.1:5000/ (Press CTRL+C to quit)\n"
     ]
    },
    {
     "name": "stdout",
     "output_type": "stream",
     "text": [
      "2513394722104245 109449703955471 please chal jaa\n"
     ]
    },
    {
     "name": "stderr",
     "output_type": "stream",
     "text": [
      "127.0.0.1 - - [11/Feb/2020 10:48:20] \"POST /callback/ HTTP/1.1\" 200 -\n"
     ]
    }
   ],
   "source": [
    "app.run()"
   ]
  },
  {
   "cell_type": "code",
   "execution_count": null,
   "metadata": {},
   "outputs": [],
   "source": []
  },
  {
   "cell_type": "code",
   "execution_count": null,
   "metadata": {},
   "outputs": [],
   "source": []
  },
  {
   "cell_type": "code",
   "execution_count": null,
   "metadata": {},
   "outputs": [],
   "source": []
  },
  {
   "cell_type": "code",
   "execution_count": null,
   "metadata": {},
   "outputs": [],
   "source": []
  },
  {
   "cell_type": "code",
   "execution_count": null,
   "metadata": {},
   "outputs": [],
   "source": []
  },
  {
   "cell_type": "code",
   "execution_count": null,
   "metadata": {},
   "outputs": [],
   "source": []
  },
  {
   "cell_type": "code",
   "execution_count": null,
   "metadata": {},
   "outputs": [],
   "source": []
  }
 ],
 "metadata": {
  "kernelspec": {
   "display_name": "Python 3",
   "language": "python",
   "name": "python3"
  },
  "language_info": {
   "codemirror_mode": {
    "name": "ipython",
    "version": 3
   },
   "file_extension": ".py",
   "mimetype": "text/x-python",
   "name": "python",
   "nbconvert_exporter": "python",
   "pygments_lexer": "ipython3",
   "version": "3.7.4"
  }
 },
 "nbformat": 4,
 "nbformat_minor": 4
}
