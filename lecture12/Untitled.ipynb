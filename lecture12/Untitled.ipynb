{
 "cells": [
  {
   "cell_type": "code",
   "execution_count": 1,
   "metadata": {},
   "outputs": [],
   "source": [
    "from flask import Flask,request"
   ]
  },
  {
   "cell_type": "code",
   "execution_count": 2,
   "metadata": {},
   "outputs": [],
   "source": [
    "app = Flask(\"hello\")\n",
    "token=\"1234567890\"\n"
   ]
  },
  {
   "cell_type": "code",
   "execution_count": 3,
   "metadata": {},
   "outputs": [],
   "source": [
    "@app.route(\"/check/\",methods=[\"GET\"])\n",
    "def say():\n",
    "    return \"working\"\n",
    "\n",
    "@app.route(\"/callback/\",methods=[\"GET\"])\n",
    "def get_callback():\n",
    "    if token == request.args.get(\"hub.verify_token\"):\n",
    "        return request.args.get(\"hub.challenge\")\n",
    "    else:\n",
    "        return \"Not Working\"\n",
    "    \n",
    "@app.route(\"/callback/\",methods=[\"POST\"])\n",
    "def post_callback():\n",
    "    output = request.get_json()\n",
    "    for event in output['entry']:\n",
    "          messaging = event['messaging']\n",
    "          for message in messaging:\n",
    "            if message.get('message'):\n",
    "                #Facebook Messenger ID for user so we know where to send response back to\n",
    "                recipient_id = message['sender']['id']\n",
    "                if message['message'].get('text'):\n",
    "                    response_sent_text = get_message()\n",
    "                    send_message(recipient_id, response_sent_text)\n",
    "                #if user sends us a GIF, photo,video, or any other non-text item\n",
    "                if message['message'].get('attachments'):\n",
    "                    response_sent_nontext = get_message()\n",
    "                    send_message(recipient_id, response_sent_nontext)\n",
    "    return \"Message Processed\""
   ]
  },
  {
   "cell_type": "code",
   "execution_count": null,
   "metadata": {},
   "outputs": [
    {
     "name": "stdout",
     "output_type": "stream",
     "text": [
      " * Serving Flask app \"hello\" (lazy loading)\n",
      " * Environment: production\n",
      "   WARNING: This is a development server. Do not use it in a production deployment.\n",
      "   Use a production WSGI server instead.\n",
      " * Debug mode: off\n"
     ]
    },
    {
     "name": "stderr",
     "output_type": "stream",
     "text": [
      " * Running on http://127.0.0.1:5000/ (Press CTRL+C to quit)\n",
      "127.0.0.1 - - [10/Feb/2020 12:28:31] \"GET /favicon.ico HTTP/1.1\" 404 -\n",
      "127.0.0.1 - - [10/Feb/2020 12:28:40] \"GET /callback HTTP/1.1\" 308 -\n",
      "127.0.0.1 - - [10/Feb/2020 12:28:41] \"GET /callback/ HTTP/1.1\" 200 -\n",
      "127.0.0.1 - - [10/Feb/2020 12:28:51] \"GET /callback/ HTTP/1.1\" 200 -\n",
      "127.0.0.1 - - [10/Feb/2020 12:29:31] \"GET /callback/?hub.mode=subscribe&hub.challenge=2037317769&hub.verify_token=1234567890 HTTP/1.1\" 200 -\n",
      "127.0.0.1 - - [10/Feb/2020 12:40:25] \"POST /callback/ HTTP/1.1\" 200 -\n"
     ]
    },
    {
     "name": "stdout",
     "output_type": "stream",
     "text": [
      "{'object': 'page', 'entry': [{'id': '110295950535556', 'time': 1581318624924, 'messaging': [{'sender': {'id': '3499460283459458'}, 'recipient': {'id': '110295950535556'}, 'timestamp': 1581316418215, 'message': {'mid': 'm_U2thuukmvbvSvN5k5kGik0OOJHWRs4bRD0NlbB3vE4p3KRQFvrq98JFRuTyXha-cZ8ENF_3d8zLZ-SEQGT_bvg', 'text': 'i am sad'}}]}]}\n"
     ]
    },
    {
     "name": "stderr",
     "output_type": "stream",
     "text": [
      "127.0.0.1 - - [10/Feb/2020 12:40:27] \"POST /callback/ HTTP/1.1\" 200 -\n"
     ]
    },
    {
     "name": "stdout",
     "output_type": "stream",
     "text": [
      "{'object': 'page', 'entry': [{'id': '110295950535556', 'time': 1581318626242, 'messaging': [{'sender': {'id': '3499460283459458'}, 'recipient': {'id': '110295950535556'}, 'timestamp': 1581316548683, 'message': {'mid': 'm_RoMlNUPqJQ4GVdPRFfr-y0OOJHWRs4bRD0NlbB3vE4rZHrG37nzGW4OyysmRJGvtLmC9mE_U4s6R7DxKHUdQug', 'text': 'hello'}}]}]}\n"
     ]
    },
    {
     "name": "stderr",
     "output_type": "stream",
     "text": [
      "127.0.0.1 - - [10/Feb/2020 12:40:28] \"POST /callback/ HTTP/1.1\" 200 -\n"
     ]
    },
    {
     "name": "stdout",
     "output_type": "stream",
     "text": [
      "{'object': 'page', 'entry': [{'id': '110295950535556', 'time': 1581318627682, 'messaging': [{'sender': {'id': '3499460283459458'}, 'recipient': {'id': '110295950535556'}, 'timestamp': 1581316611866, 'message': {'mid': 'm_ruDVi6rW8ZBvcJUMIZgKZUOOJHWRs4bRD0NlbB3vE4rtnABHtUxoDvXonHhihM1GRPm2lIK-JWzFW_wv2VkbxA', 'text': 'hello'}}]}]}\n"
     ]
    },
    {
     "name": "stderr",
     "output_type": "stream",
     "text": [
      "127.0.0.1 - - [10/Feb/2020 12:40:29] \"POST /callback/ HTTP/1.1\" 200 -\n"
     ]
    },
    {
     "name": "stdout",
     "output_type": "stream",
     "text": [
      "{'object': 'page', 'entry': [{'id': '110295950535556', 'time': 1581318629194, 'messaging': [{'sender': {'id': '3499460283459458'}, 'recipient': {'id': '110295950535556'}, 'timestamp': 1581316665207, 'message': {'mid': 'm_gNdF1MrFe446Uo0uOmS0OkOOJHWRs4bRD0NlbB3vE4oVHd9LA4eKSWQvVSA7h7V1irF1YM3sH2ZRik94QBaX5Q', 'text': 'hi'}}]}]}\n"
     ]
    },
    {
     "name": "stderr",
     "output_type": "stream",
     "text": [
      "127.0.0.1 - - [10/Feb/2020 12:40:31] \"POST /callback/ HTTP/1.1\" 200 -\n"
     ]
    },
    {
     "name": "stdout",
     "output_type": "stream",
     "text": [
      "{'object': 'page', 'entry': [{'id': '110295950535556', 'time': 1581318630610, 'messaging': [{'sender': {'id': '3499460283459458'}, 'recipient': {'id': '110295950535556'}, 'timestamp': 1581317007800, 'message': {'mid': 'm_5VfwCzb_tOgVKlooXVC0xUOOJHWRs4bRD0NlbB3vE4oO8eun0qsW50ytP9-1jAAg81Ln2mj5_5URM9hQ4FbF3A', 'text': 'hi'}}]}]}\n"
     ]
    },
    {
     "name": "stderr",
     "output_type": "stream",
     "text": [
      "127.0.0.1 - - [10/Feb/2020 12:40:32] \"POST /callback/ HTTP/1.1\" 200 -\n"
     ]
    },
    {
     "name": "stdout",
     "output_type": "stream",
     "text": [
      "{'object': 'page', 'entry': [{'id': '110295950535556', 'time': 1581318631814, 'messaging': [{'sender': {'id': '3499460283459458'}, 'recipient': {'id': '110295950535556'}, 'timestamp': 1581317066597, 'message': {'mid': 'm_fOmKmxAGDTeZz0mD8Y-W7UOOJHWRs4bRD0NlbB3vE4pL0SgXMIgBMysItl8CuWUtVtQZ5hnYwqC5TDlePKgKJg', 'text': 'hi'}}]}]}\n"
     ]
    },
    {
     "name": "stderr",
     "output_type": "stream",
     "text": [
      "127.0.0.1 - - [10/Feb/2020 12:40:34] \"POST /callback/ HTTP/1.1\" 200 -\n"
     ]
    },
    {
     "name": "stdout",
     "output_type": "stream",
     "text": [
      "{'object': 'page', 'entry': [{'id': '110295950535556', 'time': 1581318633434, 'messaging': [{'sender': {'id': '3499460283459458'}, 'recipient': {'id': '110295950535556'}, 'timestamp': 1581317228126, 'message': {'mid': 'm_c9xtHLlqjbHUUot0wfDDnkOOJHWRs4bRD0NlbB3vE4q-flozSEV54e1C0ED63BxXpKBVIQ_eHcV9bqHuhajsXw', 'text': 'say'}}]}]}\n"
     ]
    },
    {
     "name": "stderr",
     "output_type": "stream",
     "text": [
      "127.0.0.1 - - [10/Feb/2020 12:40:35] \"POST /callback/ HTTP/1.1\" 200 -\n"
     ]
    },
    {
     "name": "stdout",
     "output_type": "stream",
     "text": [
      "{'object': 'page', 'entry': [{'id': '110295950535556', 'time': 1581318634941, 'messaging': [{'sender': {'id': '3499460283459458'}, 'recipient': {'id': '110295950535556'}, 'timestamp': 1581317312839, 'message': {'mid': 'm_NkiTFzX6a9_mOW3lo74fOEOOJHWRs4bRD0NlbB3vE4pytfktznlrGs7eoBQ_Idey3tjVyDk13sMUMFe3ft72Jw', 'text': 'hello'}}]}]}\n"
     ]
    },
    {
     "name": "stderr",
     "output_type": "stream",
     "text": [
      "127.0.0.1 - - [10/Feb/2020 12:40:37] \"POST /callback/ HTTP/1.1\" 200 -\n"
     ]
    },
    {
     "name": "stdout",
     "output_type": "stream",
     "text": [
      "{'object': 'page', 'entry': [{'id': '110295950535556', 'time': 1581318636587, 'messaging': [{'sender': {'id': '3499460283459458'}, 'recipient': {'id': '110295950535556'}, 'timestamp': 1581317523843, 'message': {'mid': 'm_JNLvZS6_YeX5C6kMlolwqUOOJHWRs4bRD0NlbB3vE4p4fZEbqMn8ExYZy8V7yPH4BdQ6V2GvRrpiP85kqmYoSQ', 'text': 'hi'}}]}]}\n"
     ]
    },
    {
     "name": "stderr",
     "output_type": "stream",
     "text": [
      "127.0.0.1 - - [10/Feb/2020 12:40:39] \"POST /callback/ HTTP/1.1\" 200 -\n"
     ]
    },
    {
     "name": "stdout",
     "output_type": "stream",
     "text": [
      "{'object': 'page', 'entry': [{'id': '110295950535556', 'time': 1581318638250, 'messaging': [{'sender': {'id': '3499460283459458'}, 'recipient': {'id': '110295950535556'}, 'timestamp': 1581317621351, 'message': {'mid': 'm_SQJDK4UqQCI0Jb1JEeFKkEOOJHWRs4bRD0NlbB3vE4rye36Dr896ZocXDNtuH5Bi3_Nh83FozTe38SdCRL-gqw', 'text': 'hi I am Azhad'}}]}]}\n"
     ]
    },
    {
     "name": "stderr",
     "output_type": "stream",
     "text": [
      "127.0.0.1 - - [10/Feb/2020 12:40:40] \"POST /callback/ HTTP/1.1\" 200 -\n"
     ]
    },
    {
     "name": "stdout",
     "output_type": "stream",
     "text": [
      "{'object': 'page', 'entry': [{'id': '110295950535556', 'time': 1581318639797, 'messaging': [{'sender': {'id': '3499460283459458'}, 'recipient': {'id': '110295950535556'}, 'timestamp': 1581317646216, 'message': {'mid': 'm_Lp-6czyArZM4gYNPxTQlEEOOJHWRs4bRD0NlbB3vE4ovnzURtPpvT7YDleX6szOpWDOWj3YTlQURYqE-WvDtMQ', 'text': 'Azhad'}}]}]}\n"
     ]
    },
    {
     "name": "stderr",
     "output_type": "stream",
     "text": [
      "127.0.0.1 - - [10/Feb/2020 12:40:41] \"POST /callback/ HTTP/1.1\" 200 -\n"
     ]
    },
    {
     "name": "stdout",
     "output_type": "stream",
     "text": [
      "{'object': 'page', 'entry': [{'id': '110295950535556', 'time': 1581318641001, 'messaging': [{'sender': {'id': '3499460283459458'}, 'recipient': {'id': '110295950535556'}, 'timestamp': 1581317774994, 'message': {'mid': 'm_lYFfSlZObQVr4SN7zMkzN0OOJHWRs4bRD0NlbB3vE4oLeEyf7YV6wSfX7TRD3WQNxWDoFCsqzN75EQZLJucg4Q', 'text': 'hello'}}]}]}\n"
     ]
    },
    {
     "name": "stderr",
     "output_type": "stream",
     "text": [
      "127.0.0.1 - - [10/Feb/2020 12:40:43] \"POST /callback/ HTTP/1.1\" 200 -\n"
     ]
    },
    {
     "name": "stdout",
     "output_type": "stream",
     "text": [
      "{'object': 'page', 'entry': [{'id': '110295950535556', 'time': 1581318642304, 'messaging': [{'sender': {'id': '3499460283459458'}, 'recipient': {'id': '110295950535556'}, 'timestamp': 1581318141298, 'message': {'mid': 'm_6KTkSlnOh8ZXRykxyrnu10OOJHWRs4bRD0NlbB3vE4pd-NQofsBGN0Y9iNvJTAQ8-E6TTZbhN0kVh2BswXWgLg', 'text': 'hi'}}]}]}\n"
     ]
    },
    {
     "name": "stderr",
     "output_type": "stream",
     "text": [
      "127.0.0.1 - - [10/Feb/2020 12:40:44] \"POST /callback/ HTTP/1.1\" 200 -\n"
     ]
    },
    {
     "name": "stdout",
     "output_type": "stream",
     "text": [
      "{'object': 'page', 'entry': [{'id': '110295950535556', 'time': 1581318643620, 'messaging': [{'sender': {'id': '3499460283459458'}, 'recipient': {'id': '110295950535556'}, 'timestamp': 1581318374243, 'message': {'mid': 'm_2z2UzYbOiu-iCSkqwSjGuEOOJHWRs4bRD0NlbB3vE4qMRpcXllV2GdkISBu6OMviS5XvSm6CueDJAbNnT6Ob0g', 'text': 'hi'}}]}]}\n"
     ]
    },
    {
     "name": "stderr",
     "output_type": "stream",
     "text": [
      "127.0.0.1 - - [10/Feb/2020 12:40:45] \"POST /callback/ HTTP/1.1\" 200 -\n"
     ]
    },
    {
     "name": "stdout",
     "output_type": "stream",
     "text": [
      "{'object': 'page', 'entry': [{'id': '110295950535556', 'time': 1581318645022, 'messaging': [{'sender': {'id': '3499460283459458'}, 'recipient': {'id': '110295950535556'}, 'timestamp': 1581318471570, 'message': {'mid': 'm_ePvhqDZRgnfaxPdqHqhHNEOOJHWRs4bRD0NlbB3vE4qUGg5hOe0Gvl_EpJVgUDfxjoATtKUGilN23N3GKVQCEQ', 'text': 'hi'}}]}]}\n"
     ]
    },
    {
     "name": "stderr",
     "output_type": "stream",
     "text": [
      "127.0.0.1 - - [10/Feb/2020 12:40:47] \"POST /callback/ HTTP/1.1\" 200 -\n"
     ]
    },
    {
     "name": "stdout",
     "output_type": "stream",
     "text": [
      "{'object': 'page', 'entry': [{'id': '110295950535556', 'time': 1581318646470, 'messaging': [{'sender': {'id': '3499460283459458'}, 'recipient': {'id': '110295950535556'}, 'timestamp': 1581318509519, 'message': {'mid': 'm_aJDvAtcjs4RXXHNJlG6YikOOJHWRs4bRD0NlbB3vE4qnHiPXDGJ0pj09FBZgYsNA5WjEu7EqsvdZ2XakQDPCCA', 'text': 'hi'}}]}]}\n"
     ]
    },
    {
     "name": "stderr",
     "output_type": "stream",
     "text": [
      "127.0.0.1 - - [10/Feb/2020 12:40:56] \"GET /callback/ HTTP/1.1\" 200 -\n",
      "127.0.0.1 - - [10/Feb/2020 12:54:34] \"POST /callback/ HTTP/1.1\" 200 -\n"
     ]
    },
    {
     "name": "stdout",
     "output_type": "stream",
     "text": [
      "{'object': 'page', 'entry': [{'id': '110295950535556', 'time': 1581319473991, 'messaging': [{'sender': {'id': '3499460283459458'}, 'recipient': {'id': '110295950535556'}, 'timestamp': 1581319473682, 'message': {'mid': 'm_2YOyXJXmlQ0EjHkS6Y9CJUOOJHWRs4bRD0NlbB3vE4o3ESYZHf-zlzH1L9dn-8R2ifCnEB-UOF6zPhsEBffGYg', 'text': 'Azhad'}}]}]}\n"
     ]
    }
   ],
   "source": [
    "app.run()"
   ]
  },
  {
   "cell_type": "code",
   "execution_count": null,
   "metadata": {},
   "outputs": [],
   "source": []
  }
 ],
 "metadata": {
  "kernelspec": {
   "display_name": "Python 3",
   "language": "python",
   "name": "python3"
  },
  "language_info": {
   "codemirror_mode": {
    "name": "ipython",
    "version": 3
   },
   "file_extension": ".py",
   "mimetype": "text/x-python",
   "name": "python",
   "nbconvert_exporter": "python",
   "pygments_lexer": "ipython3",
   "version": "3.7.4"
  }
 },
 "nbformat": 4,
 "nbformat_minor": 2
}
