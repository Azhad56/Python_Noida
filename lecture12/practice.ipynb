{
 "cells": [
  {
   "cell_type": "code",
   "execution_count": null,
   "metadata": {},
   "outputs": [],
   "source": [
    "from flask import Flask,request\n",
    "import requests,json\n"
   ]
  },
  {
   "cell_type": "code",
   "execution_count": null,
   "metadata": {},
   "outputs": [],
   "source": [
    "token=\"1234567890\""
   ]
  },
  {
   "cell_type": "code",
   "execution_count": null,
   "metadata": {},
   "outputs": [],
   "source": [
    "def bot(recepient,text):\n",
    "    url = r\"https://graph.facebook.com/v6.0/me/messages?access_token=EAAI6QKSlongBAFavdpL434txTggsTicT4XQy9te04OQj2ZCMMc71cJVibgFZCJLWyF6R6Y5zWYP4LZCXEiZA6O6DjI2sZAe9eYmbzkH8IncdS1v8ZC2SUDB7fIJi8dWMV7f9aueq4A4ZAjIdHpi2bJLQVOwem6WVmeh0WWlcKvzrStOJTJ7ZBlMl7zs1HFFLojMZD\"    \n",
    "    d1 = {\n",
    "        \"recepient\":{\n",
    "            \"id\" : recepient\n",
    "        },\n",
    "        \"message\":{\n",
    "            \"text\":\"Bot says\" + text\n",
    "        }\n",
    "    }\n",
    "    requests.post(url,json=d1)"
   ]
  },
  {
   "cell_type": "code",
   "execution_count": null,
   "metadata": {},
   "outputs": [],
   "source": [
    "app = Flask(__name__)\n",
    "@app.route(\"/\",methods = [\"GET\",\"POST\"])\n",
    "def receive_msg():\n",
    "    return \"Hello world\"\n",
    "@app.route(\"/callback/\",methods=[\"GET\"])\n",
    "def get_callback():\n",
    "    if token==request.args.get(\"hub.verify_token\"):\n",
    "        return request.args.get(\"hub.challenge\")\n",
    "    else:\n",
    "        return \"Not working\"\n",
    "@app.route(\"/callback/\",methods=[\"POST\"])\n",
    "def post_callback():\n",
    "    output = request.get_json()\n",
    "    for entry in output.get(\"entry\"):\n",
    "        if \"messaging\" in entry:\n",
    "            for messaging in entry.get(\"messaging\"):\n",
    "                sender = messaging.get(\"sender\").get(\"id\")\n",
    "                recipient = messaging.get(\"recipient\").get(\"id\")\n",
    "                if \"text\" in messaging.get(\"message\"):\n",
    "                    text = messaging.get(\"message\").get(\"text\")\n",
    "                print(sender,recipient,text)\n",
    "                bot(recipient,text)\n",
    "    return \"done\"\n",
    "if __name__==\"__main__\":\n",
    "    app.run()"
   ]
  },
  {
   "cell_type": "code",
   "execution_count": null,
   "metadata": {},
   "outputs": [],
   "source": []
  }
 ],
 "metadata": {
  "kernelspec": {
   "display_name": "Python 3",
   "language": "python",
   "name": "python3"
  },
  "language_info": {
   "codemirror_mode": {
    "name": "ipython",
    "version": 3
   },
   "file_extension": ".py",
   "mimetype": "text/x-python",
   "name": "python",
   "nbconvert_exporter": "python",
   "pygments_lexer": "ipython3",
   "version": "3.7.4"
  }
 },
 "nbformat": 4,
 "nbformat_minor": 2
}
