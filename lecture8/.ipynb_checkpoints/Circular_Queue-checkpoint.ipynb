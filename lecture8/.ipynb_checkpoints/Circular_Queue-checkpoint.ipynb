{
 "cells": [
  {
   "cell_type": "code",
   "execution_count": 3,
   "metadata": {},
   "outputs": [],
   "source": [
    "import numpy as np"
   ]
  },
  {
   "cell_type": "code",
   "execution_count": 165,
   "metadata": {},
   "outputs": [],
   "source": [
    "class CircularQueue:\n",
    "    def __init__(self):\n",
    "        self.__first = 0\n",
    "        self.__end = 0\n",
    "        self.__size = 0\n",
    "        self.__data = np.zeros((10,),dtype=int)\n",
    "    def add(self,value):\n",
    "        if self.isFull():\n",
    "            return \"Queue is Full\"\n",
    "        else:\n",
    "            self.__data[self.__end]=value\n",
    "            self.__end += 1\n",
    "            self.__end = self.__end % len(self.__data)\n",
    "            self.__size += 1\n",
    "    def remove(self):\n",
    "        if self.isEmpty():\n",
    "            print('Queue is Empty')\n",
    "            return None\n",
    "        else:\n",
    "            removed = self.__data[self.__first]\n",
    "            self__first =self.__first + 1\n",
    "            self.__first=self__first%len(self.__data)\n",
    "            self.__size -= 1\n",
    "            return removed\n",
    "    def isFull(self):\n",
    "        return self.__size==len(self.__data)\n",
    "    def isEmpty(self):\n",
    "        return self.__size==0\n",
    "    def __repr__(self):\n",
    "        if self.__size==0:\n",
    "            print('Empty list')\n",
    "            return ''\n",
    "        elif self.__first < self.__end:\n",
    "            cut = self.__data[self.__first : self.__end]\n",
    "        else:\n",
    "            cut1 = self.__data[self.__first:]\n",
    "            cut2 = self.__data[0:self.__end]\n",
    "            cut = np.concatenate((cut2,cut1))\n",
    "        return f'[{\", \".join(map(str,cut))}]'"
   ]
  },
  {
   "cell_type": "code",
   "execution_count": 166,
   "metadata": {},
   "outputs": [],
   "source": [
    "q = CircularQueue()"
   ]
  },
  {
   "cell_type": "code",
   "execution_count": 167,
   "metadata": {},
   "outputs": [],
   "source": [
    "for i in range(10):\n",
    "    q.add(i)"
   ]
  },
  {
   "cell_type": "code",
   "execution_count": 168,
   "metadata": {},
   "outputs": [
    {
     "name": "stdout",
     "output_type": "stream",
     "text": [
      "[0, 1, 2, 3, 4, 5, 6, 7, 8, 9]\n"
     ]
    }
   ],
   "source": [
    "print(q)"
   ]
  },
  {
   "cell_type": "code",
   "execution_count": 169,
   "metadata": {},
   "outputs": [],
   "source": [
    "for i in range(10):\n",
    "    q.remove()"
   ]
  },
  {
   "cell_type": "code",
   "execution_count": 115,
   "metadata": {},
   "outputs": [
    {
     "data": {
      "text/plain": [
       "0"
      ]
     },
     "execution_count": 115,
     "metadata": {},
     "output_type": "execute_result"
    }
   ],
   "source": [
    "q.remove()"
   ]
  },
  {
   "cell_type": "code",
   "execution_count": 170,
   "metadata": {},
   "outputs": [
    {
     "name": "stdout",
     "output_type": "stream",
     "text": [
      "Empty list\n",
      "\n"
     ]
    }
   ],
   "source": [
    "print(q)"
   ]
  },
  {
   "cell_type": "code",
   "execution_count": 117,
   "metadata": {},
   "outputs": [
    {
     "data": {
      "text/plain": [
       "1"
      ]
     },
     "execution_count": 117,
     "metadata": {},
     "output_type": "execute_result"
    }
   ],
   "source": [
    "q.remove()"
   ]
  },
  {
   "cell_type": "code",
   "execution_count": 118,
   "metadata": {},
   "outputs": [
    {
     "name": "stdout",
     "output_type": "stream",
     "text": [
      "[2, 3, 4, 5, 6, 7, 8, 9]\n"
     ]
    }
   ],
   "source": [
    "print(q)"
   ]
  },
  {
   "cell_type": "code",
   "execution_count": null,
   "metadata": {},
   "outputs": [],
   "source": []
  }
 ],
 "metadata": {
  "kernelspec": {
   "display_name": "Python 3",
   "language": "python",
   "name": "python3"
  },
  "language_info": {
   "codemirror_mode": {
    "name": "ipython",
    "version": 3
   },
   "file_extension": ".py",
   "mimetype": "text/x-python",
   "name": "python",
   "nbconvert_exporter": "python",
   "pygments_lexer": "ipython3",
   "version": "3.7.4"
  }
 },
 "nbformat": 4,
 "nbformat_minor": 2
}
