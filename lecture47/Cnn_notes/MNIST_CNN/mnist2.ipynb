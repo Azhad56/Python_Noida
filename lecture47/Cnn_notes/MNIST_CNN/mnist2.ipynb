{
  "nbformat": 4,
  "nbformat_minor": 0,
  "metadata": {
    "kernelspec": {
      "display_name": "Python 3",
      "language": "python",
      "name": "python3"
    },
    "language_info": {
      "codemirror_mode": {
        "name": "ipython",
        "version": 3
      },
      "file_extension": ".py",
      "mimetype": "text/x-python",
      "name": "python",
      "nbconvert_exporter": "python",
      "pygments_lexer": "ipython3",
      "version": "3.7.6"
    },
    "colab": {
      "name": "mnist2.ipynb",
      "provenance": []
    },
    "accelerator": "GPU"
  },
  "cells": [
    {
      "cell_type": "code",
      "metadata": {
        "id": "Q9J6kqECYgK5",
        "colab_type": "code",
        "colab": {}
      },
      "source": [
        "import matplotlib.pyplot as plt\n",
        "from keras.datasets import mnist\n",
        "from keras.utils import to_categorical\n",
        "from keras.models import Sequential\n",
        "from keras.layers import Convolution2D,Dense,Flatten,InputLayer,MaxPool2D,Dropout"
      ],
      "execution_count": 19,
      "outputs": []
    },
    {
      "cell_type": "code",
      "metadata": {
        "id": "Bu_mxR4QYgK_",
        "colab_type": "code",
        "colab": {}
      },
      "source": [
        "(X_train,y_train),(X_test,y_test) = mnist.load_data()"
      ],
      "execution_count": 20,
      "outputs": []
    },
    {
      "cell_type": "code",
      "metadata": {
        "id": "fNroQ68xYgLD",
        "colab_type": "code",
        "colab": {
          "base_uri": "https://localhost:8080/",
          "height": 35
        },
        "outputId": "74e8e5bc-69e3-4a21-b1ca-278427e49e29"
      },
      "source": [
        "X_train.shape"
      ],
      "execution_count": 21,
      "outputs": [
        {
          "output_type": "execute_result",
          "data": {
            "text/plain": [
              "(60000, 28, 28)"
            ]
          },
          "metadata": {
            "tags": []
          },
          "execution_count": 21
        }
      ]
    },
    {
      "cell_type": "code",
      "metadata": {
        "id": "kh4G4nfOYgLL",
        "colab_type": "code",
        "colab": {}
      },
      "source": [
        ""
      ],
      "execution_count": 3,
      "outputs": []
    },
    {
      "cell_type": "code",
      "metadata": {
        "id": "ut611MjFYgLP",
        "colab_type": "code",
        "colab": {}
      },
      "source": [
        "def preprocess(X,y):\n",
        "    X = X.reshape((-1,28,28,1))\n",
        "    X = X/255.0\n",
        "    y = to_categorical(y)\n",
        "    return X,y"
      ],
      "execution_count": 22,
      "outputs": []
    },
    {
      "cell_type": "code",
      "metadata": {
        "id": "y6CP2m3fYgLT",
        "colab_type": "code",
        "colab": {}
      },
      "source": [
        "X_train,y_train = preprocess(X_train,y_train)"
      ],
      "execution_count": 23,
      "outputs": []
    },
    {
      "cell_type": "code",
      "metadata": {
        "id": "-JA1K0u3YgLX",
        "colab_type": "code",
        "colab": {
          "base_uri": "https://localhost:8080/",
          "height": 365
        },
        "outputId": "f8021aac-806f-42cc-a1ca-7533b7c59437"
      },
      "source": [
        "plt.imshow(X_train[0].reshape(28,28),cmap=\"gray\")"
      ],
      "execution_count": 24,
      "outputs": [
        {
          "output_type": "execute_result",
          "data": {
            "text/plain": [
              "<matplotlib.image.AxesImage at 0x7f9c19bc7160>"
            ]
          },
          "metadata": {
            "tags": []
          },
          "execution_count": 24
        },
        {
          "output_type": "display_data",
          "data": {
            "image/png": "[encoded data removed]",
            "text/plain": [
              "<Figure size 576x396 with 1 Axes>"
            ]
          },
          "metadata": {
            "tags": []
          }
        }
      ]
    },
    {
      "cell_type": "code",
      "metadata": {
        "id": "mcZJO9vVYgLc",
        "colab_type": "code",
        "colab": {}
      },
      "source": [
        "model = Sequential()"
      ],
      "execution_count": 32,
      "outputs": []
    },
    {
      "cell_type": "code",
      "metadata": {
        "id": "ModZqxifYgLg",
        "colab_type": "code",
        "colab": {
          "base_uri": "https://localhost:8080/",
          "height": 433
        },
        "outputId": "abf09926-fcc5-4d77-a414-1248ccf40c4f"
      },
      "source": [
        "model.add(Convolution2D(32,(3,3),activation='relu',input_shape = (28,28,1)))\n",
        "model.add(MaxPool2D(2,2))\n",
        "model.add(Convolution2D(64,(3,3),activation='relu'))\n",
        "model.add(MaxPool2D(2,2))\n",
        "model.add(Convolution2D(64,(3,3),activation='relu'))\n",
        "model.add(Flatten())\n",
        "model.add(Dense(64,activation='relu'))\n",
        "model.add(Dense(10,activation='softmax'))\n",
        "model.summary()"
      ],
      "execution_count": 33,
      "outputs": [
        {
          "output_type": "stream",
          "text": [
            "Model: \"sequential_4\"\n",
            "_________________________________________________________________\n",
            "Layer (type)                 Output Shape              Param #   \n",
            "=================================================================\n",
            "conv2d_10 (Conv2D)           (None, 26, 26, 32)        320       \n",
            "_________________________________________________________________\n",
            "max_pooling2d_5 (MaxPooling2 (None, 13, 13, 32)        0         \n",
            "_________________________________________________________________\n",
            "conv2d_11 (Conv2D)           (None, 11, 11, 64)        18496     \n",
            "_________________________________________________________________\n",
            "max_pooling2d_6 (MaxPooling2 (None, 5, 5, 64)          0         \n",
            "_________________________________________________________________\n",
            "conv2d_12 (Conv2D)           (None, 3, 3, 64)          36928     \n",
            "_________________________________________________________________\n",
            "flatten_4 (Flatten)          (None, 576)               0         \n",
            "_________________________________________________________________\n",
            "dense_6 (Dense)              (None, 64)                36928     \n",
            "_________________________________________________________________\n",
            "dense_7 (Dense)              (None, 10)                650       \n",
            "=================================================================\n",
            "Total params: 93,322\n",
            "Trainable params: 93,322\n",
            "Non-trainable params: 0\n",
            "_________________________________________________________________\n"
          ],
          "name": "stdout"
        }
      ]
    },
    {
      "cell_type": "code",
      "metadata": {
        "id": "2hvXVqC1YgLk",
        "colab_type": "code",
        "colab": {}
      },
      "source": [
        "model.compile(optimizer='adam',loss='categorical_crossentropy',metrics=['accuracy'])"
      ],
      "execution_count": 34,
      "outputs": []
    },
    {
      "cell_type": "code",
      "metadata": {
        "id": "m4bRgPNJYgLn",
        "colab_type": "code",
        "colab": {
          "base_uri": "https://localhost:8080/",
          "height": 505
        },
        "outputId": "24f8068f-123c-45dd-fcfb-379bfd2441c4"
      },
      "source": [
        "hist = model.fit(X_train,y_train,batch_size=128,epochs=13,validation_split=0.1)"
      ],
      "execution_count": 35,
      "outputs": [
        {
          "output_type": "stream",
          "text": [
            "Train on 54000 samples, validate on 6000 samples\n",
            "Epoch 1/13\n",
            "54000/54000 [==============================] - 3s 53us/step - loss: 0.2657 - accuracy: 0.9209 - val_loss: 0.0608 - val_accuracy: 0.9830\n",
            "Epoch 2/13\n",
            "54000/54000 [==============================] - 3s 48us/step - loss: 0.0675 - accuracy: 0.9792 - val_loss: 0.0561 - val_accuracy: 0.9842\n",
            "Epoch 3/13\n",
            "54000/54000 [==============================] - 3s 48us/step - loss: 0.0479 - accuracy: 0.9849 - val_loss: 0.0430 - val_accuracy: 0.9878\n",
            "Epoch 4/13\n",
            "54000/54000 [==============================] - 3s 48us/step - loss: 0.0371 - accuracy: 0.9886 - val_loss: 0.0418 - val_accuracy: 0.9880\n",
            "Epoch 5/13\n",
            "54000/54000 [==============================] - 3s 48us/step - loss: 0.0293 - accuracy: 0.9909 - val_loss: 0.0393 - val_accuracy: 0.9897\n",
            "Epoch 6/13\n",
            "54000/54000 [==============================] - 3s 47us/step - loss: 0.0257 - accuracy: 0.9921 - val_loss: 0.0360 - val_accuracy: 0.9897\n",
            "Epoch 7/13\n",
            "54000/54000 [==============================] - 3s 48us/step - loss: 0.0212 - accuracy: 0.9930 - val_loss: 0.0327 - val_accuracy: 0.9907\n",
            "Epoch 8/13\n",
            "54000/54000 [==============================] - 3s 48us/step - loss: 0.0171 - accuracy: 0.9944 - val_loss: 0.0427 - val_accuracy: 0.9885\n",
            "Epoch 9/13\n",
            "54000/54000 [==============================] - 3s 47us/step - loss: 0.0145 - accuracy: 0.9954 - val_loss: 0.0403 - val_accuracy: 0.9887\n",
            "Epoch 10/13\n",
            "54000/54000 [==============================] - 3s 48us/step - loss: 0.0138 - accuracy: 0.9954 - val_loss: 0.0431 - val_accuracy: 0.9892\n",
            "Epoch 11/13\n",
            "54000/54000 [==============================] - 3s 47us/step - loss: 0.0123 - accuracy: 0.9959 - val_loss: 0.0414 - val_accuracy: 0.9905\n",
            "Epoch 12/13\n",
            "54000/54000 [==============================] - 3s 47us/step - loss: 0.0091 - accuracy: 0.9969 - val_loss: 0.0443 - val_accuracy: 0.9893\n",
            "Epoch 13/13\n",
            "54000/54000 [==============================] - 3s 48us/step - loss: 0.0111 - accuracy: 0.9961 - val_loss: 0.0375 - val_accuracy: 0.9918\n"
          ],
          "name": "stdout"
        }
      ]
    },
    {
      "cell_type": "code",
      "metadata": {
        "id": "9NTEdu_6YgLs",
        "colab_type": "code",
        "colab": {}
      },
      "source": [
        "h = hist.history"
      ],
      "execution_count": 36,
      "outputs": []
    },
    {
      "cell_type": "code",
      "metadata": {
        "id": "4bS8bMC-YgLv",
        "colab_type": "code",
        "colab": {
          "base_uri": "https://localhost:8080/",
          "height": 361
        },
        "outputId": "b580eefa-6ab6-4701-8f43-a566514d2ffe"
      },
      "source": [
        "plt.style.use('seaborn')\n",
        "plt.plot(h['loss'],label='Training Loss')\n",
        "plt.plot(h['val_loss'],label='Validation Loss')\n",
        "plt.xlabel(\"Epochs\")\n",
        "plt.ylabel(\"Loss\")\n",
        "plt.legend()\n",
        "plt.show()"
      ],
      "execution_count": 37,
      "outputs": [
        {
          "output_type": "display_data",
          "data": {
            "image/png": "[encoded data removed]",
            "text/plain": [
              "<Figure size 576x396 with 1 Axes>"
            ]
          },
          "metadata": {
            "tags": []
          }
        }
      ]
    },
    {
      "cell_type": "code",
      "metadata": {
        "id": "eotNjtX1YgLz",
        "colab_type": "code",
        "colab": {
          "base_uri": "https://localhost:8080/",
          "height": 362
        },
        "outputId": "1988b764-4656-4c75-f2c9-ede88b5a6013"
      },
      "source": [
        "plt.style.use('seaborn')\n",
        "plt.plot(h['accuracy'],label='Training acc')\n",
        "plt.plot(h['val_accuracy'],label='Validation acc')\n",
        "plt.xlabel(\"Epochs\")\n",
        "plt.ylabel(\"Accuracy\")\n",
        "plt.legend()\n",
        "plt.show()"
      ],
      "execution_count": 38,
      "outputs": [
        {
          "output_type": "display_data",
          "data": {
            "image/png": "[encoded data removed]",
            "text/plain": [
              "<Figure size 576x396 with 1 Axes>"
            ]
          },
          "metadata": {
            "tags": []
          }
        }
      ]
    },
    {
      "cell_type": "code",
      "metadata": {
        "id": "c5lac77OYgL4",
        "colab_type": "code",
        "colab": {}
      },
      "source": [
        "X_test,y_test = preprocess(X_test,y_test)"
      ],
      "execution_count": 39,
      "outputs": []
    },
    {
      "cell_type": "code",
      "metadata": {
        "id": "o2KRh6IrYgL7",
        "colab_type": "code",
        "colab": {
          "base_uri": "https://localhost:8080/",
          "height": 52
        },
        "outputId": "2d761198-5a4d-41ab-e003-8edc5a599cf2"
      },
      "source": [
        "model.evaluate(X_test,y_test)"
      ],
      "execution_count": 40,
      "outputs": [
        {
          "output_type": "stream",
          "text": [
            "10000/10000 [==============================] - 1s 64us/step\n"
          ],
          "name": "stdout"
        },
        {
          "output_type": "execute_result",
          "data": {
            "text/plain": [
              "[0.043312367554970845, 0.9882000088691711]"
            ]
          },
          "metadata": {
            "tags": []
          },
          "execution_count": 40
        }
      ]
    },
    {
      "cell_type": "code",
      "metadata": {
        "id": "dLlOKgXOaSKE",
        "colab_type": "code",
        "colab": {}
      },
      "source": [
        ""
      ],
      "execution_count": null,
      "outputs": []
    }
  ]
}