{
 "cells": [
  {
   "cell_type": "code",
   "execution_count": 1,
   "metadata": {
    "colab": {},
    "colab_type": "code",
    "id": "V1zDr-oxX9QS"
   },
   "outputs": [],
   "source": [
    "import numpy as np"
   ]
  },
  {
   "cell_type": "code",
   "execution_count": 2,
   "metadata": {
    "colab": {},
    "colab_type": "code",
    "id": "XbYPymOmX9Qe"
   },
   "outputs": [],
   "source": [
    "import nltk"
   ]
  },
  {
   "cell_type": "code",
   "execution_count": 3,
   "metadata": {
    "colab": {
     "base_uri": "https://localhost:8080/",
     "height": 68
    },
    "colab_type": "code",
    "id": "5Qu34PSWX9Qr",
    "outputId": "b0e24e3b-be3c-42e1-87e6-0926700fbb46"
   },
   "outputs": [
    {
     "name": "stderr",
     "output_type": "stream",
     "text": [
      "[nltk_data] Downloading package punkt to /home/azhad56/nltk_data...\n",
      "[nltk_data]   Package punkt is already up-to-date!\n"
     ]
    },
    {
     "data": {
      "text/plain": [
       "True"
      ]
     },
     "execution_count": 3,
     "metadata": {},
     "output_type": "execute_result"
    }
   ],
   "source": [
    "nltk.download('punkt')"
   ]
  },
  {
   "cell_type": "code",
   "execution_count": 4,
   "metadata": {
    "colab": {
     "base_uri": "https://localhost:8080/",
     "height": 34
    },
    "colab_type": "code",
    "id": "qppV0KqJX9Qy",
    "outputId": "2dd9b051-810c-421f-ba3b-7388665970dc"
   },
   "outputs": [],
   "source": [
    "from keras.datasets import imdb"
   ]
  },
  {
   "cell_type": "code",
   "execution_count": 5,
   "metadata": {
    "colab": {
     "base_uri": "https://localhost:8080/",
     "height": 51
    },
    "colab_type": "code",
    "id": "xy9nVUGoX9Q6",
    "outputId": "256fce52-48d7-4567-ff5b-9e142edc8362"
   },
   "outputs": [],
   "source": [
    "((X_train,y_train),(X_test,y_test)) = imdb.load_data(num_words=10000)"
   ]
  },
  {
   "cell_type": "code",
   "execution_count": 6,
   "metadata": {
    "colab": {
     "base_uri": "https://localhost:8080/",
     "height": 34
    },
    "colab_type": "code",
    "id": "jCzVqkyMX9Q_",
    "outputId": "4254b3b6-21e2-43bf-c5c3-501f9d7df727"
   },
   "outputs": [
    {
     "data": {
      "text/plain": [
       "25000"
      ]
     },
     "execution_count": 6,
     "metadata": {},
     "output_type": "execute_result"
    }
   ],
   "source": [
    "len(X_train)"
   ]
  },
  {
   "cell_type": "code",
   "execution_count": 7,
   "metadata": {
    "colab": {
     "base_uri": "https://localhost:8080/",
     "height": 34
    },
    "colab_type": "code",
    "id": "ygbNh8AXX9RH",
    "outputId": "1fd932a0-1171-4c2d-8439-e4e7416e91bb"
   },
   "outputs": [
    {
     "data": {
      "text/plain": [
       "25000"
      ]
     },
     "execution_count": 7,
     "metadata": {},
     "output_type": "execute_result"
    }
   ],
   "source": [
    "len(X_test)"
   ]
  },
  {
   "cell_type": "code",
   "execution_count": 8,
   "metadata": {
    "colab": {
     "base_uri": "https://localhost:8080/",
     "height": 54
    },
    "colab_type": "code",
    "id": "QSxUqvnHX9RO",
    "outputId": "bde89a39-5798-47d9-fece-fab95b4f5f60"
   },
   "outputs": [
    {
     "name": "stdout",
     "output_type": "stream",
     "text": [
      "[1, 14, 22, 16, 43, 530, 973, 1622, 1385, 65, 458, 4468, 66, 3941, 4, 173, 36, 256, 5, 25, 100, 43, 838, 112, 50, 670, 2, 9, 35, 480, 284, 5, 150, 4, 172, 112, 167, 2, 336, 385, 39, 4, 172, 4536, 1111, 17, 546, 38, 13, 447, 4, 192, 50, 16, 6, 147, 2025, 19, 14, 22, 4, 1920, 4613, 469, 4, 22, 71, 87, 12, 16, 43, 530, 38, 76, 15, 13, 1247, 4, 22, 17, 515, 17, 12, 16, 626, 18, 2, 5, 62, 386, 12, 8, 316, 8, 106, 5, 4, 2223, 5244, 16, 480, 66, 3785, 33, 4, 130, 12, 16, 38, 619, 5, 25, 124, 51, 36, 135, 48, 25, 1415, 33, 6, 22, 12, 215, 28, 77, 52, 5, 14, 407, 16, 82, 2, 8, 4, 107, 117, 5952, 15, 256, 4, 2, 7, 3766, 5, 723, 36, 71, 43, 530, 476, 26, 400, 317, 46, 7, 4, 2, 1029, 13, 104, 88, 4, 381, 15, 297, 98, 32, 2071, 56, 26, 141, 6, 194, 7486, 18, 4, 226, 22, 21, 134, 476, 26, 480, 5, 144, 30, 5535, 18, 51, 36, 28, 224, 92, 25, 104, 4, 226, 65, 16, 38, 1334, 88, 12, 16, 283, 5, 16, 4472, 113, 103, 32, 15, 16, 5345, 19, 178, 32]\n"
     ]
    }
   ],
   "source": [
    "print(X_train[0])"
   ]
  },
  {
   "cell_type": "code",
   "execution_count": 9,
   "metadata": {
    "colab": {
     "base_uri": "https://localhost:8080/",
     "height": 34
    },
    "colab_type": "code",
    "id": "r0rpcallX9RU",
    "outputId": "20f3d84b-1e3d-4050-930d-6163a3e63c11"
   },
   "outputs": [
    {
     "name": "stdout",
     "output_type": "stream",
     "text": [
      "218\n"
     ]
    }
   ],
   "source": [
    "print(len(X_train[0]))"
   ]
  },
  {
   "cell_type": "code",
   "execution_count": 10,
   "metadata": {
    "colab": {
     "base_uri": "https://localhost:8080/",
     "height": 51
    },
    "colab_type": "code",
    "id": "ZrVrm9VCX9Rc",
    "outputId": "13b4517f-39f1-4786-97ca-b66b6a65f4fa"
   },
   "outputs": [],
   "source": [
    "word_index = imdb.get_word_index()"
   ]
  },
  {
   "cell_type": "code",
   "execution_count": 11,
   "metadata": {
    "colab": {
     "base_uri": "https://localhost:8080/",
     "height": 54
    },
    "colab_type": "code",
    "id": "_qVWYv1YX9Rl",
    "outputId": "69c9194c-8412-4794-f7b0-e9035e0769aa"
   },
   "outputs": [],
   "source": [
    "# print(word_index)"
   ]
  },
  {
   "cell_type": "code",
   "execution_count": 12,
   "metadata": {
    "colab": {
     "base_uri": "https://localhost:8080/",
     "height": 34
    },
    "colab_type": "code",
    "id": "0-c4c0Q7X9Rr",
    "outputId": "58b7467c-c8aa-401b-9bf0-7b2669fc4004"
   },
   "outputs": [
    {
     "name": "stdout",
     "output_type": "stream",
     "text": [
      "88584\n"
     ]
    }
   ],
   "source": [
    "print(len(word_index))"
   ]
  },
  {
   "cell_type": "code",
   "execution_count": 13,
   "metadata": {
    "colab": {},
    "colab_type": "code",
    "id": "PShtrjLPX9Rw"
   },
   "outputs": [],
   "source": [
    "index_word = dict([value,key] for key,value in word_index.items())"
   ]
  },
  {
   "cell_type": "code",
   "execution_count": 14,
   "metadata": {
    "colab": {
     "base_uri": "https://localhost:8080/",
     "height": 1000
    },
    "colab_type": "code",
    "id": "zEqiJM_OX9R0",
    "outputId": "51fe5a59-b851-4bf7-8eca-ef4ac4e2c845"
   },
   "outputs": [],
   "source": [
    "# index_word"
   ]
  },
  {
   "cell_type": "code",
   "execution_count": 15,
   "metadata": {
    "colab": {},
    "colab_type": "code",
    "id": "1Nd2vLXyX9R5"
   },
   "outputs": [],
   "source": [
    "actual_review = ' '.join([index_word.get(index-3,'?') for index in X_train[0]])"
   ]
  },
  {
   "cell_type": "code",
   "execution_count": 16,
   "metadata": {
    "colab": {
     "base_uri": "https://localhost:8080/",
     "height": 154
    },
    "colab_type": "code",
    "id": "NplJl1UsX9R_",
    "outputId": "af3214e1-bb07-4bc8-d8b4-e5660c7137f8"
   },
   "outputs": [],
   "source": [
    "# actual_review"
   ]
  },
  {
   "cell_type": "code",
   "execution_count": 17,
   "metadata": {
    "colab": {
     "base_uri": "https://localhost:8080/",
     "height": 34
    },
    "colab_type": "code",
    "id": "lYfE3cu2X9SF",
    "outputId": "b407e9ce-942f-44d6-fa4d-88f6661c351c"
   },
   "outputs": [
    {
     "data": {
      "text/plain": [
       "218"
      ]
     },
     "execution_count": 17,
     "metadata": {},
     "output_type": "execute_result"
    }
   ],
   "source": [
    "len(X_train[0])"
   ]
  },
  {
   "cell_type": "code",
   "execution_count": 18,
   "metadata": {
    "colab": {
     "base_uri": "https://localhost:8080/",
     "height": 34
    },
    "colab_type": "code",
    "id": "SW5F179-X9SK",
    "outputId": "5ea2ded7-4297-4956-b5b7-e8519a1b93d1"
   },
   "outputs": [
    {
     "data": {
      "text/plain": [
       "222"
      ]
     },
     "execution_count": 18,
     "metadata": {},
     "output_type": "execute_result"
    }
   ],
   "source": [
    "len(nltk.word_tokenize(actual_review))"
   ]
  },
  {
   "cell_type": "code",
   "execution_count": 19,
   "metadata": {
    "colab": {},
    "colab_type": "code",
    "id": "ltUEr-82X9SQ"
   },
   "outputs": [],
   "source": [
    "def vectorize_sentence(sentences,dim=10000):\n",
    "    outputs = np.zeros((len(sentences),dim))\n",
    "    for i,word_index in enumerate(sentences):\n",
    "        outputs[i,word_index] = 1\n",
    "        if i%1000==0:\n",
    "            print(\"{} sentence completed\".format(i))\n",
    "    return outputs"
   ]
  },
  {
   "cell_type": "code",
   "execution_count": 20,
   "metadata": {
    "colab": {
     "base_uri": "https://localhost:8080/",
     "height": 867
    },
    "colab_type": "code",
    "id": "gxy6-gN2X9SU",
    "outputId": "30c77962-9d59-468f-f13d-f0f3e42e8843"
   },
   "outputs": [
    {
     "name": "stdout",
     "output_type": "stream",
     "text": [
      "0 sentence completed\n",
      "1000 sentence completed\n",
      "2000 sentence completed\n",
      "3000 sentence completed\n",
      "4000 sentence completed\n",
      "5000 sentence completed\n",
      "6000 sentence completed\n",
      "7000 sentence completed\n",
      "8000 sentence completed\n",
      "9000 sentence completed\n",
      "10000 sentence completed\n",
      "11000 sentence completed\n",
      "12000 sentence completed\n",
      "13000 sentence completed\n",
      "14000 sentence completed\n",
      "15000 sentence completed\n",
      "16000 sentence completed\n",
      "17000 sentence completed\n",
      "18000 sentence completed\n",
      "19000 sentence completed\n",
      "20000 sentence completed\n",
      "21000 sentence completed\n",
      "22000 sentence completed\n",
      "23000 sentence completed\n",
      "24000 sentence completed\n",
      "0 sentence completed\n",
      "1000 sentence completed\n",
      "2000 sentence completed\n",
      "3000 sentence completed\n",
      "4000 sentence completed\n",
      "5000 sentence completed\n",
      "6000 sentence completed\n",
      "7000 sentence completed\n",
      "8000 sentence completed\n",
      "9000 sentence completed\n",
      "10000 sentence completed\n",
      "11000 sentence completed\n",
      "12000 sentence completed\n",
      "13000 sentence completed\n",
      "14000 sentence completed\n",
      "15000 sentence completed\n",
      "16000 sentence completed\n",
      "17000 sentence completed\n",
      "18000 sentence completed\n",
      "19000 sentence completed\n",
      "20000 sentence completed\n",
      "21000 sentence completed\n",
      "22000 sentence completed\n",
      "23000 sentence completed\n",
      "24000 sentence completed\n"
     ]
    }
   ],
   "source": [
    "X_train = vectorize_sentence(X_train)\n",
    "X_test = vectorize_sentence(X_test)"
   ]
  },
  {
   "cell_type": "code",
   "execution_count": null,
   "metadata": {
    "colab": {
     "base_uri": "https://localhost:8080/",
     "height": 34
    },
    "colab_type": "code",
    "id": "9ZL0u7FxX9SY",
    "outputId": "790151c0-852a-4c04-f929-7ad761509317"
   },
   "outputs": [
    {
     "data": {
      "text/plain": [
       "(25000, 10000)"
      ]
     },
     "execution_count": 21,
     "metadata": {
      "tags": []
     },
     "output_type": "execute_result"
    }
   ],
   "source": [
    "X_train.shape"
   ]
  },
  {
   "cell_type": "code",
   "execution_count": null,
   "metadata": {
    "colab": {
     "base_uri": "https://localhost:8080/",
     "height": 34
    },
    "colab_type": "code",
    "id": "muBqb-rHX9Sd",
    "outputId": "673521e4-d5ba-4919-fc08-91e2e4978285"
   },
   "outputs": [
    {
     "data": {
      "text/plain": [
       "(25000, 10000)"
      ]
     },
     "execution_count": 22,
     "metadata": {
      "tags": []
     },
     "output_type": "execute_result"
    }
   ],
   "source": [
    "X_test.shape"
   ]
  },
  {
   "cell_type": "code",
   "execution_count": null,
   "metadata": {
    "colab": {
     "base_uri": "https://localhost:8080/",
     "height": 34
    },
    "colab_type": "code",
    "id": "-1_WihaoX9Sh",
    "outputId": "f20afa7a-67cf-4569-8e94-4416ee6c7dcb"
   },
   "outputs": [
    {
     "data": {
      "text/plain": [
       "array([0., 1., 1., ..., 0., 0., 0.])"
      ]
     },
     "execution_count": 23,
     "metadata": {
      "tags": []
     },
     "output_type": "execute_result"
    }
   ],
   "source": [
    "X_train[0]"
   ]
  },
  {
   "cell_type": "code",
   "execution_count": null,
   "metadata": {
    "colab": {
     "base_uri": "https://localhost:8080/",
     "height": 34
    },
    "colab_type": "code",
    "id": "gcYRMLcuX9Sz",
    "outputId": "fa472217-92e8-4726-ab87-f1f23a3ec53e"
   },
   "outputs": [
    {
     "name": "stdout",
     "output_type": "stream",
     "text": [
      "(25000,) (25000,)\n"
     ]
    }
   ],
   "source": [
    "print(y_train.shape,y_test.shape)"
   ]
  },
  {
   "cell_type": "code",
   "execution_count": null,
   "metadata": {
    "colab": {
     "base_uri": "https://localhost:8080/",
     "height": 34
    },
    "colab_type": "code",
    "id": "bdVvWiMEX9S6",
    "outputId": "ab828efa-dbef-46ce-8491-e12d9d2d1cef"
   },
   "outputs": [
    {
     "data": {
      "text/plain": [
       "1"
      ]
     },
     "execution_count": 25,
     "metadata": {
      "tags": []
     },
     "output_type": "execute_result"
    }
   ],
   "source": [
    "y_train[0]"
   ]
  },
  {
   "cell_type": "code",
   "execution_count": null,
   "metadata": {
    "colab": {},
    "colab_type": "code",
    "id": "GLFZp_yTX9TA"
   },
   "outputs": [],
   "source": [
    "y_train = np.asarray(y_train).astype('float32')\n",
    "y_test = np.asarray(y_test).astype('float32')"
   ]
  },
  {
   "cell_type": "code",
   "execution_count": null,
   "metadata": {
    "colab": {},
    "colab_type": "code",
    "id": "doyGK8rwX9TE"
   },
   "outputs": [],
   "source": [
    "from keras import models\n",
    "from keras.layers import Dense"
   ]
  },
  {
   "cell_type": "code",
   "execution_count": null,
   "metadata": {
    "colab": {},
    "colab_type": "code",
    "id": "M5kjROHhX9TJ"
   },
   "outputs": [],
   "source": [
    "model = models.Sequential()"
   ]
  },
  {
   "cell_type": "code",
   "execution_count": null,
   "metadata": {
    "colab": {},
    "colab_type": "code",
    "id": "HoZMbl_FX9TM"
   },
   "outputs": [],
   "source": [
    "model.add(Dense(16,activation='relu',input_shape = (10000,)))\n",
    "model.add(Dense(16,activation='relu'))\n",
    "model.add(Dense(1,activation='sigmoid'))"
   ]
  },
  {
   "cell_type": "code",
   "execution_count": null,
   "metadata": {
    "colab": {},
    "colab_type": "code",
    "id": "uqUF3uPZX9TQ"
   },
   "outputs": [],
   "source": [
    "model.compile(optimizer='adam',loss='binary_crossentropy',metrics=['accuracy'])"
   ]
  },
  {
   "cell_type": "code",
   "execution_count": null,
   "metadata": {
    "colab": {
     "base_uri": "https://localhost:8080/",
     "height": 255
    },
    "colab_type": "code",
    "id": "FeRF7VX6X9TS",
    "outputId": "8151d6ae-2ebc-4eba-8051-57f119fe4e81"
   },
   "outputs": [
    {
     "name": "stdout",
     "output_type": "stream",
     "text": [
      "Model: \"sequential_1\"\n",
      "_________________________________________________________________\n",
      "Layer (type)                 Output Shape              Param #   \n",
      "=================================================================\n",
      "dense_1 (Dense)              (None, 16)                160016    \n",
      "_________________________________________________________________\n",
      "dense_2 (Dense)              (None, 16)                272       \n",
      "_________________________________________________________________\n",
      "dense_3 (Dense)              (None, 1)                 17        \n",
      "=================================================================\n",
      "Total params: 160,305\n",
      "Trainable params: 160,305\n",
      "Non-trainable params: 0\n",
      "_________________________________________________________________\n"
     ]
    }
   ],
   "source": [
    "model.summary()"
   ]
  },
  {
   "cell_type": "code",
   "execution_count": null,
   "metadata": {
    "colab": {},
    "colab_type": "code",
    "id": "MHUxKGN3X9TX"
   },
   "outputs": [],
   "source": [
    "X_val = X_train[:5000]\n",
    "y_val = y_train[:5000]\n"
   ]
  },
  {
   "cell_type": "code",
   "execution_count": null,
   "metadata": {
    "colab": {},
    "colab_type": "code",
    "id": "IQWq-_AKX9TZ"
   },
   "outputs": [],
   "source": [
    "X_train_new = X_train[5000:]\n",
    "y_train_new = y_train[5000:]"
   ]
  },
  {
   "cell_type": "code",
   "execution_count": null,
   "metadata": {
    "colab": {
     "base_uri": "https://localhost:8080/",
     "height": 714
    },
    "colab_type": "code",
    "id": "kM_TLOWxX9Tc",
    "outputId": "797bfb42-5a88-4e30-d629-931a099cfe97"
   },
   "outputs": [
    {
     "name": "stdout",
     "output_type": "stream",
     "text": [
      "Train on 20000 samples, validate on 5000 samples\n",
      "Epoch 1/20\n",
      "20000/20000 [==============================] - 2s 76us/step - loss: 2.4962e-04 - accuracy: 1.0000 - val_loss: 0.0073 - val_accuracy: 0.9972\n",
      "Epoch 2/20\n",
      "20000/20000 [==============================] - 2s 77us/step - loss: 2.3308e-04 - accuracy: 1.0000 - val_loss: 0.0076 - val_accuracy: 0.9970\n",
      "Epoch 3/20\n",
      "20000/20000 [==============================] - 2s 77us/step - loss: 2.1862e-04 - accuracy: 1.0000 - val_loss: 0.0078 - val_accuracy: 0.9970\n",
      "Epoch 4/20\n",
      "20000/20000 [==============================] - 2s 77us/step - loss: 2.0807e-04 - accuracy: 1.0000 - val_loss: 0.0081 - val_accuracy: 0.9970\n",
      "Epoch 5/20\n",
      "20000/20000 [==============================] - 2s 77us/step - loss: 1.9411e-04 - accuracy: 1.0000 - val_loss: 0.0086 - val_accuracy: 0.9968\n",
      "Epoch 6/20\n",
      "20000/20000 [==============================] - 2s 77us/step - loss: 1.8253e-04 - accuracy: 1.0000 - val_loss: 0.0090 - val_accuracy: 0.9966\n",
      "Epoch 7/20\n",
      "20000/20000 [==============================] - 2s 77us/step - loss: 1.7215e-04 - accuracy: 1.0000 - val_loss: 0.0093 - val_accuracy: 0.9964\n",
      "Epoch 8/20\n",
      "20000/20000 [==============================] - 2s 76us/step - loss: 1.6265e-04 - accuracy: 1.0000 - val_loss: 0.0096 - val_accuracy: 0.9964\n",
      "Epoch 9/20\n",
      "20000/20000 [==============================] - 2s 76us/step - loss: 1.5385e-04 - accuracy: 1.0000 - val_loss: 0.0100 - val_accuracy: 0.9962\n",
      "Epoch 10/20\n",
      "20000/20000 [==============================] - 2s 75us/step - loss: 1.4578e-04 - accuracy: 1.0000 - val_loss: 0.0104 - val_accuracy: 0.9960\n",
      "Epoch 11/20\n",
      "20000/20000 [==============================] - 2s 77us/step - loss: 1.3825e-04 - accuracy: 1.0000 - val_loss: 0.0107 - val_accuracy: 0.9962\n",
      "Epoch 12/20\n",
      "20000/20000 [==============================] - 2s 77us/step - loss: 1.3122e-04 - accuracy: 1.0000 - val_loss: 0.0111 - val_accuracy: 0.9958\n",
      "Epoch 13/20\n",
      "20000/20000 [==============================] - 2s 77us/step - loss: 1.2500e-04 - accuracy: 1.0000 - val_loss: 0.0116 - val_accuracy: 0.9958\n",
      "Epoch 14/20\n",
      "20000/20000 [==============================] - 2s 76us/step - loss: 1.1847e-04 - accuracy: 1.0000 - val_loss: 0.0118 - val_accuracy: 0.9958\n",
      "Epoch 15/20\n",
      "20000/20000 [==============================] - 2s 77us/step - loss: 1.1269e-04 - accuracy: 1.0000 - val_loss: 0.0121 - val_accuracy: 0.9958\n",
      "Epoch 16/20\n",
      "20000/20000 [==============================] - 2s 77us/step - loss: 1.0734e-04 - accuracy: 1.0000 - val_loss: 0.0125 - val_accuracy: 0.9956\n",
      "Epoch 17/20\n",
      "20000/20000 [==============================] - 2s 77us/step - loss: 1.0237e-04 - accuracy: 1.0000 - val_loss: 0.0128 - val_accuracy: 0.9956\n",
      "Epoch 18/20\n",
      "20000/20000 [==============================] - 2s 76us/step - loss: 9.7688e-05 - accuracy: 1.0000 - val_loss: 0.0133 - val_accuracy: 0.9956\n",
      "Epoch 19/20\n",
      "20000/20000 [==============================] - 2s 77us/step - loss: 9.3465e-05 - accuracy: 1.0000 - val_loss: 0.0136 - val_accuracy: 0.9956\n",
      "Epoch 20/20\n",
      "20000/20000 [==============================] - 2s 77us/step - loss: 8.9248e-05 - accuracy: 1.0000 - val_loss: 0.0139 - val_accuracy: 0.9956\n"
     ]
    }
   ],
   "source": [
    "hist = model.fit(X_train_new,y_train_new,epochs=20,batch_size=512,validation_data=(X_val,y_val))"
   ]
  },
  {
   "cell_type": "code",
   "execution_count": null,
   "metadata": {
    "colab": {},
    "colab_type": "code",
    "id": "RsNH8vltY2Cc"
   },
   "outputs": [],
   "source": [
    "import matplotlib.pyplot as plt"
   ]
  },
  {
   "cell_type": "code",
   "execution_count": null,
   "metadata": {
    "colab": {},
    "colab_type": "code",
    "id": "FCZxIYNUX9Tf"
   },
   "outputs": [],
   "source": [
    "h = hist.history"
   ]
  },
  {
   "cell_type": "code",
   "execution_count": null,
   "metadata": {
    "colab": {
     "base_uri": "https://localhost:8080/",
     "height": 296
    },
    "colab_type": "code",
    "id": "BPGztTVoY_kq",
    "outputId": "d802b87a-8732-4151-b310-92df126b1ce2"
   },
   "outputs": [
    {
     "data": {
      "text/plain": [
       "Text(0, 0.5, 'loss')"
      ]
     },
     "execution_count": 47,
     "metadata": {
      "tags": []
     },
     "output_type": "execute_result"
    },
    {
     "data": {
      "image/png": "[encoded data removed]",
      "text/plain": [
       "<Figure size 432x288 with 1 Axes>"
      ]
     },
     "metadata": {
      "needs_background": "light",
      "tags": []
     },
     "output_type": "display_data"
    }
   ],
   "source": [
    "plt.plot(h['loss'],label='Training Loss')\n",
    "plt.plot(h['val_loss'],label='Validation loss')\n",
    "plt.legend()\n",
    "plt.xlabel('Epochs')\n",
    "plt.ylabel('loss')"
   ]
  },
  {
   "cell_type": "code",
   "execution_count": null,
   "metadata": {
    "colab": {},
    "colab_type": "code",
    "id": "rq1yWH6aa4ms"
   },
   "outputs": [],
   "source": [
    "plt.plot(h['acc'],label='Training acc')\n",
    "plt.plot(h['val_acc'],label='Validation acc')\n",
    "plt.legend()\n",
    "plt.xlabel('Epochs')\n",
    "plt.ylabel('acc')"
   ]
  }
 ],
 "metadata": {
  "colab": {
   "name": "Untitled.ipynb",
   "provenance": []
  },
  "kernelspec": {
   "display_name": "Python 3",
   "language": "python",
   "name": "python3"
  },
  "language_info": {
   "codemirror_mode": {
    "name": "ipython",
    "version": 3
   },
   "file_extension": ".py",
   "mimetype": "text/x-python",
   "name": "python",
   "nbconvert_exporter": "python",
   "pygments_lexer": "ipython3",
   "version": "3.7.6"
  }
 },
 "nbformat": 4,
 "nbformat_minor": 4
}
