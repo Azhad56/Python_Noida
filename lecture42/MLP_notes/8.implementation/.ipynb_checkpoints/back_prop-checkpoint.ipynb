{
 "cells": [
  {
   "cell_type": "code",
   "execution_count": 1,
   "metadata": {},
   "outputs": [],
   "source": [
    "import numpy as np\n",
    "import pandas as pd\n",
    "import matplotlib.pyplot as plt"
   ]
  },
  {
   "cell_type": "code",
   "execution_count": 3,
   "metadata": {},
   "outputs": [],
   "source": [
    "input_size = 3 #features\n",
    "layers = [4,3] #no of neurons in 2nd and 3rd layer\n",
    "out_size = 2"
   ]
  },
  {
   "cell_type": "code",
   "execution_count": null,
   "metadata": {},
   "outputs": [],
   "source": [
    "def softmax(a):\n",
    "    e_pa = np.exp(a)\n",
    "    ans = e_pa/np.sum(e_pa,axis=1,keepdims=True)\n",
    "    return ans"
   ]
  },
  {
   "cell_type": "code",
   "execution_count": 4,
   "metadata": {},
   "outputs": [],
   "source": [
    "class NeuralNw():\n",
    "    def __init__(self,input_size,layers,out_size):\n",
    "        np.random.seed(0)\n",
    "        model = {}\n",
    "#         First layer\n",
    "        model['W1'] = np.random.randn(input_size,layers[0])\n",
    "        model['b1'] = np.zeros((input_size,layers[0]))\n",
    "#         Second layer\n",
    "        model['W2'] = np.random.randn(layers[0],layers[1])\n",
    "        model['b2'] = np.zeros((layers[0],layers[1]))\n",
    "#         Third layer\n",
    "        model['W2'] = np.random.randn(layers[1],out_size)\n",
    "        model['b2'] = np.zeros((layers[1],out_size))\n",
    "        self.model = model\n",
    "    def feed_forward(self,x):\n",
    "        W1,W2,W3 = self.model['W1'],self.model['W2'],self.model['W3']\n",
    "        b1,b2,b3 = self.model['b1'],self.model['b2'],self.model['b3']\n",
    "        \n",
    "        z1 = np.dot(x,W1) + b1\n",
    "        a1 = np.tanh(z1)\n",
    "        \n",
    "        z2 = np.dot(a1,W2) + b2\n",
    "        a2 = np.tanh(z2)\n",
    "        \n",
    "        z3 = np.dot(a2,W3) + b3\n",
    "        y_ = softmax(z3)\n",
    "        self.activations = (a1,a2,y_)\n",
    "        return y_\n",
    "    def backprop(self,x,y,learning_rate=0.001):\n",
    "        W1,W2,W3 = self.model['W1'],self.model['W2'],self.model['W3']\n",
    "        b1,b2,b3 = self.model['b1'],self.model['b2'],self.model['b3']\n",
    "        \n",
    "        a1,a2,y_ = self.activations\n",
    "        \n",
    "        m = x.shape[0]\n",
    "        \n",
    "        delta3 = y_ - y\n",
    "        dw3 = np.dot(a2.T,delta3)\n",
    "        db3 = np.sum(delta3,axis=0)/float(m)\n",
    "        \n",
    "        delta2 = (1-np.square(a2))*np.dot(delta3,W3.T)\n",
    "        dw2 = np.dot(a1.T,delta2)\n",
    "        db2 = np.sum(delta2,axis=0)/float(m)\n",
    "        \n",
    "        delta1 = (1-np.square(a1))*np.dot(delta2,W2.T)\n",
    "        dw1= np.dot(x.T,delta1)\n",
    "        db1 = np.sum(delta1,axis=0)/float(m)\n",
    "        \n",
    "        self.model['W1'] -= dw1\n",
    "        self.model['W2'] -= dw2\n",
    "        self.model['W3'] -= dw3\n",
    "        self.model['b1'] -= db1\n",
    "        self.model['b2'] -= db2\n",
    "        self.model['b3'] -= db3\n",
    "        \n",
    "    def predict(self,x):\n",
    "        yout = self.feed_forward(x)\n",
    "        return np.argmax(yout,axis=1)\n",
    "    def summary(self):\n",
    "        W1,W2,W3 = self.model['W1'],self.model['W2'],self.model['W3']\n",
    "        a1,a2,y_ = self.activations\n",
    "        \n",
    "        print(\"W1\",W1.shape)\n",
    "        print(\"A1\",a1.shape)\n",
    "        \n",
    "        print(\"W2\",W2.shape)\n",
    "        print(\"A2\",a2.shape)\n",
    "        \n",
    "        print(\"W3\",W3.shape)\n",
    "        print(\"A3\",a3.shape)"
   ]
  },
  {
   "cell_type": "code",
   "execution_count": null,
   "metadata": {},
   "outputs": [],
   "source": []
  }
 ],
 "metadata": {
  "kernelspec": {
   "display_name": "Python 3",
   "language": "python",
   "name": "python3"
  },
  "language_info": {
   "codemirror_mode": {
    "name": "ipython",
    "version": 3
   },
   "file_extension": ".py",
   "mimetype": "text/x-python",
   "name": "python",
   "nbconvert_exporter": "python",
   "pygments_lexer": "ipython3",
   "version": "3.7.6"
  }
 },
 "nbformat": 4,
 "nbformat_minor": 4
}
