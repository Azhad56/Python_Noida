{
 "cells": [
  {
   "cell_type": "code",
   "execution_count": 2,
   "metadata": {},
   "outputs": [
    {
     "name": "stdout",
     "output_type": "stream",
     "text": [
      " Volume in drive C has no label.\n",
      " Volume Serial Number is 3A92-A852\n",
      "\n",
      " Directory of C:\\Users\\lenovo\\Desktop\\Python_training\\lecture1\n",
      "\n",
      "01/22/2020  05:16 PM    <DIR>          .\n",
      "01/22/2020  05:16 PM    <DIR>          ..\n",
      "01/22/2020  05:16 PM    <DIR>          .ipynb_checkpoints\n",
      "01/21/2020  11:55 AM             8,452 basic.ipynb\n",
      "01/21/2020  01:05 PM            73,923 files.ipynb\n",
      "01/21/2020  01:04 PM            14,102 hello.html\n",
      "01/21/2020  12:46 PM            14,038 hello.jpg\n",
      "01/21/2020  12:38 PM                11 hello.txt\n",
      "01/21/2020  12:46 PM                 0 image.html\n",
      "01/21/2020  01:04 PM            29,115 image.jpg\n",
      "01/21/2020  02:22 PM            12,684 iter.ipynb\n",
      "01/22/2020  05:16 PM                72 practice.ipynb\n",
      "01/21/2020  12:16 PM             2,900 statements.ipynb\n",
      "              10 File(s)        155,297 bytes\n",
      "               3 Dir(s)  117,658,464,256 bytes free\n"
     ]
    }
   ],
   "source": [
    "! dir"
   ]
  },
  {
   "cell_type": "code",
   "execution_count": 35,
   "metadata": {},
   "outputs": [],
   "source": [
    "myfile = open(\"C:\\\\Users\\\\lenovo\\\\Desktop\\\\Python\\\\Res1.txt\")"
   ]
  },
  {
   "cell_type": "code",
   "execution_count": 36,
   "metadata": {},
   "outputs": [
    {
     "ename": "UnsupportedOperation",
     "evalue": "not writable",
     "output_type": "error",
     "traceback": [
      "\u001b[1;31m---------------------------------------------------------------------------\u001b[0m",
      "\u001b[1;31mUnsupportedOperation\u001b[0m                      Traceback (most recent call last)",
      "\u001b[1;32m<ipython-input-36-73402cc3ba64>\u001b[0m in \u001b[0;36m<module>\u001b[1;34m\u001b[0m\n\u001b[1;32m----> 1\u001b[1;33m \u001b[0mmyfile\u001b[0m\u001b[1;33m.\u001b[0m\u001b[0mwrite\u001b[0m\u001b[1;33m(\u001b[0m\u001b[1;34m\"jjsd\"\u001b[0m\u001b[1;33m)\u001b[0m\u001b[1;33m\u001b[0m\u001b[1;33m\u001b[0m\u001b[0m\n\u001b[0m",
      "\u001b[1;31mUnsupportedOperation\u001b[0m: not writable"
     ]
    }
   ],
   "source": []
  },
  {
   "cell_type": "code",
   "execution_count": 5,
   "metadata": {},
   "outputs": [
    {
     "data": {
      "text/plain": [
       "\"Resources for More Basic Practice\\nBefore you begin your assessment, I wanted to point out some helpful links for practice (don't worry about being able to do these exercises, I just want you to be aware of the links so you can visit them later, since we still haven't discussed functions, you won't be able to utilize a lot of these resources yet!):\\n\\nBasic Practice:\\n\\nhttp://codingbat.com/python\\n\\nMore Mathematical (and Harder) Practice:\\n\\nhttps://projecteuler.net/archives\\n\\nList of Practice Problems:\\n\\nhttp://www.codeabbey.com/index/task_list\\n\\nA SubReddit Devoted to Daily Practice Problems:\\n\\nhttps://www.reddit.com/r/dailyprogrammer\\n\\nA very tricky website with very few hints and touch problems (Not for beginners but still interesting)\\n\\nhttp://www.pythonchallenge.com/\""
      ]
     },
     "execution_count": 5,
     "metadata": {},
     "output_type": "execute_result"
    }
   ],
   "source": [
    "myfile.read()"
   ]
  },
  {
   "cell_type": "code",
   "execution_count": 7,
   "metadata": {},
   "outputs": [
    {
     "name": "stdout",
     "output_type": "stream",
     "text": [
      "Writing example.txt\n"
     ]
    }
   ],
   "source": [
    "%%writefile example.txt\n",
    "hello this is first\n",
    "second"
   ]
  },
  {
   "cell_type": "code",
   "execution_count": 8,
   "metadata": {},
   "outputs": [],
   "source": [
    "myfile = open(\"C:\\\\Users\\\\lenovo\\\\Desktop\\\\Python\\\\Res1.txt\")"
   ]
  },
  {
   "cell_type": "code",
   "execution_count": 9,
   "metadata": {},
   "outputs": [],
   "source": [
    "myfile = open(\"C:\\\\Users\\\\lenovo\\\\Desktop\\\\Python\\\\Res1.txt\")"
   ]
  },
  {
   "cell_type": "code",
   "execution_count": 10,
   "metadata": {},
   "outputs": [
    {
     "data": {
      "text/plain": [
       "\"Resources for More Basic Practice\\nBefore you begin your assessment, I wanted to point out some helpful links for practice (don't worry about being able to do these exercises, I just want you to be aware of the links so you can visit them later, since we still haven't discussed functions, you won't be able to utilize a lot of these resources yet!):\\n\\nBasic Practice:\\n\\nhttp://codingbat.com/python\\n\\nMore Mathematical (and Harder) Practice:\\n\\nhttps://projecteuler.net/archives\\n\\nList of Practice Problems:\\n\\nhttp://www.codeabbey.com/index/task_list\\n\\nA SubReddit Devoted to Daily Practice Problems:\\n\\nhttps://www.reddit.com/r/dailyprogrammer\\n\\nA very tricky website with very few hints and touch problems (Not for beginners but still interesting)\\n\\nhttp://www.pythonchallenge.com/\""
      ]
     },
     "execution_count": 10,
     "metadata": {},
     "output_type": "execute_result"
    }
   ],
   "source": [
    "myfile.read()"
   ]
  },
  {
   "cell_type": "code",
   "execution_count": 11,
   "metadata": {},
   "outputs": [
    {
     "data": {
      "text/plain": [
       "''"
      ]
     },
     "execution_count": 11,
     "metadata": {},
     "output_type": "execute_result"
    }
   ],
   "source": [
    "myfile.read()"
   ]
  },
  {
   "cell_type": "code",
   "execution_count": 12,
   "metadata": {},
   "outputs": [],
   "source": [
    "myfile.close()"
   ]
  },
  {
   "cell_type": "code",
   "execution_count": 13,
   "metadata": {},
   "outputs": [],
   "source": [
    "myfile = open(\"C:\\\\Users\\\\lenovo\\\\Desktop\\\\Python\\\\Res1.txt\")"
   ]
  },
  {
   "cell_type": "code",
   "execution_count": 14,
   "metadata": {},
   "outputs": [
    {
     "data": {
      "text/plain": [
       "\"Resources for More Basic Practice\\nBefore you begin your assessment, I wanted to point out some helpful links for practice (don't worry about being able to do these exercises, I just want you to be aware of the links so you can visit them later, since we still haven't discussed functions, you won't be able to utilize a lot of these resources yet!):\\n\\nBasic Practice:\\n\\nhttp://codingbat.com/python\\n\\nMore Mathematical (and Harder) Practice:\\n\\nhttps://projecteuler.net/archives\\n\\nList of Practice Problems:\\n\\nhttp://www.codeabbey.com/index/task_list\\n\\nA SubReddit Devoted to Daily Practice Problems:\\n\\nhttps://www.reddit.com/r/dailyprogrammer\\n\\nA very tricky website with very few hints and touch problems (Not for beginners but still interesting)\\n\\nhttp://www.pythonchallenge.com/\""
      ]
     },
     "execution_count": 14,
     "metadata": {},
     "output_type": "execute_result"
    }
   ],
   "source": [
    "myfile.read()"
   ]
  },
  {
   "cell_type": "code",
   "execution_count": 15,
   "metadata": {},
   "outputs": [
    {
     "data": {
      "text/plain": [
       "''"
      ]
     },
     "execution_count": 15,
     "metadata": {},
     "output_type": "execute_result"
    }
   ],
   "source": [
    "myfile.read()"
   ]
  },
  {
   "cell_type": "code",
   "execution_count": 17,
   "metadata": {},
   "outputs": [
    {
     "data": {
      "text/plain": [
       "0"
      ]
     },
     "execution_count": 17,
     "metadata": {},
     "output_type": "execute_result"
    }
   ],
   "source": [
    "myfile.seek(0)"
   ]
  },
  {
   "cell_type": "code",
   "execution_count": 18,
   "metadata": {},
   "outputs": [
    {
     "data": {
      "text/plain": [
       "\"Resources for More Basic Practice\\nBefore you begin your assessment, I wanted to point out some helpful links for practice (don't worry about being able to do these exercises, I just want you to be aware of the links so you can visit them later, since we still haven't discussed functions, you won't be able to utilize a lot of these resources yet!):\\n\\nBasic Practice:\\n\\nhttp://codingbat.com/python\\n\\nMore Mathematical (and Harder) Practice:\\n\\nhttps://projecteuler.net/archives\\n\\nList of Practice Problems:\\n\\nhttp://www.codeabbey.com/index/task_list\\n\\nA SubReddit Devoted to Daily Practice Problems:\\n\\nhttps://www.reddit.com/r/dailyprogrammer\\n\\nA very tricky website with very few hints and touch problems (Not for beginners but still interesting)\\n\\nhttp://www.pythonchallenge.com/\""
      ]
     },
     "execution_count": 18,
     "metadata": {},
     "output_type": "execute_result"
    }
   ],
   "source": [
    "myfile.read()"
   ]
  },
  {
   "cell_type": "code",
   "execution_count": 19,
   "metadata": {},
   "outputs": [
    {
     "data": {
      "text/plain": [
       "''"
      ]
     },
     "execution_count": 19,
     "metadata": {},
     "output_type": "execute_result"
    }
   ],
   "source": [
    "myfile.read()"
   ]
  },
  {
   "cell_type": "code",
   "execution_count": 20,
   "metadata": {},
   "outputs": [
    {
     "data": {
      "text/plain": [
       "4"
      ]
     },
     "execution_count": 20,
     "metadata": {},
     "output_type": "execute_result"
    }
   ],
   "source": [
    "myfile.seek(4)"
   ]
  },
  {
   "cell_type": "code",
   "execution_count": 21,
   "metadata": {},
   "outputs": [
    {
     "data": {
      "text/plain": [
       "\"urces for More Basic Practice\\nBefore you begin your assessment, I wanted to point out some helpful links for practice (don't worry about being able to do these exercises, I just want you to be aware of the links so you can visit them later, since we still haven't discussed functions, you won't be able to utilize a lot of these resources yet!):\\n\\nBasic Practice:\\n\\nhttp://codingbat.com/python\\n\\nMore Mathematical (and Harder) Practice:\\n\\nhttps://projecteuler.net/archives\\n\\nList of Practice Problems:\\n\\nhttp://www.codeabbey.com/index/task_list\\n\\nA SubReddit Devoted to Daily Practice Problems:\\n\\nhttps://www.reddit.com/r/dailyprogrammer\\n\\nA very tricky website with very few hints and touch problems (Not for beginners but still interesting)\\n\\nhttp://www.pythonchallenge.com/\""
      ]
     },
     "execution_count": 21,
     "metadata": {},
     "output_type": "execute_result"
    }
   ],
   "source": [
    "myfile.read()"
   ]
  },
  {
   "cell_type": "code",
   "execution_count": 31,
   "metadata": {},
   "outputs": [
    {
     "data": {
      "text/plain": [
       "0"
      ]
     },
     "execution_count": 31,
     "metadata": {},
     "output_type": "execute_result"
    }
   ],
   "source": [
    "myfile.seek(0)"
   ]
  },
  {
   "cell_type": "code",
   "execution_count": 32,
   "metadata": {},
   "outputs": [
    {
     "data": {
      "text/plain": [
       "'Resources for More Basic Practice\\n'"
      ]
     },
     "execution_count": 32,
     "metadata": {},
     "output_type": "execute_result"
    }
   ],
   "source": [
    "myfile.readline()"
   ]
  },
  {
   "cell_type": "code",
   "execution_count": 33,
   "metadata": {},
   "outputs": [],
   "source": [
    "with open(\"C:\\\\Users\\\\lenovo\\\\Desktop\\\\Python\\\\Res1.txt\") as x:\n",
    "    contents = x.read()"
   ]
  },
  {
   "cell_type": "code",
   "execution_count": 34,
   "metadata": {},
   "outputs": [
    {
     "data": {
      "text/plain": [
       "\"Resources for More Basic Practice\\nBefore you begin your assessment, I wanted to point out some helpful links for practice (don't worry about being able to do these exercises, I just want you to be aware of the links so you can visit them later, since we still haven't discussed functions, you won't be able to utilize a lot of these resources yet!):\\n\\nBasic Practice:\\n\\nhttp://codingbat.com/python\\n\\nMore Mathematical (and Harder) Practice:\\n\\nhttps://projecteuler.net/archives\\n\\nList of Practice Problems:\\n\\nhttp://www.codeabbey.com/index/task_list\\n\\nA SubReddit Devoted to Daily Practice Problems:\\n\\nhttps://www.reddit.com/r/dailyprogrammer\\n\\nA very tricky website with very few hints and touch problems (Not for beginners but still interesting)\\n\\nhttp://www.pythonchallenge.com/\""
      ]
     },
     "execution_count": 34,
     "metadata": {},
     "output_type": "execute_result"
    }
   ],
   "source": [
    "contents"
   ]
  },
  {
   "cell_type": "code",
   "execution_count": 46,
   "metadata": {},
   "outputs": [],
   "source": [
    "file = open(\"C:\\\\Users\\\\lenovo\\\\Desktop\\\\Python\\\\Res1.txt\",'a')"
   ]
  },
  {
   "cell_type": "code",
   "execution_count": 45,
   "metadata": {},
   "outputs": [
    {
     "data": {
      "text/plain": [
       "\"Resources for More Basic Practice\\nBefore you begin your assessment, I wanted to point out some helpful links for practice (don't worry about being able to do these exercises, I just want you to be aware of the links so you can visit them later, since we still haven't discussed functions, you won't be able to utilize a lot of these resources yet!):\\n\\nBasic Practice:\\n\\nhttp://codingbat.com/python\\n\\nMore Mathematical (and Harder) Practice:\\n\\nhttps://projecteuler.net/archives\\n\\nList of Practice Problems:\\n\\nhttp://www.codeabbey.com/index/task_list\\n\\nA SubReddit Devoted to Daily Practice Problems:\\n\\nhttps://www.reddit.com/r/dailyprogrammer\\n\\nA very tricky website with very few hints and touch problems (Not for beginners but still interesting)\\n\\nhttp://www.pythonchallenge.com/AppendedAppended\""
      ]
     },
     "execution_count": 45,
     "metadata": {},
     "output_type": "execute_result"
    }
   ],
   "source": [
    "file.read()"
   ]
  },
  {
   "cell_type": "code",
   "execution_count": 41,
   "metadata": {},
   "outputs": [
    {
     "data": {
      "text/plain": [
       "8"
      ]
     },
     "execution_count": 41,
     "metadata": {},
     "output_type": "execute_result"
    }
   ],
   "source": [
    "file.write(\"Appended\")"
   ]
  },
  {
   "cell_type": "code",
   "execution_count": 42,
   "metadata": {},
   "outputs": [
    {
     "ename": "UnsupportedOperation",
     "evalue": "not readable",
     "output_type": "error",
     "traceback": [
      "\u001b[1;31m---------------------------------------------------------------------------\u001b[0m",
      "\u001b[1;31mUnsupportedOperation\u001b[0m                      Traceback (most recent call last)",
      "\u001b[1;32m<ipython-input-42-f3fc120c03c1>\u001b[0m in \u001b[0;36m<module>\u001b[1;34m\u001b[0m\n\u001b[1;32m----> 1\u001b[1;33m \u001b[0mfile\u001b[0m\u001b[1;33m.\u001b[0m\u001b[0mread\u001b[0m\u001b[1;33m(\u001b[0m\u001b[1;33m)\u001b[0m\u001b[1;33m\u001b[0m\u001b[1;33m\u001b[0m\u001b[0m\n\u001b[0m",
      "\u001b[1;31mUnsupportedOperation\u001b[0m: not readable"
     ]
    }
   ],
   "source": []
  },
  {
   "cell_type": "code",
   "execution_count": 1,
   "metadata": {},
   "outputs": [
    {
     "ename": "SyntaxError",
     "evalue": "invalid syntax (<ipython-input-1-218dc7596ce5>, line 3)",
     "output_type": "error",
     "traceback": [
      "\u001b[1;36m  File \u001b[1;32m\"<ipython-input-1-218dc7596ce5>\"\u001b[1;36m, line \u001b[1;32m3\u001b[0m\n\u001b[1;33m    */\u001b[0m\n\u001b[1;37m     ^\u001b[0m\n\u001b[1;31mSyntaxError\u001b[0m\u001b[1;31m:\u001b[0m invalid syntax\n"
     ]
    }
   ],
   "source": []
  },
  {
   "cell_type": "code",
   "execution_count": null,
   "metadata": {},
   "outputs": [],
   "source": []
  }
 ],
 "metadata": {
  "kernelspec": {
   "display_name": "Python 3",
   "language": "python",
   "name": "python3"
  },
  "language_info": {
   "codemirror_mode": {
    "name": "ipython",
    "version": 3
   },
   "file_extension": ".py",
   "mimetype": "text/x-python",
   "name": "python",
   "nbconvert_exporter": "python",
   "pygments_lexer": "ipython3",
   "version": "3.7.3"
  }
 },
 "nbformat": 4,
 "nbformat_minor": 4
}
