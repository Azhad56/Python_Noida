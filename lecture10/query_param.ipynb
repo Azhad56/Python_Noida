{
 "cells": [
  {
   "cell_type": "code",
   "execution_count": 1,
   "metadata": {},
   "outputs": [],
   "source": [
    "from flask import Flask,request"
   ]
  },
  {
   "cell_type": "code",
   "execution_count": 2,
   "metadata": {},
   "outputs": [],
   "source": [
    "d = {\n",
    "    \"Azhad\":\"Data science is life \",\n",
    "    \"Ankush\":\"Coding is my life\"\n",
    "}"
   ]
  },
  {
   "cell_type": "code",
   "execution_count": null,
   "metadata": {},
   "outputs": [
    {
     "name": "stdout",
     "output_type": "stream",
     "text": [
      " * Serving Flask app \"this is a app\" (lazy loading)\n",
      " * Environment: production\n",
      "   WARNING: This is a development server. Do not use it in a production deployment.\n",
      "   Use a production WSGI server instead.\n",
      " * Debug mode: off\n"
     ]
    },
    {
     "name": "stderr",
     "output_type": "stream",
     "text": [
      " * Running on http://127.0.0.1:5000/ (Press CTRL+C to quit)\n",
      "127.0.0.1 - - [06/Feb/2020 12:17:50] \"GET /search/?q=json HTTP/1.1\" 200 -\n",
      "127.0.0.1 - - [06/Feb/2020 12:18:12] \"GET /find/?name=Ankush HTTP/1.1\" 200 -\n",
      "127.0.0.1 - - [06/Feb/2020 12:18:45] \"GET /find/?name=Ankush&age=23 HTTP/1.1\" 200 -\n"
     ]
    }
   ],
   "source": [
    "app=Flask(\"this is a app\")\n",
    "\n",
    "@app.route(\"/Azhad\")\n",
    "def something():\n",
    "    return \"Yes it is something\"\n",
    "\n",
    "\n",
    "@app.route(\"/search/\")\n",
    "def search():\n",
    "    return \"Yes you are searching for \" + request.args.get('q')\n",
    "\n",
    "@app.route(\"/find/\")\n",
    "def find():\n",
    "    name=request.args.get(\"name\")\n",
    "    age=request.args.get(\"age\")\n",
    "    return \"My name is {} {} and my life prediction is {} \".format(name,age,d[name])\n",
    "app.run()\n",
    "\n"
   ]
  },
  {
   "cell_type": "markdown",
   "metadata": {},
   "source": [
    "http://127.0.0.1:5000/search/?q=json"
   ]
  },
  {
   "cell_type": "code",
   "execution_count": null,
   "metadata": {},
   "outputs": [],
   "source": []
  }
 ],
 "metadata": {
  "kernelspec": {
   "display_name": "Python 3",
   "language": "python",
   "name": "python3"
  },
  "language_info": {
   "codemirror_mode": {
    "name": "ipython",
    "version": 3
   },
   "file_extension": ".py",
   "mimetype": "text/x-python",
   "name": "python",
   "nbconvert_exporter": "python",
   "pygments_lexer": "ipython3",
   "version": "3.7.4"
  }
 },
 "nbformat": 4,
 "nbformat_minor": 4
}
