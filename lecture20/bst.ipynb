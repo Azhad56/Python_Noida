{
 "cells": [
  {
   "cell_type": "code",
   "execution_count": 74,
   "metadata": {},
   "outputs": [],
   "source": [
    "class Node:\n",
    "    def __init__(self,value,left=None,right=None):\n",
    "        self.value = value\n",
    "        self.left = left\n",
    "        self.right = right"
   ]
  },
  {
   "cell_type": "code",
   "execution_count": 75,
   "metadata": {},
   "outputs": [],
   "source": [
    "class BST:\n",
    "    def __init__(self):\n",
    "        self.root = None\n",
    "    def add(self,value):\n",
    "        self.root = self.__add(value,self.root)\n",
    "    def __add(self,value,node):\n",
    "        if node==None:\n",
    "            node = Node(value)\n",
    "        else:\n",
    "            if node.value > value:\n",
    "                node.left = self.__add(value,node.left)\n",
    "            if node.value < value:\n",
    "                node.right = self.__add(value,node.right)\n",
    "        return node\n",
    "    def contains(self,value):\n",
    "        return self.__contains(self.root,value)\n",
    "    def __contains(self, node,value):\n",
    "        if node==None:\n",
    "            return False\n",
    "        if node.value == value:\n",
    "            return True\n",
    "        if node.value > value:\n",
    "            return self.__contains(node.left,value)\n",
    "        else:\n",
    "            return self.__contains(node.right,value)\n",
    "    def display(self):\n",
    "        self.__display(self.root)\n",
    "    def __display(self,node,indent=\"\",position=\"root\"):\n",
    "        if node==None:\n",
    "            return\n",
    "        print(indent,node.value,position)\n",
    "        self.__display(node.left,indent+\"\\t\",position=\"left\")\n",
    "        self.__display(node.right,indent+\"\\t\",position=\"right\")\n",
    "\n",
    "    def minel(self):\n",
    "        node = self.root\n",
    "        if node==None:\n",
    "            return\n",
    "        while(node.left!=None):\n",
    "            node = node.left\n",
    "        print(node.value)\n",
    "    def maxel(self):\n",
    "        node = self.root\n",
    "        if node==None:\n",
    "            return\n",
    "        while(node.right!=None):\n",
    "            node = node.right\n",
    "        print(node.value)\n",
    "        \n",
    "    def height(self):\n",
    "        return self.__height(self.root)\n",
    "    def __height(self,node):\n",
    "        if node == None:\n",
    "            return 0\n",
    "        left = self.__height(node.left)\n",
    "        right = self.__height(node.right)\n",
    "        return max(left,right) + 1\n",
    "    def sum(self):\n",
    "        return self.__sum(self.root)\n",
    "    def __sum(self,node):\n",
    "        if node == None:\n",
    "            return 0\n",
    "        left = self.__sum(node.left)\n",
    "        right = self.__sum(node.right)\n",
    "        return left+ right + node.value\n",
    "    def mirror(self):\n",
    "        self.__mirror(self.root)\n",
    "    def __mirror(self,node):\n",
    "        if node==None:\n",
    "            return\n",
    "        temp = node.left\n",
    "        node.left = node.right\n",
    "        node.right = temp\n",
    "        self.__mirror(node.left)\n",
    "        self.__mirror(node.right)"
   ]
  },
  {
   "cell_type": "code",
   "execution_count": 76,
   "metadata": {},
   "outputs": [],
   "source": [
    "tree = BST()"
   ]
  },
  {
   "cell_type": "code",
   "execution_count": 77,
   "metadata": {},
   "outputs": [],
   "source": [
    "tree.add(20)"
   ]
  },
  {
   "cell_type": "code",
   "execution_count": 78,
   "metadata": {},
   "outputs": [],
   "source": [
    "tree.add(11)"
   ]
  },
  {
   "cell_type": "code",
   "execution_count": 79,
   "metadata": {},
   "outputs": [],
   "source": [
    "tree.add(4)"
   ]
  },
  {
   "cell_type": "code",
   "execution_count": 80,
   "metadata": {},
   "outputs": [],
   "source": [
    "tree.add(100)"
   ]
  },
  {
   "cell_type": "code",
   "execution_count": 81,
   "metadata": {},
   "outputs": [
    {
     "data": {
      "text/plain": [
       "True"
      ]
     },
     "execution_count": 81,
     "metadata": {},
     "output_type": "execute_result"
    }
   ],
   "source": [
    "tree.contains(20)"
   ]
  },
  {
   "cell_type": "code",
   "execution_count": 82,
   "metadata": {},
   "outputs": [
    {
     "name": "stdout",
     "output_type": "stream",
     "text": [
      "4\n"
     ]
    }
   ],
   "source": [
    "tree.minel()"
   ]
  },
  {
   "cell_type": "code",
   "execution_count": 83,
   "metadata": {},
   "outputs": [
    {
     "name": "stdout",
     "output_type": "stream",
     "text": [
      " 20 root\n",
      "\t 11 left\n",
      "\t\t 4 left\n",
      "\t 100 right\n"
     ]
    }
   ],
   "source": [
    "tree.display()"
   ]
  },
  {
   "cell_type": "code",
   "execution_count": 84,
   "metadata": {},
   "outputs": [
    {
     "name": "stdout",
     "output_type": "stream",
     "text": [
      "100\n"
     ]
    }
   ],
   "source": [
    "tree.maxel()\n"
   ]
  },
  {
   "cell_type": "code",
   "execution_count": 85,
   "metadata": {},
   "outputs": [
    {
     "name": "stdout",
     "output_type": "stream",
     "text": [
      "3\n"
     ]
    }
   ],
   "source": [
    "print(tree.height())"
   ]
  },
  {
   "cell_type": "code",
   "execution_count": 86,
   "metadata": {},
   "outputs": [
    {
     "data": {
      "text/plain": [
       "135"
      ]
     },
     "execution_count": 86,
     "metadata": {},
     "output_type": "execute_result"
    }
   ],
   "source": [
    "tree.sum()"
   ]
  },
  {
   "cell_type": "code",
   "execution_count": 87,
   "metadata": {},
   "outputs": [],
   "source": [
    "tree.mirror()"
   ]
  },
  {
   "cell_type": "code",
   "execution_count": 88,
   "metadata": {},
   "outputs": [
    {
     "name": "stdout",
     "output_type": "stream",
     "text": [
      " 20 root\n",
      "\t 100 left\n",
      "\t 11 right\n",
      "\t\t 4 right\n"
     ]
    }
   ],
   "source": [
    "tree.display()"
   ]
  },
  {
   "cell_type": "code",
   "execution_count": null,
   "metadata": {},
   "outputs": [],
   "source": []
  }
 ],
 "metadata": {
  "kernelspec": {
   "display_name": "Python 3",
   "language": "python",
   "name": "python3"
  },
  "language_info": {
   "codemirror_mode": {
    "name": "ipython",
    "version": 3
   },
   "file_extension": ".py",
   "mimetype": "text/x-python",
   "name": "python",
   "nbconvert_exporter": "python",
   "pygments_lexer": "ipython3",
   "version": "3.7.4"
  }
 },
 "nbformat": 4,
 "nbformat_minor": 2
}
