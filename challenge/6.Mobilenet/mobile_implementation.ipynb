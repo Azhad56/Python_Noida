{
  "nbformat": 4,
  "nbformat_minor": 0,
  "metadata": {
    "accelerator": "GPU",
    "colab": {
      "name": "mobile_implementation.ipynb",
      "provenance": [],
      "collapsed_sections": []
    },
    "kernelspec": {
      "display_name": "Python 3",
      "language": "python",
      "name": "python3"
    },
    "language_info": {
      "codemirror_mode": {
        "name": "ipython",
        "version": 3
      },
      "file_extension": ".py",
      "mimetype": "text/x-python",
      "name": "python",
      "nbconvert_exporter": "python",
      "pygments_lexer": "ipython3",
      "version": "3.7.6"
    }
  },
  "cells": [
    {
      "cell_type": "code",
      "metadata": {
        "colab_type": "code",
        "id": "-M5UnAE-FY4l",
        "colab": {
          "base_uri": "https://localhost:8080/",
          "height": 122
        },
        "outputId": "2e34967f-bd45-4238-f6f6-de9edb0ed29f"
      },
      "source": [
        "from google.colab import drive\n",
        "drive.mount('/content/drive/')"
      ],
      "execution_count": 1,
      "outputs": [
        {
          "output_type": "stream",
          "text": [
            "Go to this URL in a browser: https://accounts.google.com/o/oauth2/auth?client_id=947318989803-6bn6qk8qdgf4n4g3pfee6491hc0brc4i.apps.googleusercontent.com&redirect_uri=urn%3aietf%3awg%3aoauth%3a2.0%3aoob&response_type=code&scope=email%20https%3a%2f%2fwww.googleapis.com%2fauth%2fdocs.test%20https%3a%2f%2fwww.googleapis.com%2fauth%2fdrive%20https%3a%2f%2fwww.googleapis.com%2fauth%2fdrive.photos.readonly%20https%3a%2f%2fwww.googleapis.com%2fauth%2fpeopleapi.readonly\n",
            "\n",
            "Enter your authorization code:\n",
            "··········\n",
            "Mounted at /content/drive/\n"
          ],
          "name": "stdout"
        }
      ]
    },
    {
      "cell_type": "code",
      "metadata": {
        "colab_type": "code",
        "id": "8VxbFDn9EPAH",
        "colab": {
          "base_uri": "https://localhost:8080/",
          "height": 34
        },
        "outputId": "91049966-b9fb-4379-f69b-5a3c69b6223c"
      },
      "source": [
        "from keras.applications.mobilenet_v2 import MobileNetV2\n",
        "from keras.layers import *\n",
        "from keras.preprocessing import image\n",
        "from keras.optimizers import Adam\n",
        "from keras.models import Model\n",
        "from keras.utils import np_utils\n",
        "import os,shutil\n",
        "import random\n",
        "import numpy as np\n",
        "import matplotlib.pyplot as plt\n"
      ],
      "execution_count": 2,
      "outputs": [
        {
          "output_type": "stream",
          "text": [
            "Using TensorFlow backend.\n"
          ],
          "name": "stderr"
        }
      ]
    },
    {
      "cell_type": "code",
      "metadata": {
        "colab_type": "code",
        "id": "Wfpk5y2WEPAN",
        "colab": {}
      },
      "source": [
        "data_path = 'drive/My Drive/Colab Notebooks/Train'"
      ],
      "execution_count": 3,
      "outputs": []
    },
    {
      "cell_type": "code",
      "metadata": {
        "colab_type": "code",
        "id": "Vf_hEa26EPAU",
        "colab": {}
      },
      "source": [
        "folders = os.listdir(data_path)"
      ],
      "execution_count": 4,
      "outputs": []
    },
    {
      "cell_type": "code",
      "metadata": {
        "colab_type": "code",
        "id": "uGQyL6S2EPAY",
        "colab": {
          "base_uri": "https://localhost:8080/",
          "height": 34
        },
        "outputId": "57d72c40-46f7-469b-b380-e7bcc3a60677"
      },
      "source": [
        "print(folders)"
      ],
      "execution_count": 5,
      "outputs": [
        {
          "output_type": "stream",
          "text": [
            "['Aerodactyl', 'Dratini', 'Fearow', 'Spearow', 'Pikachu', 'Charmander', 'Bulbasaur', 'Squirtle', 'Meowth', 'Psyduck']\n"
          ],
          "name": "stdout"
        }
      ]
    },
    {
      "cell_type": "code",
      "metadata": {
        "id": "2OxW9b1YZx1s",
        "colab_type": "code",
        "colab": {}
      },
      "source": [
        "# for f in folders:\n",
        "#     sub_path = os.path.join(data_path,f)\n",
        "#     for img in os.listdir(sub_path):\n",
        "#         img_path = os.path.join(sub_path,img)\n",
        "#         if img_path[-3:]=='svg':\n",
        "#             print(img_path)\n",
        "#             drawing = svg2rlg(img_path)\n",
        "#             renderPM.drawToFile(drawing, \"file.png\", fmt=\"PNG\")\n",
        "#             os.remove(img_path)\n",
        "#             print(img_path,\"has been deleted\")"
      ],
      "execution_count": 6,
      "outputs": []
    },
    {
      "cell_type": "code",
      "metadata": {
        "colab_type": "code",
        "id": "hYlry5HoEPAe",
        "colab": {}
      },
      "source": [
        "image_data = []\n",
        "image_labels = []\n",
        "image_dict = {\n",
        "    \"Aerodactyl\":0,  \n",
        "    \"Bulbasaur\":1,  \n",
        "    \"Charmander\":2, \n",
        "    \"Dratini\":3,  \n",
        "    \"Fearow\":4,  \n",
        "    \"Meowth\":5,  \n",
        "    \"Pikachu\":6,  \n",
        "    \"Psyduck\":7,  \n",
        "    \"Spearow\":8,  \n",
        "    \"Squirtle\":9 \n",
        "}"
      ],
      "execution_count": 7,
      "outputs": []
    },
    {
      "cell_type": "code",
      "metadata": {
        "id": "VKsE9KKmZx12",
        "colab_type": "code",
        "colab": {}
      },
      "source": [
        ""
      ],
      "execution_count": 7,
      "outputs": []
    },
    {
      "cell_type": "code",
      "metadata": {
        "colab_type": "code",
        "id": "IjBae_uCEPAi",
        "colab": {
          "base_uri": "https://localhost:8080/",
          "height": 411
        },
        "outputId": "59cf89b3-06aa-47df-d7d1-530b69317277"
      },
      "source": [
        "for f in folders:\n",
        "    sub_path = os.path.join(data_path,f)\n",
        "    print(sub_path,\"is in process\")\n",
        "    for img in os.listdir(sub_path):\n",
        "        img_path = os.path.join(sub_path,img)\n",
        "        img = image.load_img(img_path,target_size=((224,224)))\n",
        "        img_arr = image.img_to_array(img)/255.0\n",
        "        image_data.append(img_arr)\n",
        "        image_labels.append(image_dict[f])\n",
        "    print(sub_path,\"HAS BEEN PROCESSED\")"
      ],
      "execution_count": 8,
      "outputs": [
        {
          "output_type": "stream",
          "text": [
            "drive/My Drive/Colab Notebooks/Train/Aerodactyl is in process\n",
            "drive/My Drive/Colab Notebooks/Train/Aerodactyl HAS BEEN PROCESSED\n",
            "drive/My Drive/Colab Notebooks/Train/Dratini is in process\n",
            "drive/My Drive/Colab Notebooks/Train/Dratini HAS BEEN PROCESSED\n",
            "drive/My Drive/Colab Notebooks/Train/Fearow is in process\n",
            "drive/My Drive/Colab Notebooks/Train/Fearow HAS BEEN PROCESSED\n",
            "drive/My Drive/Colab Notebooks/Train/Spearow is in process\n",
            "drive/My Drive/Colab Notebooks/Train/Spearow HAS BEEN PROCESSED\n",
            "drive/My Drive/Colab Notebooks/Train/Pikachu is in process\n"
          ],
          "name": "stdout"
        },
        {
          "output_type": "stream",
          "text": [
            "/usr/local/lib/python3.6/dist-packages/PIL/Image.py:932: UserWarning: Palette images with Transparency expressed in bytes should be converted to RGBA images\n",
            "  \"Palette images with Transparency expressed in bytes should be \"\n"
          ],
          "name": "stderr"
        },
        {
          "output_type": "stream",
          "text": [
            "drive/My Drive/Colab Notebooks/Train/Pikachu HAS BEEN PROCESSED\n",
            "drive/My Drive/Colab Notebooks/Train/Charmander is in process\n",
            "drive/My Drive/Colab Notebooks/Train/Charmander HAS BEEN PROCESSED\n",
            "drive/My Drive/Colab Notebooks/Train/Bulbasaur is in process\n",
            "drive/My Drive/Colab Notebooks/Train/Bulbasaur HAS BEEN PROCESSED\n",
            "drive/My Drive/Colab Notebooks/Train/Squirtle is in process\n",
            "drive/My Drive/Colab Notebooks/Train/Squirtle HAS BEEN PROCESSED\n",
            "drive/My Drive/Colab Notebooks/Train/Meowth is in process\n",
            "drive/My Drive/Colab Notebooks/Train/Meowth HAS BEEN PROCESSED\n",
            "drive/My Drive/Colab Notebooks/Train/Psyduck is in process\n",
            "drive/My Drive/Colab Notebooks/Train/Psyduck HAS BEEN PROCESSED\n"
          ],
          "name": "stdout"
        }
      ]
    },
    {
      "cell_type": "code",
      "metadata": {
        "colab_type": "code",
        "id": "n7xfvFnPEPAm",
        "colab": {
          "base_uri": "https://localhost:8080/",
          "height": 34
        },
        "outputId": "4ee2ca61-7abd-4152-da7a-7248a5c89e3b"
      },
      "source": [
        "print(len(image_data),len(image_labels))"
      ],
      "execution_count": 9,
      "outputs": [
        {
          "output_type": "stream",
          "text": [
            "1645 1645\n"
          ],
          "name": "stdout"
        }
      ]
    },
    {
      "cell_type": "code",
      "metadata": {
        "id": "Sc6HKEcvZx2C",
        "colab_type": "code",
        "colab": {
          "base_uri": "https://localhost:8080/",
          "height": 204
        },
        "outputId": "fc7418a3-5436-43c6-fa9d-4ec1cd1d96e3"
      },
      "source": [
        "total = 0\n",
        "for f in folders:\n",
        "    path = os.path.join(data_path,f)\n",
        "    print(f +\" \"+ str(len(os.listdir(path))))\n",
        "    total += len(os.listdir(path))\n",
        "print(total)"
      ],
      "execution_count": 10,
      "outputs": [
        {
          "output_type": "stream",
          "text": [
            "Aerodactyl 80\n",
            "Dratini 98\n",
            "Fearow 109\n",
            "Spearow 117\n",
            "Pikachu 268\n",
            "Charmander 264\n",
            "Bulbasaur 255\n",
            "Squirtle 248\n",
            "Meowth 63\n",
            "Psyduck 143\n",
            "1645\n"
          ],
          "name": "stdout"
        }
      ]
    },
    {
      "cell_type": "code",
      "metadata": {
        "colab_type": "code",
        "id": "ZBsqZOlLEPAr",
        "colab": {
          "base_uri": "https://localhost:8080/",
          "height": 34
        },
        "outputId": "523cd9fa-ed87-4669-9b65-d95f398466e4"
      },
      "source": [
        "image_labels[:5]"
      ],
      "execution_count": 11,
      "outputs": [
        {
          "output_type": "execute_result",
          "data": {
            "text/plain": [
              "[0, 0, 0, 0, 0]"
            ]
          },
          "metadata": {
            "tags": []
          },
          "execution_count": 11
        }
      ]
    },
    {
      "cell_type": "code",
      "metadata": {
        "colab_type": "code",
        "id": "_tWM-JWIEPAw",
        "colab": {}
      },
      "source": [
        "combined = list(zip(image_data,image_labels))\n",
        "random.shuffle(combined)\n",
        "image_data[:],image_labels[:] = zip(*combined)"
      ],
      "execution_count": 12,
      "outputs": []
    },
    {
      "cell_type": "code",
      "metadata": {
        "colab_type": "code",
        "id": "Cw3s0SxIEPAz",
        "colab": {
          "base_uri": "https://localhost:8080/",
          "height": 34
        },
        "outputId": "36d3ffbc-735f-48d7-c852-b1da6f026af7"
      },
      "source": [
        "print(image_labels[:15])"
      ],
      "execution_count": 13,
      "outputs": [
        {
          "output_type": "stream",
          "text": [
            "[6, 8, 9, 9, 7, 3, 7, 5, 1, 9, 7, 7, 2, 4, 5]\n"
          ],
          "name": "stdout"
        }
      ]
    },
    {
      "cell_type": "code",
      "metadata": {
        "colab_type": "code",
        "id": "EZGfUYwdEPA4",
        "colab": {}
      },
      "source": [
        "X_train = np.array(image_data)\n",
        "y_train = np_utils.to_categorical(np.array(image_labels))"
      ],
      "execution_count": 14,
      "outputs": []
    },
    {
      "cell_type": "code",
      "metadata": {
        "colab_type": "code",
        "id": "NzbRC_q6EPA8",
        "colab": {
          "base_uri": "https://localhost:8080/",
          "height": 34
        },
        "outputId": "586e822b-f1cd-40cb-8391-dcc1254ea26c"
      },
      "source": [
        "print(X_train.shape,y_train.shape)"
      ],
      "execution_count": 15,
      "outputs": [
        {
          "output_type": "stream",
          "text": [
            "(1645, 224, 224, 3) (1645, 10)\n"
          ],
          "name": "stdout"
        }
      ]
    },
    {
      "cell_type": "code",
      "metadata": {
        "colab_type": "code",
        "id": "YPOXjPlVEPA_",
        "colab": {
          "base_uri": "https://localhost:8080/",
          "height": 71
        },
        "outputId": "bab7f0b3-4349-4bde-cdcc-e0238653c46b"
      },
      "source": [
        "base_model = MobileNetV2(include_top=False,weights='imagenet',input_shape=(224,224,3))"
      ],
      "execution_count": 16,
      "outputs": [
        {
          "output_type": "stream",
          "text": [
            "Downloading data from https://github.com/JonathanCMitchell/mobilenet_v2_keras/releases/download/v1.1/mobilenet_v2_weights_tf_dim_ordering_tf_kernels_1.0_224_no_top.h5\n",
            "9412608/9406464 [==============================] - 1s 0us/step\n"
          ],
          "name": "stdout"
        }
      ]
    },
    {
      "cell_type": "code",
      "metadata": {
        "colab_type": "code",
        "id": "RlthOwmwEPBD",
        "colab": {}
      },
      "source": [
        "# base_model.summary()"
      ],
      "execution_count": 17,
      "outputs": []
    },
    {
      "cell_type": "code",
      "metadata": {
        "colab_type": "code",
        "id": "eNNEBJC7EPBH",
        "colab": {}
      },
      "source": [
        "gap = GlobalAveragePooling2D()(base_model.output)\n",
        "fc1 = Dense(256,activation='relu')(gap)\n",
        "d1 = Dropout(0.5)(fc1)\n",
        "fc2 = Dense(10,activation='softmax')(d1)\n"
      ],
      "execution_count": 18,
      "outputs": []
    },
    {
      "cell_type": "code",
      "metadata": {
        "colab_type": "code",
        "id": "F--65CXrEPBK",
        "colab": {}
      },
      "source": [
        "model = Model(inputs = base_model.input,outputs = fc2)"
      ],
      "execution_count": 19,
      "outputs": []
    },
    {
      "cell_type": "code",
      "metadata": {
        "colab_type": "code",
        "id": "MVPwBmJ9EPBN",
        "colab": {}
      },
      "source": [
        "# model.summary()"
      ],
      "execution_count": 20,
      "outputs": []
    },
    {
      "cell_type": "code",
      "metadata": {
        "colab_type": "code",
        "id": "ExR7TASqEPBR",
        "colab": {}
      },
      "source": [
        "adam = Adam(learning_rate=0.00003)\n",
        "model.compile(optimizer=adam,loss='categorical_crossentropy',metrics = ['accuracy'])"
      ],
      "execution_count": 21,
      "outputs": []
    },
    {
      "cell_type": "code",
      "metadata": {
        "colab_type": "code",
        "id": "dAeMjyLgEPBi",
        "colab": {}
      },
      "source": [
        "# model.summary()"
      ],
      "execution_count": 22,
      "outputs": []
    },
    {
      "cell_type": "code",
      "metadata": {
        "colab_type": "code",
        "id": "EVWC3kKrEPBn",
        "colab": {
          "base_uri": "https://localhost:8080/",
          "height": 544
        },
        "outputId": "90a48274-5ab7-42c5-c778-60177d2a903b"
      },
      "source": [
        "hist = model.fit(X_train,y_train,batch_size=16,shuffle=True,epochs=15,validation_split=0.20)"
      ],
      "execution_count": 23,
      "outputs": [
        {
          "output_type": "stream",
          "text": [
            "Train on 1316 samples, validate on 329 samples\n",
            "Epoch 1/15\n",
            "1316/1316 [==============================] - 32s 24ms/step - loss: 2.1386 - accuracy: 0.2796 - val_loss: 1.7884 - val_accuracy: 0.3951\n",
            "Epoch 2/15\n",
            "1316/1316 [==============================] - 14s 10ms/step - loss: 1.2949 - accuracy: 0.6011 - val_loss: 1.2970 - val_accuracy: 0.6261\n",
            "Epoch 3/15\n",
            "1316/1316 [==============================] - 14s 10ms/step - loss: 0.8351 - accuracy: 0.7584 - val_loss: 0.9681 - val_accuracy: 0.7082\n",
            "Epoch 4/15\n",
            "1316/1316 [==============================] - 14s 10ms/step - loss: 0.6234 - accuracy: 0.8191 - val_loss: 0.7880 - val_accuracy: 0.7477\n",
            "Epoch 5/15\n",
            "1316/1316 [==============================] - 14s 10ms/step - loss: 0.4237 - accuracy: 0.8807 - val_loss: 0.6369 - val_accuracy: 0.7872\n",
            "Epoch 6/15\n",
            "1316/1316 [==============================] - 14s 10ms/step - loss: 0.3354 - accuracy: 0.9179 - val_loss: 0.5552 - val_accuracy: 0.8176\n",
            "Epoch 7/15\n",
            "1316/1316 [==============================] - 14s 10ms/step - loss: 0.2608 - accuracy: 0.9271 - val_loss: 0.4442 - val_accuracy: 0.8541\n",
            "Epoch 8/15\n",
            "1316/1316 [==============================] - 14s 10ms/step - loss: 0.2165 - accuracy: 0.9407 - val_loss: 0.3846 - val_accuracy: 0.8723\n",
            "Epoch 9/15\n",
            "1316/1316 [==============================] - 14s 10ms/step - loss: 0.1787 - accuracy: 0.9544 - val_loss: 0.3675 - val_accuracy: 0.8784\n",
            "Epoch 10/15\n",
            "1316/1316 [==============================] - 14s 10ms/step - loss: 0.1504 - accuracy: 0.9650 - val_loss: 0.3318 - val_accuracy: 0.8936\n",
            "Epoch 11/15\n",
            "1316/1316 [==============================] - 14s 10ms/step - loss: 0.1146 - accuracy: 0.9780 - val_loss: 0.3151 - val_accuracy: 0.9027\n",
            "Epoch 12/15\n",
            "1316/1316 [==============================] - 14s 10ms/step - loss: 0.0874 - accuracy: 0.9780 - val_loss: 0.2606 - val_accuracy: 0.9210\n",
            "Epoch 13/15\n",
            "1316/1316 [==============================] - 14s 10ms/step - loss: 0.0981 - accuracy: 0.9772 - val_loss: 0.2309 - val_accuracy: 0.9271\n",
            "Epoch 14/15\n",
            "1316/1316 [==============================] - 14s 10ms/step - loss: 0.0729 - accuracy: 0.9848 - val_loss: 0.2154 - val_accuracy: 0.9301\n",
            "Epoch 15/15\n",
            "1316/1316 [==============================] - 14s 10ms/step - loss: 0.0775 - accuracy: 0.9810 - val_loss: 0.2147 - val_accuracy: 0.9331\n"
          ],
          "name": "stdout"
        }
      ]
    },
    {
      "cell_type": "code",
      "metadata": {
        "colab_type": "code",
        "id": "YDms_TlTEPBq",
        "colab": {}
      },
      "source": [
        "h = hist.history"
      ],
      "execution_count": 24,
      "outputs": []
    },
    {
      "cell_type": "code",
      "metadata": {
        "colab_type": "code",
        "id": "UnOtfJaLEPBv",
        "colab": {
          "base_uri": "https://localhost:8080/",
          "height": 361
        },
        "outputId": "365d6f75-981e-4f41-e509-771975be8fb0"
      },
      "source": [
        "plt.style.use('seaborn')\n",
        "plt.plot(h['loss'],label='Training Loss')\n",
        "plt.plot(h['val_loss'],label='Validation Loss')\n",
        "plt.xlabel(\"Epochs\")\n",
        "plt.ylabel(\"Loss\")\n",
        "plt.legend()\n",
        "plt.show()"
      ],
      "execution_count": 25,
      "outputs": [
        {
          "output_type": "display_data",
          "data": {
            "image/png": "[encoded data removed]",
            "text/plain": [
              "<Figure size 576x396 with 1 Axes>"
            ]
          },
          "metadata": {
            "tags": []
          }
        }
      ]
    },
    {
      "cell_type": "code",
      "metadata": {
        "colab_type": "code",
        "id": "SGnk8vfhEPB0",
        "colab": {
          "base_uri": "https://localhost:8080/",
          "height": 361
        },
        "outputId": "d339adb7-065d-41d3-a687-3ccf305e93cd"
      },
      "source": [
        "plt.style.use('seaborn')\n",
        "plt.plot(h['accuracy'],label='Training accuracy')\n",
        "plt.plot(h['val_accuracy'],label='Validation acc')\n",
        "plt.xlabel(\"Epochs\")\n",
        "plt.ylabel(\"Accuracy\")\n",
        "plt.legend()\n",
        "plt.show()"
      ],
      "execution_count": 26,
      "outputs": [
        {
          "output_type": "display_data",
          "data": {
            "image/png": "[encoded data removed]",
            "text/plain": [
              "<Figure size 576x396 with 1 Axes>"
            ]
          },
          "metadata": {
            "tags": []
          }
        }
      ]
    },
    {
      "cell_type": "code",
      "metadata": {
        "colab_type": "code",
        "id": "wjhS9ueaEPB4",
        "colab": {}
      },
      "source": [
        "test_path = '/content/drive/My Drive/Colab Notebooks/Test/images'\n",
        "sample_sub_path = '/content/drive/My Drive/Colab Notebooks/Test/sample_submission.csv'"
      ],
      "execution_count": 27,
      "outputs": []
    },
    {
      "cell_type": "code",
      "metadata": {
        "id": "-0rqHS4_cxyJ",
        "colab_type": "code",
        "colab": {}
      },
      "source": [
        "import pandas as pd"
      ],
      "execution_count": 28,
      "outputs": []
    },
    {
      "cell_type": "code",
      "metadata": {
        "id": "W_c2lrf7c_EM",
        "colab_type": "code",
        "colab": {}
      },
      "source": [
        "sample_sub = pd.read_csv(sample_sub_path)"
      ],
      "execution_count": 29,
      "outputs": []
    },
    {
      "cell_type": "code",
      "metadata": {
        "id": "Nqt1w4H6iKSR",
        "colab_type": "code",
        "colab": {}
      },
      "source": [
        "test_image_data = []"
      ],
      "execution_count": 30,
      "outputs": []
    },
    {
      "cell_type": "code",
      "metadata": {
        "id": "eJJDrj_adFLE",
        "colab_type": "code",
        "colab": {}
      },
      "source": [
        "for img_path in os.listdir(test_path):\n",
        "  img_path = os.path.join(test_path,img_path)\n",
        "  img = image.load_img(img_path,target_size=((224,224)))\n",
        "  img_arr = image.img_to_array(img)/255.0\n",
        "  test_image_data.append(img_arr)"
      ],
      "execution_count": 31,
      "outputs": []
    },
    {
      "cell_type": "code",
      "metadata": {
        "id": "VGWElwsaghDC",
        "colab_type": "code",
        "colab": {}
      },
      "source": [
        "X_test = np.array(test_image_data)"
      ],
      "execution_count": 32,
      "outputs": []
    },
    {
      "cell_type": "code",
      "metadata": {
        "id": "bE9J40d6ijrQ",
        "colab_type": "code",
        "colab": {}
      },
      "source": [
        "y_pred = model.predict(X_test)"
      ],
      "execution_count": 33,
      "outputs": []
    },
    {
      "cell_type": "code",
      "metadata": {
        "id": "EZErRHkHirny",
        "colab_type": "code",
        "colab": {
          "base_uri": "https://localhost:8080/",
          "height": 68
        },
        "outputId": "e521419e-8c5e-483c-fae1-9195a46121ae"
      },
      "source": [
        "y_pred[0]"
      ],
      "execution_count": 34,
      "outputs": [
        {
          "output_type": "execute_result",
          "data": {
            "text/plain": [
              "array([9.9193585e-01, 1.0409444e-04, 8.6552300e-04, 9.8421134e-04,\n",
              "       5.9412956e-05, 1.7969412e-04, 2.2966060e-05, 8.7197404e-05,\n",
              "       5.6760814e-03, 8.4970103e-05], dtype=float32)"
            ]
          },
          "metadata": {
            "tags": []
          },
          "execution_count": 34
        }
      ]
    },
    {
      "cell_type": "code",
      "metadata": {
        "id": "iv7k6kvjkMJ7",
        "colab_type": "code",
        "colab": {}
      },
      "source": [
        "Y_ = np.argmax(y_pred,axis = 1)"
      ],
      "execution_count": 35,
      "outputs": []
    },
    {
      "cell_type": "code",
      "metadata": {
        "id": "CI0oAo6Rv5Yi",
        "colab_type": "code",
        "colab": {}
      },
      "source": [
        "import pandas as pd"
      ],
      "execution_count": 39,
      "outputs": []
    },
    {
      "cell_type": "code",
      "metadata": {
        "id": "PeOEkgqKwWvT",
        "colab_type": "code",
        "colab": {}
      },
      "source": [
        "test_labels = []\n",
        "for test_img in os.listdir(test_path):\n",
        "    test_labels.append(test_img)"
      ],
      "execution_count": 40,
      "outputs": []
    },
    {
      "cell_type": "code",
      "metadata": {
        "id": "_7kCM6oKwgp8",
        "colab_type": "code",
        "colab": {
          "base_uri": "https://localhost:8080/",
          "height": 34
        },
        "outputId": "6c2372ba-0d3a-45a4-9121-652e39e5d83b"
      },
      "source": [
        "len(test_labels)"
      ],
      "execution_count": 42,
      "outputs": [
        {
          "output_type": "execute_result",
          "data": {
            "text/plain": [
              "187"
            ]
          },
          "metadata": {
            "tags": []
          },
          "execution_count": 42
        }
      ]
    },
    {
      "cell_type": "code",
      "metadata": {
        "id": "Qyd5bwyiv6vd",
        "colab_type": "code",
        "colab": {}
      },
      "source": [
        "submission = pd.DataFrame(data = test_labels,columns=['Name'])"
      ],
      "execution_count": 58,
      "outputs": []
    },
    {
      "cell_type": "code",
      "metadata": {
        "id": "fi3fsZCdws8M",
        "colab_type": "code",
        "colab": {}
      },
      "source": [
        "submission['Class'] = Y_"
      ],
      "execution_count": 59,
      "outputs": []
    },
    {
      "cell_type": "code",
      "metadata": {
        "id": "0XTxevDLxSax",
        "colab_type": "code",
        "colab": {}
      },
      "source": [
        "submission.to_csv('my_submission.csv',index=False)"
      ],
      "execution_count": 60,
      "outputs": []
    },
    {
      "cell_type": "code",
      "metadata": {
        "id": "0WUHWFQYxZxv",
        "colab_type": "code",
        "colab": {}
      },
      "source": [
        "test_labels = list(sample_sub['Name'])"
      ],
      "execution_count": 66,
      "outputs": []
    },
    {
      "cell_type": "code",
      "metadata": {
        "id": "6isw_tGXyFwX",
        "colab_type": "code",
        "colab": {}
      },
      "source": [
        "test_image_data = []\n",
        "for img in test_labels:\n",
        "  img_path = os.path.join(test_path,img)\n",
        "  img = image.load_img(img_path,target_size=((224,224)))\n",
        "  img_arr = image.img_to_array(img)/255.0\n",
        "  test_image_data.append(img_arr)"
      ],
      "execution_count": 68,
      "outputs": []
    },
    {
      "cell_type": "code",
      "metadata": {
        "id": "VCvs9ZlP2NeU",
        "colab_type": "code",
        "colab": {}
      },
      "source": [
        "X_test = np.array(test_image_data)"
      ],
      "execution_count": 69,
      "outputs": []
    },
    {
      "cell_type": "code",
      "metadata": {
        "id": "6jZXuiBn42F9",
        "colab_type": "code",
        "colab": {
          "base_uri": "https://localhost:8080/",
          "height": 34
        },
        "outputId": "d05bd216-52c9-40f7-a639-62c5dce36389"
      },
      "source": [
        "len(X_test)"
      ],
      "execution_count": 70,
      "outputs": [
        {
          "output_type": "execute_result",
          "data": {
            "text/plain": [
              "187"
            ]
          },
          "metadata": {
            "tags": []
          },
          "execution_count": 70
        }
      ]
    },
    {
      "cell_type": "code",
      "metadata": {
        "id": "Xdve4R_a45LJ",
        "colab_type": "code",
        "colab": {}
      },
      "source": [
        "y_pred = model.predict(X_test)"
      ],
      "execution_count": 71,
      "outputs": []
    },
    {
      "cell_type": "code",
      "metadata": {
        "id": "KQHUDx2_49zs",
        "colab_type": "code",
        "colab": {
          "base_uri": "https://localhost:8080/",
          "height": 34
        },
        "outputId": "856db98d-f18d-4f49-dc67-ffb4802de8fb"
      },
      "source": [
        "len(y_pred)"
      ],
      "execution_count": 72,
      "outputs": [
        {
          "output_type": "execute_result",
          "data": {
            "text/plain": [
              "187"
            ]
          },
          "metadata": {
            "tags": []
          },
          "execution_count": 72
        }
      ]
    },
    {
      "cell_type": "code",
      "metadata": {
        "id": "yoroodvX5F-x",
        "colab_type": "code",
        "colab": {}
      },
      "source": [
        "Y_ = np.argmax(y_pred,axis = 1)"
      ],
      "execution_count": 73,
      "outputs": []
    },
    {
      "cell_type": "code",
      "metadata": {
        "id": "U-XkTnHb5L0E",
        "colab_type": "code",
        "colab": {
          "base_uri": "https://localhost:8080/",
          "height": 170
        },
        "outputId": "622b328f-a4f8-4369-f1cb-7ca1ca0d5c7e"
      },
      "source": [
        "Y_"
      ],
      "execution_count": 74,
      "outputs": [
        {
          "output_type": "execute_result",
          "data": {
            "text/plain": [
              "array([1, 8, 9, 6, 6, 2, 6, 6, 9, 9, 1, 9, 3, 7, 6, 4, 2, 8, 8, 6, 2, 9,\n",
              "       9, 7, 1, 0, 0, 7, 2, 7, 8, 6, 9, 8, 8, 7, 8, 2, 0, 8, 1, 7, 0, 8,\n",
              "       5, 6, 1, 2, 2, 5, 2, 3, 6, 7, 1, 9, 6, 6, 1, 1, 5, 7, 0, 2, 9, 0,\n",
              "       2, 6, 8, 7, 8, 3, 4, 6, 4, 6, 2, 9, 0, 2, 4, 6, 3, 1, 2, 9, 2, 9,\n",
              "       6, 1, 7, 5, 1, 6, 1, 6, 5, 6, 6, 2, 6, 9, 9, 6, 1, 7, 2, 2, 1, 9,\n",
              "       6, 1, 1, 3, 9, 9, 1, 9, 9, 2, 9, 5, 2, 9, 4, 1, 0, 9, 1, 8, 7, 2,\n",
              "       7, 9, 9, 4, 2, 6, 4, 1, 1, 7, 2, 2, 3, 6, 4, 4, 9, 1, 2, 9, 4, 1,\n",
              "       1, 2, 6, 1, 0, 2, 1, 4, 9, 3, 2, 6, 1, 7, 9, 1, 2, 9, 7, 9, 6, 0,\n",
              "       2, 1, 3, 4, 9, 3, 8, 3, 5, 4, 6])"
            ]
          },
          "metadata": {
            "tags": []
          },
          "execution_count": 74
        }
      ]
    },
    {
      "cell_type": "code",
      "metadata": {
        "id": "qoD-tZ9n5Mrv",
        "colab_type": "code",
        "colab": {}
      },
      "source": [
        "submission = pd.DataFrame(test_labels,columns = ['Name'])"
      ],
      "execution_count": 78,
      "outputs": []
    },
    {
      "cell_type": "code",
      "metadata": {
        "id": "fUquQbFo5UBD",
        "colab_type": "code",
        "colab": {}
      },
      "source": [
        "submission['Class'] = Y_"
      ],
      "execution_count": 79,
      "outputs": []
    },
    {
      "cell_type": "code",
      "metadata": {
        "id": "X4Q3kC5P5wA2",
        "colab_type": "code",
        "colab": {
          "base_uri": "https://localhost:8080/",
          "height": 419
        },
        "outputId": "c1131b7c-0a9d-4c17-b694-eac5524432b9"
      },
      "source": [
        "submission"
      ],
      "execution_count": 80,
      "outputs": [
        {
          "output_type": "execute_result",
          "data": {
            "text/html": [
              "<div>\n",
              "<style scoped>\n",
              "    .dataframe tbody tr th:only-of-type {\n",
              "        vertical-align: middle;\n",
              "    }\n",
              "\n",
              "    .dataframe tbody tr th {\n",
              "        vertical-align: top;\n",
              "    }\n",
              "\n",
              "    .dataframe thead th {\n",
              "        text-align: right;\n",
              "    }\n",
              "</style>\n",
              "<table border=\"1\" class=\"dataframe\">\n",
              "  <thead>\n",
              "    <tr style=\"text-align: right;\">\n",
              "      <th></th>\n",
              "      <th>Name</th>\n",
              "      <th>Class</th>\n",
              "    </tr>\n",
              "  </thead>\n",
              "  <tbody>\n",
              "    <tr>\n",
              "      <th>0</th>\n",
              "      <td>test_32.jpg</td>\n",
              "      <td>1</td>\n",
              "    </tr>\n",
              "    <tr>\n",
              "      <th>1</th>\n",
              "      <td>test_147.jpg</td>\n",
              "      <td>8</td>\n",
              "    </tr>\n",
              "    <tr>\n",
              "      <th>2</th>\n",
              "      <td>test_171.jpg</td>\n",
              "      <td>9</td>\n",
              "    </tr>\n",
              "    <tr>\n",
              "      <th>3</th>\n",
              "      <td>test_114.jpg</td>\n",
              "      <td>6</td>\n",
              "    </tr>\n",
              "    <tr>\n",
              "      <th>4</th>\n",
              "      <td>test_162.jpg</td>\n",
              "      <td>6</td>\n",
              "    </tr>\n",
              "    <tr>\n",
              "      <th>...</th>\n",
              "      <td>...</td>\n",
              "      <td>...</td>\n",
              "    </tr>\n",
              "    <tr>\n",
              "      <th>182</th>\n",
              "      <td>test_150.jpg</td>\n",
              "      <td>8</td>\n",
              "    </tr>\n",
              "    <tr>\n",
              "      <th>183</th>\n",
              "      <td>test_72.jpg</td>\n",
              "      <td>3</td>\n",
              "    </tr>\n",
              "    <tr>\n",
              "      <th>184</th>\n",
              "      <td>test_95.jpg</td>\n",
              "      <td>5</td>\n",
              "    </tr>\n",
              "    <tr>\n",
              "      <th>185</th>\n",
              "      <td>test_88.jpg</td>\n",
              "      <td>4</td>\n",
              "    </tr>\n",
              "    <tr>\n",
              "      <th>186</th>\n",
              "      <td>test_110.jpg</td>\n",
              "      <td>6</td>\n",
              "    </tr>\n",
              "  </tbody>\n",
              "</table>\n",
              "<p>187 rows × 2 columns</p>\n",
              "</div>"
            ],
            "text/plain": [
              "             Name  Class\n",
              "0     test_32.jpg      1\n",
              "1    test_147.jpg      8\n",
              "2    test_171.jpg      9\n",
              "3    test_114.jpg      6\n",
              "4    test_162.jpg      6\n",
              "..            ...    ...\n",
              "182  test_150.jpg      8\n",
              "183   test_72.jpg      3\n",
              "184   test_95.jpg      5\n",
              "185   test_88.jpg      4\n",
              "186  test_110.jpg      6\n",
              "\n",
              "[187 rows x 2 columns]"
            ]
          },
          "metadata": {
            "tags": []
          },
          "execution_count": 80
        }
      ]
    },
    {
      "cell_type": "code",
      "metadata": {
        "id": "azbvrNPf5x5u",
        "colab_type": "code",
        "colab": {}
      },
      "source": [
        "submission.to_csv('my_sub.csv',index = False)"
      ],
      "execution_count": 81,
      "outputs": []
    },
    {
      "cell_type": "code",
      "metadata": {
        "id": "OfzjWg1_55qr",
        "colab_type": "code",
        "colab": {}
      },
      "source": [
        ""
      ],
      "execution_count": null,
      "outputs": []
    }
  ]
}