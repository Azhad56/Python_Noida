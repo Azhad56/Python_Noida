{
 "cells": [
  {
   "cell_type": "code",
   "execution_count": 12,
   "metadata": {
    "colab": {},
    "colab_type": "code",
    "id": "8VxbFDn9EPAH"
   },
   "outputs": [],
   "source": [
    "from keras.applications.mobilenet_v2 import MobileNetV2\n",
    "from keras.layers import *\n",
    "from keras.preprocessing import image\n",
    "from keras.optimizers import Adam\n",
    "from keras.models import Model\n",
    "from keras.utils import np_utils\n",
    "import os,shutil\n",
    "import random\n",
    "import numpy as np\n",
    "import matplotlib.pyplot as plt\n",
    "from svglib.svglib import svg2rlg\n",
    "from reportlab.graphics import renderPDF, renderPM"
   ]
  },
  {
   "cell_type": "code",
   "execution_count": null,
   "metadata": {
    "colab": {},
    "colab_type": "code",
    "id": "-M5UnAE-FY4l"
   },
   "outputs": [],
   "source": []
  },
  {
   "cell_type": "code",
   "execution_count": 13,
   "metadata": {
    "colab": {},
    "colab_type": "code",
    "id": "Wfpk5y2WEPAN"
   },
   "outputs": [],
   "source": [
    "data_path = 'Train'"
   ]
  },
  {
   "cell_type": "code",
   "execution_count": 14,
   "metadata": {
    "colab": {},
    "colab_type": "code",
    "id": "Vf_hEa26EPAU"
   },
   "outputs": [],
   "source": [
    "folders = os.listdir(data_path)"
   ]
  },
  {
   "cell_type": "code",
   "execution_count": 15,
   "metadata": {
    "colab": {
     "base_uri": "https://localhost:8080/",
     "height": 35
    },
    "colab_type": "code",
    "id": "uGQyL6S2EPAY",
    "outputId": "fb5dfb21-505d-4133-b90f-1d85a08bd564"
   },
   "outputs": [
    {
     "name": "stdout",
     "output_type": "stream",
     "text": [
      "['Pikachu', 'Meowth', 'Fearow', 'Dratini', 'Squirtle', 'Aerodactyl', 'Spearow', 'Psyduck', 'Bulbasaur', 'Charmander']\n"
     ]
    }
   ],
   "source": [
    "print(folders)"
   ]
  },
  {
   "cell_type": "code",
   "execution_count": 11,
   "metadata": {},
   "outputs": [
    {
     "name": "stdout",
     "output_type": "stream",
     "text": [
      "Train/Fearow/8f2d7986ab76482fb76cac6a91b66de4.svg\n",
      "Train/Fearow/8f2d7986ab76482fb76cac6a91b66de4.svg has been deleted\n",
      "Train/Fearow/2c8d5221e92444f2b9477350e405bc54.svg\n",
      "Train/Fearow/2c8d5221e92444f2b9477350e405bc54.svg has been deleted\n"
     ]
    }
   ],
   "source": [
    "# for f in folders:\n",
    "#     sub_path = os.path.join(data_path,f)\n",
    "#     for img in os.listdir(sub_path):\n",
    "#         img_path = os.path.join(sub_path,img)\n",
    "#         if img_path[-3:]=='svg':\n",
    "#             print(img_path)\n",
    "#             drawing = svg2rlg(img_path)\n",
    "#             renderPM.drawToFile(drawing, \"file.png\", fmt=\"PNG\")\n",
    "#             os.remove(img_path)\n",
    "#             print(img_path,\"has been deleted\")"
   ]
  },
  {
   "cell_type": "code",
   "execution_count": 24,
   "metadata": {
    "colab": {},
    "colab_type": "code",
    "id": "hYlry5HoEPAe"
   },
   "outputs": [],
   "source": [
    "image_data = []\n",
    "image_labels = []\n",
    "image_dict = {\n",
    "    \"Aerodactyl\":0,  \n",
    "    \"Bulbasaur\":1,  \n",
    "    \"Charmander\":2, \n",
    "    \"Dratini\":3,  \n",
    "    \"Fearow\":4,  \n",
    "    \"Meowth\":5,  \n",
    "    \"Pikachu\":6,  \n",
    "    \"Psyduck\":7,  \n",
    "    \"Spearow\":8,  \n",
    "    \"Squirtle\":9 \n",
    "}"
   ]
  },
  {
   "cell_type": "code",
   "execution_count": null,
   "metadata": {},
   "outputs": [],
   "source": []
  },
  {
   "cell_type": "code",
   "execution_count": 25,
   "metadata": {
    "colab": {},
    "colab_type": "code",
    "id": "IjBae_uCEPAi"
   },
   "outputs": [
    {
     "name": "stdout",
     "output_type": "stream",
     "text": [
      "Train/Pikachu is in process\n",
      "Train/Pikachu HAS BEEN PROCESSED\n",
      "Train/Meowth is in process\n",
      "Train/Meowth HAS BEEN PROCESSED\n",
      "Train/Fearow is in process\n",
      "Train/Fearow HAS BEEN PROCESSED\n",
      "Train/Dratini is in process\n",
      "Train/Dratini HAS BEEN PROCESSED\n",
      "Train/Squirtle is in process\n",
      "Train/Squirtle HAS BEEN PROCESSED\n",
      "Train/Aerodactyl is in process\n",
      "Train/Aerodactyl HAS BEEN PROCESSED\n",
      "Train/Spearow is in process\n",
      "Train/Spearow HAS BEEN PROCESSED\n",
      "Train/Psyduck is in process\n",
      "Train/Psyduck HAS BEEN PROCESSED\n",
      "Train/Bulbasaur is in process\n",
      "Train/Bulbasaur HAS BEEN PROCESSED\n",
      "Train/Charmander is in process\n",
      "Train/Charmander HAS BEEN PROCESSED\n"
     ]
    }
   ],
   "source": [
    "for f in folders:\n",
    "    sub_path = os.path.join(data_path,f)\n",
    "    print(sub_path,\"is in process\")\n",
    "    for img in os.listdir(sub_path):\n",
    "        img_path = os.path.join(sub_path,img)\n",
    "        img = image.load_img(img_path,target_size=((224,224)))\n",
    "        img_arr = image.img_to_array(img)/255.0\n",
    "        image_data.append(img_arr)\n",
    "        image_labels.append(image_dict[f])\n",
    "    print(sub_path,\"HAS BEEN PROCESSED\")"
   ]
  },
  {
   "cell_type": "code",
   "execution_count": 26,
   "metadata": {
    "colab": {
     "base_uri": "https://localhost:8080/",
     "height": 35
    },
    "colab_type": "code",
    "id": "n7xfvFnPEPAm",
    "outputId": "cb76a301-fa87-42f4-bed2-47ea77d8a83c"
   },
   "outputs": [
    {
     "name": "stdout",
     "output_type": "stream",
     "text": [
      "1645 1645\n"
     ]
    }
   ],
   "source": [
    "print(len(image_data),len(image_labels))"
   ]
  },
  {
   "cell_type": "code",
   "execution_count": 28,
   "metadata": {},
   "outputs": [
    {
     "name": "stdout",
     "output_type": "stream",
     "text": [
      "Pikachu 268\n",
      "Meowth 63\n",
      "Fearow 109\n",
      "Dratini 98\n",
      "Squirtle 248\n",
      "Aerodactyl 80\n",
      "Spearow 117\n",
      "Psyduck 143\n",
      "Bulbasaur 255\n",
      "Charmander 264\n",
      "1645\n"
     ]
    }
   ],
   "source": [
    "total = 0\n",
    "for f in folders:\n",
    "    path = os.path.join(data_path,f)\n",
    "    print(f +\" \"+ str(len(os.listdir(path))))\n",
    "    total += len(os.listdir(path))\n",
    "print(total)"
   ]
  },
  {
   "cell_type": "code",
   "execution_count": 29,
   "metadata": {
    "colab": {
     "base_uri": "https://localhost:8080/",
     "height": 35
    },
    "colab_type": "code",
    "id": "ZBsqZOlLEPAr",
    "outputId": "a90c7dd3-36ea-4486-a6c2-ddbbfa81cd06"
   },
   "outputs": [
    {
     "data": {
      "text/plain": [
       "[6, 6, 6, 6, 6]"
      ]
     },
     "execution_count": 29,
     "metadata": {},
     "output_type": "execute_result"
    }
   ],
   "source": [
    "image_labels[:5]"
   ]
  },
  {
   "cell_type": "code",
   "execution_count": 30,
   "metadata": {
    "colab": {},
    "colab_type": "code",
    "id": "_tWM-JWIEPAw"
   },
   "outputs": [],
   "source": [
    "combined = list(zip(image_data,image_labels))\n",
    "random.shuffle(combined)\n",
    "image_data[:],image_labels[:] = zip(*combined)"
   ]
  },
  {
   "cell_type": "code",
   "execution_count": 31,
   "metadata": {
    "colab": {
     "base_uri": "https://localhost:8080/",
     "height": 35
    },
    "colab_type": "code",
    "id": "Cw3s0SxIEPAz",
    "outputId": "68b68310-fedb-446e-f659-975f147320a3"
   },
   "outputs": [
    {
     "name": "stdout",
     "output_type": "stream",
     "text": [
      "[6, 6, 1, 1, 1, 0, 6, 5, 6, 3, 9, 5, 9, 4, 9]\n"
     ]
    }
   ],
   "source": [
    "print(image_labels[:15])"
   ]
  },
  {
   "cell_type": "code",
   "execution_count": 32,
   "metadata": {
    "colab": {},
    "colab_type": "code",
    "id": "EZGfUYwdEPA4"
   },
   "outputs": [],
   "source": [
    "X_train = np.array(image_data)\n",
    "y_train = np_utils.to_categorical(np.array(image_labels))"
   ]
  },
  {
   "cell_type": "code",
   "execution_count": 33,
   "metadata": {
    "colab": {
     "base_uri": "https://localhost:8080/",
     "height": 35
    },
    "colab_type": "code",
    "id": "NzbRC_q6EPA8",
    "outputId": "b80d0582-0646-468a-a453-14dd5cd89553"
   },
   "outputs": [
    {
     "name": "stdout",
     "output_type": "stream",
     "text": [
      "(1645, 224, 224, 3) (1645, 10)\n"
     ]
    }
   ],
   "source": [
    "print(X_train.shape,y_train.shape)"
   ]
  },
  {
   "cell_type": "code",
   "execution_count": null,
   "metadata": {
    "colab": {
     "base_uri": "https://localhost:8080/",
     "height": 107
    },
    "colab_type": "code",
    "id": "YPOXjPlVEPA_",
    "outputId": "e6736cb3-3849-4597-e73d-4608f79c54db"
   },
   "outputs": [],
   "source": [
    "base_model = MobileNetV2(include_top=False,weights='imagenet',input_shape=(224,224,3))"
   ]
  },
  {
   "cell_type": "code",
   "execution_count": null,
   "metadata": {
    "colab": {
     "base_uri": "https://localhost:8080/",
     "height": 1000
    },
    "colab_type": "code",
    "id": "RlthOwmwEPBD",
    "outputId": "bca65f1c-c391-4d30-cc5c-a1ae33671d1b"
   },
   "outputs": [],
   "source": [
    "base_model.summary()"
   ]
  },
  {
   "cell_type": "code",
   "execution_count": null,
   "metadata": {
    "colab": {},
    "colab_type": "code",
    "id": "eNNEBJC7EPBH"
   },
   "outputs": [],
   "source": [
    "gap = GlobalAveragePooling2D()(base_model.output)\n",
    "fc1 = Dense(256,activation='relu')(gap)\n",
    "d1 = Dropout(0.5)(fc1)\n",
    "fc2 = Dense(4,activation='softmax')(d1)\n"
   ]
  },
  {
   "cell_type": "code",
   "execution_count": null,
   "metadata": {
    "colab": {},
    "colab_type": "code",
    "id": "F--65CXrEPBK"
   },
   "outputs": [],
   "source": [
    "model = Model(inputs = base_model.input,outputs = fc2)"
   ]
  },
  {
   "cell_type": "code",
   "execution_count": null,
   "metadata": {
    "colab": {
     "base_uri": "https://localhost:8080/",
     "height": 1000
    },
    "colab_type": "code",
    "id": "MVPwBmJ9EPBN",
    "outputId": "97c55c88-7bf1-4b53-9ec2-3c0699efa48c"
   },
   "outputs": [],
   "source": [
    "model.summary()"
   ]
  },
  {
   "cell_type": "code",
   "execution_count": null,
   "metadata": {
    "colab": {},
    "colab_type": "code",
    "id": "ExR7TASqEPBR"
   },
   "outputs": [],
   "source": [
    "adam = Adam(learning_rate=0.00003)\n",
    "model.compile(optimizer=adam,loss='categorical_crossentropy',metrics = ['accuracy'])"
   ]
  },
  {
   "cell_type": "code",
   "execution_count": null,
   "metadata": {
    "colab": {
     "base_uri": "https://localhost:8080/",
     "height": 1000
    },
    "colab_type": "code",
    "id": "8xuobeEIEPBX",
    "outputId": "290edc83-f18c-44e2-8d20-c408593c2100"
   },
   "outputs": [],
   "source": [
    "for ix in range(len(model.layers)):\n",
    "    print(ix,model.layers[ix])"
   ]
  },
  {
   "cell_type": "code",
   "execution_count": null,
   "metadata": {
    "colab": {},
    "colab_type": "code",
    "id": "GaJ0qOZBEPBb"
   },
   "outputs": [],
   "source": [
    "for ix in range(69):\n",
    "    model.layers[ix].trainable = False"
   ]
  },
  {
   "cell_type": "code",
   "execution_count": null,
   "metadata": {
    "colab": {},
    "colab_type": "code",
    "id": "xJnGJ4nvEPBe"
   },
   "outputs": [],
   "source": [
    "model.compile(optimizer=adam,loss='categorical_crossentropy',metrics = ['accuracy'])"
   ]
  },
  {
   "cell_type": "code",
   "execution_count": null,
   "metadata": {
    "colab": {
     "base_uri": "https://localhost:8080/",
     "height": 1000
    },
    "colab_type": "code",
    "id": "dAeMjyLgEPBi",
    "outputId": "90c32564-f276-4f15-b297-dfc5dcfb3189"
   },
   "outputs": [],
   "source": [
    "model.summary()"
   ]
  },
  {
   "cell_type": "code",
   "execution_count": null,
   "metadata": {
    "colab": {
     "base_uri": "https://localhost:8080/",
     "height": 263
    },
    "colab_type": "code",
    "id": "EVWC3kKrEPBn",
    "outputId": "14936fb5-c9d9-4a63-9521-ecea3f83f1c1"
   },
   "outputs": [],
   "source": [
    "hist = model.fit(X_train,y_train,batch_size=16,shuffle=True,epochs=6,validation_split=0.20)"
   ]
  },
  {
   "cell_type": "code",
   "execution_count": null,
   "metadata": {
    "colab": {},
    "colab_type": "code",
    "id": "YDms_TlTEPBq"
   },
   "outputs": [],
   "source": [
    "h = hist.history"
   ]
  },
  {
   "cell_type": "code",
   "execution_count": null,
   "metadata": {
    "colab": {
     "base_uri": "https://localhost:8080/",
     "height": 364
    },
    "colab_type": "code",
    "id": "UnOtfJaLEPBv",
    "outputId": "b4a73651-98e5-4a79-dc2e-83ef09137a36"
   },
   "outputs": [],
   "source": [
    "plt.style.use('seaborn')\n",
    "plt.plot(h['loss'],label='Training Loss')\n",
    "plt.plot(h['val_loss'],label='Validation Loss')\n",
    "plt.xlabel(\"Epochs\")\n",
    "plt.ylabel(\"Loss\")\n",
    "plt.legend()\n",
    "plt.show()"
   ]
  },
  {
   "cell_type": "code",
   "execution_count": null,
   "metadata": {
    "colab": {
     "base_uri": "https://localhost:8080/",
     "height": 361
    },
    "colab_type": "code",
    "id": "SGnk8vfhEPB0",
    "outputId": "563c8227-4494-404c-ff01-c9646ae047b6"
   },
   "outputs": [],
   "source": [
    "plt.style.use('seaborn')\n",
    "plt.plot(h['accuracy'],label='Training accuracy')\n",
    "plt.plot(h['val_accuracy'],label='Validation acc')\n",
    "plt.xlabel(\"Epochs\")\n",
    "plt.ylabel(\"Accuracy\")\n",
    "plt.legend()\n",
    "plt.show()"
   ]
  },
  {
   "cell_type": "code",
   "execution_count": null,
   "metadata": {
    "colab": {},
    "colab_type": "code",
    "id": "wjhS9ueaEPB4"
   },
   "outputs": [],
   "source": []
  }
 ],
 "metadata": {
  "accelerator": "GPU",
  "colab": {
   "name": "mobile_implementation.ipynb",
   "provenance": []
  },
  "kernelspec": {
   "display_name": "Python 3",
   "language": "python",
   "name": "python3"
  },
  "language_info": {
   "codemirror_mode": {
    "name": "ipython",
    "version": 3
   },
   "file_extension": ".py",
   "mimetype": "text/x-python",
   "name": "python",
   "nbconvert_exporter": "python",
   "pygments_lexer": "ipython3",
   "version": "3.7.6"
  }
 },
 "nbformat": 4,
 "nbformat_minor": 1
}
