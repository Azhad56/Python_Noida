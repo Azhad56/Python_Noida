{
 "cells": [
  {
   "cell_type": "code",
   "execution_count": 1,
   "metadata": {},
   "outputs": [],
   "source": [
    "import numpy as np"
   ]
  },
  {
   "cell_type": "code",
   "execution_count": 2,
   "metadata": {},
   "outputs": [],
   "source": [
    "grid = [[3, 0, 6, 5, 0, 8, 4, 0, 0],\n",
    "        [5, 2, 0, 0, 0, 0, 0, 0, 0],\n",
    "        [0, 8, 7, 0, 0, 0, 0, 3, 1],\n",
    "        [0, 0, 3, 0, 1, 0, 0, 8, 0],\n",
    "        [9, 0, 0, 8, 6, 3, 0, 0, 5],\n",
    "        [0, 5, 0, 0, 9, 0, 6, 0, 0],\n",
    "        [1, 3, 0, 0, 0, 0, 2, 5, 0],\n",
    "        [0, 0, 0, 0, 0, 0, 0, 7, 4],\n",
    "        [0, 0, 5, 2, 0, 6, 3, 0, 0]]\n"
   ]
  },
  {
   "cell_type": "code",
   "execution_count": 6,
   "metadata": {},
   "outputs": [
    {
     "data": {
      "text/plain": [
       "[[3, 0, 6, 5, 0, 8, 4, 0, 0],\n",
       " [5, 2, 0, 0, 0, 0, 0, 0, 0],\n",
       " [0, 8, 7, 0, 0, 0, 0, 3, 1],\n",
       " [0, 0, 3, 0, 1, 0, 0, 8, 0],\n",
       " [9, 0, 0, 8, 6, 3, 0, 0, 5],\n",
       " [0, 5, 0, 0, 9, 0, 6, 0, 0],\n",
       " [1, 3, 0, 0, 0, 0, 2, 5, 0],\n",
       " [0, 0, 0, 0, 0, 0, 0, 7, 4],\n",
       " [0, 0, 5, 2, 0, 6, 3, 0, 0]]"
      ]
     },
     "execution_count": 6,
     "metadata": {},
     "output_type": "execute_result"
    }
   ],
   "source": [
    "grid"
   ]
  },
  {
   "cell_type": "code",
   "execution_count": 7,
   "metadata": {},
   "outputs": [],
   "source": [
    "\n",
    "arr = np.array(grid)"
   ]
  },
  {
   "cell_type": "code",
   "execution_count": 8,
   "metadata": {},
   "outputs": [
    {
     "data": {
      "text/plain": [
       "(9, 9)"
      ]
     },
     "execution_count": 8,
     "metadata": {},
     "output_type": "execute_result"
    }
   ],
   "source": [
    "arr.shape"
   ]
  },
  {
   "cell_type": "code",
   "execution_count": 9,
   "metadata": {},
   "outputs": [
    {
     "data": {
      "text/plain": [
       "array([[3, 0, 6, 5, 0, 8, 4, 0, 0],\n",
       "       [5, 2, 0, 0, 0, 0, 0, 0, 0],\n",
       "       [0, 8, 7, 0, 0, 0, 0, 3, 1],\n",
       "       [0, 0, 3, 0, 1, 0, 0, 8, 0],\n",
       "       [9, 0, 0, 8, 6, 3, 0, 0, 5],\n",
       "       [0, 5, 0, 0, 9, 0, 6, 0, 0],\n",
       "       [1, 3, 0, 0, 0, 0, 2, 5, 0],\n",
       "       [0, 0, 0, 0, 0, 0, 0, 7, 4],\n",
       "       [0, 0, 5, 2, 0, 6, 3, 0, 0]])"
      ]
     },
     "execution_count": 9,
     "metadata": {},
     "output_type": "execute_result"
    }
   ],
   "source": [
    "arr"
   ]
  },
  {
   "cell_type": "code",
   "execution_count": null,
   "metadata": {},
   "outputs": [],
   "source": []
  }
 ],
 "metadata": {
  "kernelspec": {
   "display_name": "Python 3",
   "language": "python",
   "name": "python3"
  },
  "language_info": {
   "codemirror_mode": {
    "name": "ipython",
    "version": 3
   },
   "file_extension": ".py",
   "mimetype": "text/x-python",
   "name": "python",
   "nbconvert_exporter": "python",
   "pygments_lexer": "ipython3",
   "version": "3.7.4"
  }
 },
 "nbformat": 4,
 "nbformat_minor": 4
}
